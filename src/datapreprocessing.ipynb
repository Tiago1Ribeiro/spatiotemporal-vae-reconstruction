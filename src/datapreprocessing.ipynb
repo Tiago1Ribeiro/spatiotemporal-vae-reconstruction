{
 "cells": [
  {
   "cell_type": "code",
   "execution_count": 34,
   "metadata": {},
   "outputs": [],
   "source": [
    "import os\n",
    "os.environ['TF_CPP_MIN_LOG_LEVEL'] = '2' \n",
    "from glob import glob\n",
    "import yaml\n",
    "import numpy as np\n",
    "from patoolib import extract_archive\n",
    "import importlib\n",
    "\n",
    "import utils             # the module to reload\n",
    "importlib.reload(utils)  # reload the module\n",
    "from utils import wkt2masc, load_images_from_folder\n",
    "\n",
    "import cvae_model             # the module to reload\n",
    "importlib.reload(cvae_model)  # reload the module\n",
    "from cvae_model import CVAE"
   ]
  },
  {
   "cell_type": "code",
   "execution_count": 6,
   "metadata": {},
   "outputs": [],
   "source": [
    "current_dir = os.getcwd()\n",
    "BASE_DIR = os.path.dirname(current_dir)\n",
    "dataset_dir = os.path.join(BASE_DIR, 'dataset')\n",
    "data_dir = os.path.join(BASE_DIR, 'data')\n",
    "config_file = os.path.join(BASE_DIR, 'config.yml')\n",
    "\n",
    "DATA = \"full\"  # \"full\" or \"sampled\""
   ]
  },
  {
   "cell_type": "code",
   "execution_count": 23,
   "metadata": {},
   "outputs": [],
   "source": [
    "# if there isn´t unrar installed, install it with: sudo apt-get install unrar (linux)\n",
    "# for windows, install it from: https://www.rarlab.com/rar_add.htm (unrarw32.exe)\n",
    "\n",
    "dataset_path = os.path.join(dataset_dir, \"BurnedAreaUAV_dataset\")\n",
    "if not os.path.exists(dataset_path):\n",
    "    extract_archive(os.path.join(dataset_dir, \"BurnedAreaUAV_dataset_v1.rar\"), program=\"unrar\", outdir=dataset_dir)\n",
    "    os.remove(os.path.join(dataset_dir, \"BurnedAreaUAV_dataset_v1.rar\"))\n",
    "\n",
    "with open(config_file, \"r\", encoding=\"utf-8\") as f:\n",
    "    config = yaml.safe_load(f)"
   ]
  },
  {
   "cell_type": "code",
   "execution_count": 4,
   "metadata": {},
   "outputs": [],
   "source": [
    "# !!! move images to train and test folders ERRADO!! PRECISAMOS È DAS MASCARAS !!!\n",
    "# dataset_train_imgs_path = os.path.join(dataset_path, 'PNG', 'train', 'frames')\n",
    "# dataset_test_imgs_path = os.path.join(dataset_path, 'PNG', 'test', 'frames')\n",
    "# train_imgs_list = [os.path.basename(x) for x in glob(dataset_train_imgs_path + \"/*.png\")]\n",
    "# test_imgs_list = [os.path.basename(x) for x in glob(dataset_test_imgs_path + \"/*.png\")]\n",
    "# train_imgs_dir = os.path.join(BASE_DIR, config[\"data\"][\"train_dir\"], \"images\")\n",
    "# test_imgs_dir = os.path.join(BASE_DIR, config[\"data\"][\"test_dir\"], \"images\")\n",
    "\n",
    "# if not os.path.exists(train_imgs_dir):\n",
    "#     os.makedirs(train_imgs_dir)\n",
    "    \n",
    "# if not os.path.exists(test_imgs_dir):\n",
    "#     os.makedirs(test_imgs_dir)\n",
    "\n",
    "# for file_name in train_imgs_list:\n",
    "#     source = os.path.join(dataset_train_imgs_path, file_name)\n",
    "#     destination = os.path.join(train_imgs_dir, file_name)\n",
    "#     os.rename(source, destination)\n",
    "\n",
    "# for file_name in test_imgs_list:\n",
    "#     source = os.path.join(dataset_test_imgs_path, file_name)\n",
    "#     destination = os.path.join(test_imgs_dir, file_name)\n",
    "#     os.rename(source, destination)\n",
    "    \n",
    "# test_imgs_dir = os.path.join(BASE_DIR, config[\"data\"][\"test_dir\"], \"images\")\n",
    "# images_test_path = os.path.join(dataset_path, \"BurnedAreaUAV_dataset_v1\", \"/PNG/test/frames\")"
   ]
  },
  {
   "cell_type": "markdown",
   "metadata": {},
   "source": [
    "### Masks directories creation and conversion"
   ]
  },
  {
   "cell_type": "code",
   "execution_count": 24,
   "metadata": {},
   "outputs": [
    {
     "name": "stdout",
     "output_type": "stream",
     "text": [
      "\n",
      "    --------------------------------------\n",
      "    # \u001b[1mProperties of the resulting masks\u001b[0m\n",
      "    # Width: 512, Height: 512\n",
      "    # Number of masks to create: 226\n",
      "    --------------------------------------\n",
      "    \n"
     ]
    },
    {
     "name": "stderr",
     "output_type": "stream",
     "text": [
      "  0%|          | 0/226 [00:00<?, ?it/s]"
     ]
    },
    {
     "name": "stderr",
     "output_type": "stream",
     "text": [
      "100%|██████████| 226/226 [00:00<00:00, 475.18it/s]\n"
     ]
    },
    {
     "name": "stdout",
     "output_type": "stream",
     "text": [
      "\n",
      "    --------------------------------------\n",
      "    # \u001b[1mProperties of the resulting masks\u001b[0m\n",
      "    # Width: 512, Height: 512\n",
      "    # Number of masks to create: 23\n",
      "    --------------------------------------\n",
      "    \n"
     ]
    },
    {
     "name": "stderr",
     "output_type": "stream",
     "text": [
      "100%|██████████| 23/23 [00:00<00:00, 463.98it/s]\n"
     ]
    }
   ],
   "source": [
    "dataset_train_msks_path = os.path.join(dataset_path, 'PNG', 'train', 'masks')\n",
    "dataset_test_msks_path = os.path.join(dataset_path, 'PNG', 'test', 'masks')\n",
    "train_msks_list = [os.path.basename(x) for x in glob(dataset_train_msks_path + \"/*.png\")]\n",
    "test_msks_list = [os.path.basename(x) for x in glob(dataset_test_msks_path + \"/*.png\")]\n",
    "\n",
    "\n",
    "\n",
    "# convert WKT files to segmentation masks : full train, sampled train and test\n",
    "train_masks_dir = os.path.join(BASE_DIR, config[\"data\"][\"train_dir\"], \"masks\")\n",
    "if not os.path.exists(train_masks_dir):\n",
    "    os.makedirs(train_masks_dir)\n",
    "\n",
    "test_masks_dir = os.path.join(BASE_DIR, config[\"data\"][\"test_dir\"], \"masks\")\n",
    "if not os.path.exists(test_masks_dir):\n",
    "    os.makedirs(test_masks_dir)\n",
    "\n",
    "\n",
    "# with open(sampled_masks_txt_path, \"r\", encoding=\"utf-8\") as f:\n",
    "#     polygons = f.readlines()\n",
    "#     # extract indexes\n",
    "#     indexes = [int(polygon.split(\",\")[0]) for polygon in polygons]\n",
    "\n",
    "\n",
    "# sampled_masks_txt_path = os.path.join(BASE_DIR, config[\"data\"][\"sampled_masks_txt\"])\n",
    "# train_sampled_masks_dir = os.path.join(BASE_DIR, config[\"data\"][\"train_sampled_dir\"], \"masks\")\n",
    "# if not os.path.exists(train_sampled_masks_dir):\n",
    "#     os.makedirs(train_sampled_masks_dir)\n",
    "\n",
    "wkt2masc(\n",
    "    wkt_file=os.path.join(BASE_DIR, config[\"data\"][\"train_wkt\"]),\n",
    "    images_path=train_masks_dir,\n",
    "    orig_dims=config[\"data\"][\"original_vid_dims\"],\n",
    "    height=config[\"data\"][\"input_size\"][0],\n",
    "    width=config[\"data\"][\"input_size\"][1],\n",
    ")\n",
    "\n",
    "wkt2masc(\n",
    "    wkt_file=os.path.join(BASE_DIR, config[\"data\"][\"test_wkt\"]),\n",
    "    images_path=test_masks_dir,\n",
    "    orig_dims=config[\"data\"][\"original_vid_dims\"],\n",
    "    height=config[\"data\"][\"input_size\"][0],\n",
    "    width=config[\"data\"][\"input_size\"][1],\n",
    ")\n",
    "\n",
    "# wkt2masc(\n",
    "#     wkt_file=os.path.join(BASE_DIR, config[\"data\"][\"sampled_masks_wkt\"]),\n",
    "#     images_path=train_sampled_masks_dir,\n",
    "#     orig_dims=config[\"data\"][\"original_vid_dims\"],\n",
    "#     height=config[\"data\"][\"input_size\"][0],\n",
    "#     width=config[\"data\"][\"input_size\"][1],\n",
    "# )"
   ]
  },
  {
   "cell_type": "code",
   "execution_count": 25,
   "metadata": {},
   "outputs": [
    {
     "name": "stdout",
     "output_type": "stream",
     "text": [
      "Train masks: 226\n",
      "Test masks: 23\n"
     ]
    }
   ],
   "source": [
    "# reconstruct the masks labels\n",
    "msks_train_paths = sorted(glob(os.path.join(train_masks_dir, \"*.png\")))\n",
    "msks_train_labels = [int(os.path.basename(m).split(\"_\")[1].split(\".\")[0]) * 100 for m in msks_train_paths]\n",
    "msks_test_paths = sorted(glob(os.path.join(test_masks_dir, \"*.png\")))\n",
    "msks_test_labels = [int(os.path.basename(m).split(\"_\")[1].split(\".\")[0]) * 100 + 20250 for m in msks_test_paths]\n",
    "\n",
    "# msks_train_sampled_paths = sorted(glob(os.path.join(train_sampled_masks_dir, \"*.png\")))\n",
    "# msks_train_sampled_labels = [100 * i for i in indexes]\n",
    "\n",
    "print(\"Train masks:\", len(msks_train_paths))\n",
    "# print(\"Train sampled masks:\", len(msks_train_sampled_paths))\n",
    "print(\"Test masks:\", len(msks_test_paths))"
   ]
  },
  {
   "cell_type": "markdown",
   "metadata": {},
   "source": [
    "### Load masks and process labels"
   ]
  },
  {
   "cell_type": "code",
   "execution_count": 26,
   "metadata": {},
   "outputs": [
    {
     "name": "stdout",
     "output_type": "stream",
     "text": [
      "------------------------------------------\n",
      "Variable        Shape              Dtype\n",
      "------------------------------------------\n",
      "train_imgs      (226, 512, 512, 1) float32\n",
      "train_labels    (226, 1)           float32\n",
      "~~~~~~~~~~~~~~~~~~~~~~~~~~~~~~~~~~~~~~~~~~\n",
      "test_imgs       (23, 512, 512, 1)  float32\n",
      "test_labels     (23, 1)            float32\n",
      "------------------------------------------\n"
     ]
    }
   ],
   "source": [
    "if DATA == 'full':\n",
    "    TRAIN_DIR = os.path.join(BASE_DIR, config[\"data\"][\"train_dir\"], \"masks\")\n",
    "else:\n",
    "    TRAIN_DIR = os.path.join(BASE_DIR, config[\"data\"][\"train_sampled_dir\"], \"masks\")\n",
    "TEST_DIR = os.path.join(BASE_DIR, config[\"data\"][\"test_dir\"], \"masks\")\n",
    "\n",
    "# train and test numpy arrays\n",
    "train_masks = load_images_from_folder(TRAIN_DIR, target_size=config[\"data\"][\"input_size\"])\n",
    "test_masks = load_images_from_folder(TEST_DIR, target_size=config[\"data\"][\"input_size\"])\n",
    "\n",
    "# labels normalization and reshaping\n",
    "max_val = np.max(msks_train_labels)\n",
    "train_labels = (msks_train_labels/max_val).astype(np.float32)\n",
    "train_labels = np.expand_dims(train_labels, axis=-1)\n",
    "test_labels = (msks_test_labels/max_val).astype(np.float32)\n",
    "test_labels = np.expand_dims(test_labels, axis=-1)\n",
    "\n",
    "print(\"-\" * 42)\n",
    "print(f\"{'Variable':<15} {'Shape':<18} {'Dtype'}\")\n",
    "print(\"-\" * 42)\n",
    "print(f\"{'train_imgs':<15} {str(train_masks.shape):<18} {train_masks.dtype}\")\n",
    "print(f\"{'train_labels':<15} {str(train_labels.shape):<18} {train_labels.dtype}\")\n",
    "print(\"~\" * 42)\n",
    "print(f\"{'test_imgs':<15} {str(test_masks.shape):<18} {test_masks.dtype}\")\n",
    "print(f\"{'test_labels':<15} {str(test_labels.shape):<18} {test_labels.dtype}\")\n",
    "print(\"-\" * 42)"
   ]
  },
  {
   "cell_type": "code",
   "execution_count": 27,
   "metadata": {},
   "outputs": [
    {
     "data": {
      "image/png": "[encoded data removed]",
      "text/plain": [
       "<Figure size 1000x600 with 5 Axes>"
      ]
     },
     "metadata": {},
     "output_type": "display_data"
    }
   ],
   "source": [
    "#plot some images and masks\n",
    "import matplotlib.pyplot as plt\n",
    "plt.figure(figsize=(10, 6))\n",
    "n_imgs = 5\n",
    "for i in range(n_imgs):\n",
    "    plt.subplot(1, n_imgs, i+1)\n",
    "    plt.imshow(train_masks[i+50])\n",
    "    # label in the title\n",
    "    plt.title(train_labels[i+50])\n",
    "plt.tight_layout()"
   ]
  },
  {
   "cell_type": "markdown",
   "metadata": {},
   "source": [
    "### Models"
   ]
  },
  {
   "cell_type": "code",
   "execution_count": 35,
   "metadata": {},
   "outputs": [
    {
     "name": "stderr",
     "output_type": "stream",
     "text": [
      "DEBUG:root:Building CVAE model using specified hyperparameters.\n",
      "DEBUG:root:Encoder: Input shape: (None, 512, 512)\n",
      "DEBUG:root:Encoder: Output shape after conv_block: (None, 256, 256, 32)\n",
      "DEBUG:root:Encoder: Output shape after Flatten: (None, 2097152)\n",
      "DEBUG:root:Encoder: Output shape after Dense layer: (None, 64)\n",
      "DEBUG:root:Decoder: Input shape after Concatenate: (None, 65)\n",
      "DEBUG:root:Decoder: Output shape after Dense layer: (None, 262144)\n",
      "DEBUG:root:Decoder: Output shape after Reshape layer: (None, 128, 128, 16)\n",
      "DEBUG:root:Decoder: Output shape after deconv_block: (None, 256, 256, 64)\n",
      "DEBUG:root:Decoder: Output shape after deconv_block: (None, 512, 512, 128)\n",
      "DEBUG:root:Decoder: Output shape after Conv2DTranspose layer: (None, 512, 512, 1)\n",
      "DEBUG:root:Combined Model: Output shape after decoder: (None, 512, 512)\n"
     ]
    }
   ],
   "source": [
    "# Instantiate the CVAE model\n",
    "cvae = CVAE(input_shape=config[\"data\"][\"input_size\"],\n",
    "            labels=train_labels, \n",
    "            config=config)"
   ]
  },
  {
   "cell_type": "code",
   "execution_count": 36,
   "metadata": {},
   "outputs": [],
   "source": [
    "cvae.compile(optimizer=config[\"CVAE\"][\"optimizer\"], \n",
    "             lr=config[\"CVAE\"][\"learning_rate\"])"
   ]
  },
  {
   "cell_type": "code",
   "execution_count": 37,
   "metadata": {},
   "outputs": [
    {
     "name": "stdout",
     "output_type": "stream",
     "text": [
      "Epoch 1/2\n"
     ]
    },
    {
     "ename": "TypeError",
     "evalue": "in user code:\n\n    File \"c:\\Users\\tiago\\miniconda3\\envs\\cvae\\lib\\site-packages\\keras\\src\\engine\\training.py\", line 1401, in train_function  *\n        return step_function(self, iterator)\n\n    TypeError: outer_factory.<locals>.inner_factory.<locals>.tf__mse_kl_loss() missing 2 required positional arguments: 'z_mean' and 'z_log_var'\n",
     "output_type": "error",
     "traceback": [
      "\u001b[1;31m---------------------------------------------------------------------------\u001b[0m",
      "\u001b[1;31mTypeError\u001b[0m                                 Traceback (most recent call last)",
      "Cell \u001b[1;32mIn[37], line 1\u001b[0m\n\u001b[1;32m----> 1\u001b[0m \u001b[43mcvae\u001b[49m\u001b[38;5;241;43m.\u001b[39;49m\u001b[43mtrain\u001b[49m\u001b[43m(\u001b[49m\u001b[43mtrain_data\u001b[49m\u001b[38;5;241;43m=\u001b[39;49m\u001b[43m(\u001b[49m\u001b[43mtrain_masks\u001b[49m\u001b[43m,\u001b[49m\u001b[43m \u001b[49m\u001b[43mtrain_labels\u001b[49m\u001b[43m)\u001b[49m\u001b[43m,\u001b[49m\n\u001b[0;32m      2\u001b[0m \u001b[43m           \u001b[49m\u001b[43mepochs\u001b[49m\u001b[38;5;241;43m=\u001b[39;49m\u001b[38;5;241;43m2\u001b[39;49m\u001b[43m,\u001b[49m\u001b[43m \u001b[49m\n\u001b[0;32m      3\u001b[0m \u001b[43m           \u001b[49m\u001b[43mbatch_size\u001b[49m\u001b[38;5;241;43m=\u001b[39;49m\u001b[38;5;241;43m2\u001b[39;49m\u001b[43m,\u001b[49m\n\u001b[0;32m      4\u001b[0m \u001b[43m           \u001b[49m\u001b[43mvalidation_data\u001b[49m\u001b[38;5;241;43m=\u001b[39;49m\u001b[43m(\u001b[49m\u001b[43m[\u001b[49m\u001b[43mtest_masks\u001b[49m\u001b[43m,\u001b[49m\u001b[43m \u001b[49m\u001b[43mtest_labels\u001b[49m\u001b[43m]\u001b[49m\u001b[43m,\u001b[49m\u001b[43m \u001b[49m\u001b[43mtest_masks\u001b[49m\u001b[43m)\u001b[49m\u001b[43m,\u001b[49m\n\u001b[0;32m      5\u001b[0m \u001b[43m           \u001b[49m\u001b[43mcallbacks\u001b[49m\u001b[38;5;241;43m=\u001b[39;49m\u001b[43m[\u001b[49m\u001b[43m]\u001b[49m\u001b[43m)\u001b[49m\n",
      "File \u001b[1;32mc:\\Projectos\\spatiotemporal-vae-reconstruction\\src\\cvae_model.py:321\u001b[0m, in \u001b[0;36mCVAE.train\u001b[1;34m(self, train_data, epochs, callbacks, batch_size, validation_data)\u001b[0m\n\u001b[0;32m    319\u001b[0m x_train, y_train \u001b[38;5;241m=\u001b[39m train_data\n\u001b[0;32m    320\u001b[0m x_val, y_val \u001b[38;5;241m=\u001b[39m validation_data\n\u001b[1;32m--> 321\u001b[0m history \u001b[38;5;241m=\u001b[39m \u001b[38;5;28;43mself\u001b[39;49m\u001b[38;5;241;43m.\u001b[39;49m\u001b[43mvae\u001b[49m\u001b[38;5;241;43m.\u001b[39;49m\u001b[43mfit\u001b[49m\u001b[43m(\u001b[49m\n\u001b[0;32m    322\u001b[0m \u001b[43m    \u001b[49m\u001b[43m[\u001b[49m\u001b[43mx_train\u001b[49m\u001b[43m,\u001b[49m\u001b[43m \u001b[49m\u001b[43my_train\u001b[49m\u001b[43m]\u001b[49m\u001b[43m,\u001b[49m\n\u001b[0;32m    323\u001b[0m \u001b[43m    \u001b[49m\u001b[43mx_train\u001b[49m\u001b[43m,\u001b[49m\n\u001b[0;32m    324\u001b[0m \u001b[43m    \u001b[49m\u001b[43mepochs\u001b[49m\u001b[38;5;241;43m=\u001b[39;49m\u001b[43mepochs\u001b[49m\u001b[43m,\u001b[49m\n\u001b[0;32m    325\u001b[0m \u001b[43m    \u001b[49m\u001b[43mbatch_size\u001b[49m\u001b[38;5;241;43m=\u001b[39;49m\u001b[43mbatch_size\u001b[49m\u001b[43m,\u001b[49m\n\u001b[0;32m    326\u001b[0m \u001b[43m    \u001b[49m\u001b[43mcallbacks\u001b[49m\u001b[38;5;241;43m=\u001b[39;49m\u001b[43mcallbacks\u001b[49m\u001b[43m,\u001b[49m\n\u001b[0;32m    327\u001b[0m \u001b[43m    \u001b[49m\u001b[43mvalidation_data\u001b[49m\u001b[38;5;241;43m=\u001b[39;49m\u001b[43m(\u001b[49m\u001b[43m[\u001b[49m\u001b[43mx_val\u001b[49m\u001b[43m,\u001b[49m\u001b[43m \u001b[49m\u001b[43my_val\u001b[49m\u001b[43m]\u001b[49m\u001b[43m,\u001b[49m\u001b[43m \u001b[49m\u001b[43mx_val\u001b[49m\u001b[43m)\u001b[49m\u001b[43m,\u001b[49m\n\u001b[0;32m    328\u001b[0m \u001b[43m\u001b[49m\u001b[43m)\u001b[49m\n\u001b[0;32m    329\u001b[0m \u001b[38;5;28;01mreturn\u001b[39;00m history\n",
      "File \u001b[1;32mc:\\Users\\tiago\\miniconda3\\envs\\cvae\\lib\\site-packages\\keras\\src\\utils\\traceback_utils.py:70\u001b[0m, in \u001b[0;36mfilter_traceback.<locals>.error_handler\u001b[1;34m(*args, **kwargs)\u001b[0m\n\u001b[0;32m     67\u001b[0m     filtered_tb \u001b[38;5;241m=\u001b[39m _process_traceback_frames(e\u001b[38;5;241m.\u001b[39m__traceback__)\n\u001b[0;32m     68\u001b[0m     \u001b[38;5;66;03m# To get the full stack trace, call:\u001b[39;00m\n\u001b[0;32m     69\u001b[0m     \u001b[38;5;66;03m# `tf.debugging.disable_traceback_filtering()`\u001b[39;00m\n\u001b[1;32m---> 70\u001b[0m     \u001b[38;5;28;01mraise\u001b[39;00m e\u001b[38;5;241m.\u001b[39mwith_traceback(filtered_tb) \u001b[38;5;28;01mfrom\u001b[39;00m \u001b[38;5;28;01mNone\u001b[39;00m\n\u001b[0;32m     71\u001b[0m \u001b[38;5;28;01mfinally\u001b[39;00m:\n\u001b[0;32m     72\u001b[0m     \u001b[38;5;28;01mdel\u001b[39;00m filtered_tb\n",
      "File \u001b[1;32m~\\AppData\\Local\\Temp\\__autograph_generated_fileaxf_9t4m.py:15\u001b[0m, in \u001b[0;36mouter_factory.<locals>.inner_factory.<locals>.tf__train_function\u001b[1;34m(iterator)\u001b[0m\n\u001b[0;32m     13\u001b[0m \u001b[38;5;28;01mtry\u001b[39;00m:\n\u001b[0;32m     14\u001b[0m     do_return \u001b[38;5;241m=\u001b[39m \u001b[38;5;28;01mTrue\u001b[39;00m\n\u001b[1;32m---> 15\u001b[0m     retval_ \u001b[38;5;241m=\u001b[39m ag__\u001b[38;5;241m.\u001b[39mconverted_call(ag__\u001b[38;5;241m.\u001b[39mld(step_function), (ag__\u001b[38;5;241m.\u001b[39mld(\u001b[38;5;28mself\u001b[39m), ag__\u001b[38;5;241m.\u001b[39mld(iterator)), \u001b[38;5;28;01mNone\u001b[39;00m, fscope)\n\u001b[0;32m     16\u001b[0m \u001b[38;5;28;01mexcept\u001b[39;00m:\n\u001b[0;32m     17\u001b[0m     do_return \u001b[38;5;241m=\u001b[39m \u001b[38;5;28;01mFalse\u001b[39;00m\n",
      "\u001b[1;31mTypeError\u001b[0m: in user code:\n\n    File \"c:\\Users\\tiago\\miniconda3\\envs\\cvae\\lib\\site-packages\\keras\\src\\engine\\training.py\", line 1401, in train_function  *\n        return step_function(self, iterator)\n\n    TypeError: outer_factory.<locals>.inner_factory.<locals>.tf__mse_kl_loss() missing 2 required positional arguments: 'z_mean' and 'z_log_var'\n"
     ]
    }
   ],
   "source": [
    "# FALTA AQUI INPUTR DE TRAIN MASKS...\n",
    "\n",
    "cvae.train(train_data=(train_masks, train_labels),\n",
    "           epochs=2, \n",
    "           batch_size=2,\n",
    "           validation_data=([test_masks, test_labels], test_masks),\n",
    "           callbacks=[])\n"
   ]
  },
  {
   "cell_type": "markdown",
   "metadata": {},
   "source": []
  },
  {
   "cell_type": "markdown",
   "metadata": {},
   "source": []
  },
  {
   "cell_type": "code",
   "execution_count": 73,
   "metadata": {},
   "outputs": [
    {
     "name": "stdout",
     "output_type": "stream",
     "text": [
      "Config type: <class 'dict'>\n"
     ]
    }
   ],
   "source": [
    "\n",
    "\n",
    "# Build CVAE model\n",
    "cvae_model = cvae.build_cvae()\n",
    "\n",
    "# Compile CVAE model\n",
    "cvae.compile_cvae(optimizer='adam')\n",
    "\n",
    "# Train CVAE model\n",
    "cvae.train_cvae(train_data=(x_train, y_train), epochs=1, batch_size=32,\n",
    "                callbacks=[tensorboard_callback])\n"
   ]
  },
  {
   "cell_type": "code",
   "execution_count": null,
   "metadata": {},
   "outputs": [],
   "source": []
  },
  {
   "cell_type": "code",
   "execution_count": 13,
   "metadata": {},
   "outputs": [
    {
     "data": {
      "text/plain": [
       "64"
      ]
     },
     "execution_count": 13,
     "metadata": {},
     "output_type": "execute_result"
    }
   ],
   "source": [
    "config[\"CVAE\"][\"latent_dim\"]\n"
   ]
  }
 ],
 "metadata": {
  "kernelspec": {
   "display_name": "cvae",
   "language": "python",
   "name": "python3"
  },
  "language_info": {
   "codemirror_mode": {
    "name": "ipython",
    "version": 3
   },
   "file_extension": ".py",
   "mimetype": "text/x-python",
   "name": "python",
   "nbconvert_exporter": "python",
   "pygments_lexer": "ipython3",
   "version": "3.10.13"
  }
 },
 "nbformat": 4,
 "nbformat_minor": 2
}
