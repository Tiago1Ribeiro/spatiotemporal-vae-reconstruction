{
 "cells": [
  {
   "cell_type": "markdown",
   "metadata": {},
   "source": [
    "### Libraries"
   ]
  },
  {
   "cell_type": "code",
   "execution_count": 41,
   "metadata": {},
   "outputs": [],
   "source": [
    "import os\n",
    "import sys\n",
    "import itertools\n",
    "import yaml\n",
    "from patoolib import extract_archive\n",
    "\n",
    "# Local Module Imports\n",
    "sys.path.append(\"../src\")  # adds source code directory\n",
    "from utils import wkt_to_masc"
   ]
  },
  {
   "cell_type": "markdown",
   "metadata": {},
   "source": [
    "### Main directories"
   ]
  },
  {
   "cell_type": "code",
   "execution_count": 17,
   "metadata": {},
   "outputs": [],
   "source": [
    "current_dir = os.getcwd()\n",
    "base_dir = os.path.dirname(current_dir)\n",
    "dataset_dir = os.path.join(base_dir, \"dataset\")\n",
    "data_dir = os.path.join(base_dir, \"data\")\n",
    "config_file = os.path.join(base_dir, \"config.yml\")"
   ]
  },
  {
   "cell_type": "markdown",
   "metadata": {},
   "source": [
    "#### Dataset extration and config file loading"
   ]
  },
  {
   "cell_type": "code",
   "execution_count": 18,
   "metadata": {},
   "outputs": [],
   "source": [
    "# if there isn´t unrar installed, install it with: sudo apt-get install unrar (linux)\n",
    "# for windows, install it from: https://www.rarlab.com/rar_add.htm (unrarw32.exe)\n",
    "\n",
    "dataset_path = os.path.join(dataset_dir, \"BurnedAreaUAV_dataset\")\n",
    "if not os.path.exists(dataset_path):\n",
    "    extract_archive(\n",
    "        os.path.join(dataset_dir, \"BurnedAreaUAV_dataset_v1.rar\"),\n",
    "        program=\"unrar\",\n",
    "        outdir=dataset_dir,\n",
    "    )\n",
    "    os.remove(os.path.join(dataset_dir, \"BurnedAreaUAV_dataset_v1.rar\"))\n",
    "\n",
    "with open(config_file, \"r\", encoding=\"utf-8\") as f:\n",
    "    config = yaml.safe_load(f)"
   ]
  },
  {
   "cell_type": "markdown",
   "metadata": {},
   "source": [
    "#### Output directory struture creation"
   ]
  },
  {
   "cell_type": "code",
   "execution_count": 23,
   "metadata": {},
   "outputs": [],
   "source": [
    "model_names = [\"CVAE\", \"pstg\", \"shape\"] \n",
    "keys = [\"interpol\", \"extrapol\"]\n",
    "sub_keys = [\"full\", \"sampled\"]\n",
    "sub_sub_keys = [\"PNG\", \"WKT\"]\n",
    "\n",
    "for model_name in model_names:\n",
    "    for key in (keys if model_name == \"CVAE\" else [\"interpol\"]):\n",
    "        for sub_key, sub_sub_key in itertools.product(sub_keys, sub_sub_keys):\n",
    "            # Create the directories\n",
    "            dir_path = os.path.join(base_dir, \"outputs\", model_name, key, sub_key, sub_sub_key)\n",
    "            os.makedirs(dir_path, exist_ok=True)\n",
    "            # Create a .gitkeep file in the directory\n",
    "            with open(os.path.join(dir_path, \".gitkeep\"), \"w\") as f:\n",
    "                pass"
   ]
  },
  {
   "cell_type": "markdown",
   "metadata": {},
   "source": [
    "#### Masks directory creation"
   ]
  },
  {
   "cell_type": "code",
   "execution_count": 27,
   "metadata": {},
   "outputs": [],
   "source": [
    "train_masks_dir = os.path.join(base_dir, config[\"data\"][\"train_dir\"], \"masks\")\n",
    "if not os.path.exists(train_masks_dir):\n",
    "    os.makedirs(train_masks_dir)\n",
    "\n",
    "test_masks_dir = os.path.join(base_dir, config[\"data\"][\"test_dir\"], \"masks\")\n",
    "if not os.path.exists(test_masks_dir):\n",
    "    os.makedirs(test_masks_dir)\n",
    "\n",
    "train_sampled_masks_dir = os.path.join(\n",
    "    base_dir, config[\"data\"][\"train_sampled_dir\"], \"masks\"\n",
    ")\n",
    "if not os.path.exists(train_sampled_masks_dir):\n",
    "    os.makedirs(train_sampled_masks_dir)"
   ]
  },
  {
   "cell_type": "markdown",
   "metadata": {},
   "source": [
    "### WKT files to masks connversion"
   ]
  },
  {
   "cell_type": "code",
   "execution_count": 40,
   "metadata": {},
   "outputs": [
    {
     "name": "stderr",
     "output_type": "stream",
     "text": [
      "INFO - \n",
      "    --------------------------------------\n",
      "    # \u001b[1mProperties of the resulting masks\u001b[0m\n",
      "    # Width: 512, Height: 512\n",
      "    # Number of masks to create: 226\n",
      "    --------------------------------------\n",
      "    \n",
      "100%|██████████| 226/226 [00:00<00:00, 588.33it/s]\n",
      "INFO - \n",
      "    --------------------------------------\n",
      "    # \u001b[1mProperties of the resulting masks\u001b[0m\n",
      "    # Width: 512, Height: 512\n",
      "    # Number of masks to create: 23\n",
      "    --------------------------------------\n",
      "    \n",
      "100%|██████████| 23/23 [00:00<00:00, 632.64it/s]\n",
      "INFO - \n",
      "    --------------------------------------\n",
      "    # \u001b[1mProperties of the resulting masks\u001b[0m\n",
      "    # Width: 512, Height: 512\n",
      "    # Number of masks to create: 13\n",
      "    --------------------------------------\n",
      "    \n",
      "100%|██████████| 13/13 [00:00<00:00, 534.88it/s]\n"
     ]
    }
   ],
   "source": [
    "# full training set\n",
    "wkt_to_masc(\n",
    "    wkt_file=os.path.join(base_dir, config[\"data\"][\"train_wkt\"]),\n",
    "    images_path=train_masks_dir,\n",
    "    orig_dims=config[\"data\"][\"original_vid_dims\"][::-1],\n",
    "    height=config[\"data\"][\"input_size\"][0],\n",
    "    width=config[\"data\"][\"input_size\"][1],\n",
    ")\n",
    "\n",
    "# test set\n",
    "wkt_to_masc(\n",
    "    wkt_file=os.path.join(base_dir, config[\"data\"][\"test_wkt\"]),\n",
    "    images_path=test_masks_dir,\n",
    "    orig_dims=config[\"data\"][\"original_vid_dims\"][::-1],\n",
    "    height=config[\"data\"][\"input_size\"][0],\n",
    "    width=config[\"data\"][\"input_size\"][1],\n",
    ")\n",
    "\n",
    "# sampled training set\n",
    "wkt_to_masc(\n",
    "    wkt_file=os.path.join(base_dir, config[\"data\"][\"sampled_masks_wkt\"]),\n",
    "    images_path=train_sampled_masks_dir,\n",
    "    orig_dims=config[\"data\"][\"original_vid_dims\"][::-1],\n",
    "    height=config[\"data\"][\"input_size\"][0],\n",
    "    width=config[\"data\"][\"input_size\"][1],\n",
    "    )\n"
   ]
  }
 ],
 "metadata": {
  "kernelspec": {
   "display_name": "cvae",
   "language": "python",
   "name": "python3"
  },
  "language_info": {
   "codemirror_mode": {
    "name": "ipython",
    "version": 3
   },
   "file_extension": ".py",
   "mimetype": "text/x-python",
   "name": "python",
   "nbconvert_exporter": "python",
   "pygments_lexer": "ipython3",
   "version": "3.10.13"
  }
 },
 "nbformat": 4,
 "nbformat_minor": 2
}
