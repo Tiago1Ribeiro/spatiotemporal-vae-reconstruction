{
 "cells": [
  {
   "cell_type": "markdown",
   "metadata": {},
   "source": [
    "### Libraries"
   ]
  },
  {
   "cell_type": "code",
   "execution_count": 26,
   "metadata": {},
   "outputs": [],
   "source": [
    "import pandas as pd\n",
    "import numpy as np\n",
    "import matplotlib.pyplot as plt\n",
    "import os\n",
    "import yaml\n",
    "# Local Module Imports\n",
    "import sys\n",
    "import importlib\n",
    "\n",
    "sys.path.insert(0, \"../src\")\n",
    "import visualization\n",
    "\n",
    "importlib.reload(visualization)\n",
    "from visualization import create_boxplot\n",
    "\n",
    "import utils\n",
    "\n",
    "importlib.reload(utils)\n",
    "from utils import get_files_dirs_ext\n"
   ]
  },
  {
   "cell_type": "code",
   "execution_count": 31,
   "metadata": {},
   "outputs": [],
   "source": [
    "# Set base directory\n",
    "BASE_DIR = os.path.dirname(os.getcwd())\n",
    "# model output directory\n",
    "OUTPUT_DIR = os.path.join(BASE_DIR, \"output\")\n",
    "\n",
    "# Load 'config' file\n",
    "config_file = os.path.join(BASE_DIR, \"config.yml\")\n",
    "with open(config_file, \"r\", encoding=\"utf-8\") as f:\n",
    "    config = yaml.safe_load(f)"
   ]
  },
  {
   "cell_type": "code",
   "execution_count": 9,
   "metadata": {},
   "outputs": [],
   "source": [
    "df_int_iou = pd.read_csv('interpol_iou.csv')\n",
    "df_int_hd = pd.read_csv('interpol_hd.csv')\n",
    "df_ext_70_hd = pd.read_csv('extrapol_70_hd.csv')\n",
    "df_ext_90_hd = pd.read_csv('extrapol_90_hd.csv')\n",
    "df_ext_70_iou = pd.read_csv('extrapol_70_iou.csv')\n",
    "df_ext_90_iou = pd.read_csv('extrapol_90_iou.csv')"
   ]
  },
  {
   "cell_type": "code",
   "execution_count": 16,
   "metadata": {},
   "outputs": [
    {
     "data": {
      "text/plain": [
       "0    [0.8866869554117072, 0.9079692754977028, 0.896...\n",
       "1    [0.9252892156155551, 0.9413981610619676, 0.933...\n",
       "2    [0.8685295915661158, 0.8924251652115361, 0.891...\n",
       "3    [0.9054595207782747, 0.9299367498003063, 0.921...\n",
       "4    [0.8028163202106775, 0.8259772608769321, 0.819...\n",
       "5    [0.8284797621854328, 0.8039887716053437, 0.803...\n",
       "Name: hd_list, dtype: object"
      ]
     },
     "execution_count": 16,
     "metadata": {},
     "output_type": "execute_result"
    }
   ],
   "source": [
    "df_int_iou[\"hd_list\"]"
   ]
  },
  {
   "cell_type": "code",
   "execution_count": 32,
   "metadata": {},
   "outputs": [],
   "source": [
    "csv_files = get_files_dirs_ext(dirs=OUTPUT_DIR, ext=\"csv\", return_paths=True)\n",
    "csv_files"
   ]
  },
  {
   "cell_type": "code",
   "execution_count": 23,
   "metadata": {},
   "outputs": [
    {
     "data": {
      "text/plain": [
       "[]"
      ]
     },
     "execution_count": 23,
     "metadata": {},
     "output_type": "execute_result"
    }
   ],
   "source": [
    "csv_files"
   ]
  }
 ],
 "metadata": {
  "kernelspec": {
   "display_name": "cvae",
   "language": "python",
   "name": "python3"
  },
  "language_info": {
   "codemirror_mode": {
    "name": "ipython",
    "version": 3
   },
   "file_extension": ".py",
   "mimetype": "text/x-python",
   "name": "python",
   "nbconvert_exporter": "python",
   "pygments_lexer": "ipython3",
   "version": "3.10.13"
  }
 },
 "nbformat": 4,
 "nbformat_minor": 2
}
