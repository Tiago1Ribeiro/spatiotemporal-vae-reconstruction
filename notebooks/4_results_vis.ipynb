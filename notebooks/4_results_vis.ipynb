{
 "cells": [
  {
   "cell_type": "markdown",
   "metadata": {},
   "source": [
    "### Libraries"
   ]
  },
  {
   "cell_type": "code",
   "execution_count": 26,
   "metadata": {},
   "outputs": [],
   "source": [
    "import pandas as pd\n",
    "import numpy as np\n",
    "import matplotlib.pyplot as plt\n",
    "import os\n",
    "import yaml\n",
    "# Local Module Imports\n",
    "import sys\n",
    "import importlib\n",
    "\n",
    "sys.path.insert(0, \"../src\")\n",
    "import visualization\n",
    "\n",
    "importlib.reload(visualization)\n",
    "from visualization import create_boxplot\n",
    "\n",
    "import utils\n",
    "\n",
    "importlib.reload(utils)\n",
    "from utils import get_files_dirs_ext\n"
   ]
  },
  {
   "cell_type": "code",
   "execution_count": 37,
   "metadata": {},
   "outputs": [],
   "source": [
    "# Set base directory\n",
    "BASE_DIR = os.path.dirname(os.getcwd())\n",
    "# model output directory\n",
    "OUTPUT_DIR = os.path.join(BASE_DIR, \"outputs\")\n",
    "\n",
    "# Load 'config' file\n",
    "config_file = os.path.join(BASE_DIR, \"config.yml\")\n",
    "with open(config_file, \"r\", encoding=\"utf-8\") as f:\n",
    "    config = yaml.safe_load(f)"
   ]
  },
  {
   "cell_type": "code",
   "execution_count": 9,
   "metadata": {},
   "outputs": [],
   "source": [
    "df_int_iou = pd.read_csv('interpol_iou.csv')\n",
    "df_int_hd = pd.read_csv('interpol_hd.csv')\n",
    "df_ext_70_hd = pd.read_csv('extrapol_70_hd.csv')\n",
    "df_ext_90_hd = pd.read_csv('extrapol_90_hd.csv')\n",
    "df_ext_70_iou = pd.read_csv('extrapol_70_iou.csv')\n",
    "df_ext_90_iou = pd.read_csv('extrapol_90_iou.csv')"
   ]
  },
  {
   "cell_type": "code",
   "execution_count": 44,
   "metadata": {},
   "outputs": [
    {
     "data": {
      "text/plain": [
       "['/home/tiagociic/Projectos/spatiotemporal-vae-reconstruction/outputs/shape/interpol/full/WKT/tc.csv',\n",
       " '/home/tiagociic/Projectos/spatiotemporal-vae-reconstruction/outputs/pstg/interpol/full/WKT/tc.csv',\n",
       " '/home/tiagociic/Projectos/spatiotemporal-vae-reconstruction/outputs/CVAE/extrapol/90/unet/WKT/tc.csv',\n",
       " '/home/tiagociic/Projectos/spatiotemporal-vae-reconstruction/outputs/shape/interpol/sampled/WKT/tc.csv',\n",
       " '/home/tiagociic/Projectos/spatiotemporal-vae-reconstruction/outputs/CVAE/extrapol/70/full/WKT/tc.csv',\n",
       " '/home/tiagociic/Projectos/spatiotemporal-vae-reconstruction/outputs/CVAE/extrapol/70/unet/WKT/tc.csv',\n",
       " '/home/tiagociic/Projectos/spatiotemporal-vae-reconstruction/outputs/CVAE/interpol/sampled/WKT/tc.csv',\n",
       " '/home/tiagociic/Projectos/spatiotemporal-vae-reconstruction/outputs/pstg/interpol/sampled/WKT/tc.csv',\n",
       " '/home/tiagociic/Projectos/spatiotemporal-vae-reconstruction/outputs/CVAE/interpol/full/WKT/tc.csv',\n",
       " '/home/tiagociic/Projectos/spatiotemporal-vae-reconstruction/outputs/CVAE/extrapol/90/sampled/WKT/tc.csv',\n",
       " '/home/tiagociic/Projectos/spatiotemporal-vae-reconstruction/outputs/CVAE/extrapol/70/sampled/WKT/tc.csv',\n",
       " '/home/tiagociic/Projectos/spatiotemporal-vae-reconstruction/outputs/CVAE/extrapol/90/full/WKT/tc.csv']"
      ]
     },
     "execution_count": 44,
     "metadata": {},
     "output_type": "execute_result"
    }
   ],
   "source": [
    "wkt_dirs = []\n",
    "\n",
    "for dirpath, _, _ in os.walk(OUTPUT_DIR):\n",
    "    if os.path.basename(dirpath) == \"WKT\":\n",
    "        wkt_dirs.append(dirpath)\n",
    "\n",
    "tc_csv = get_files_dirs_ext(wkt_dirs, ext=\"csv\", return_paths=True)\n",
    "tc_csv "
   ]
  }
 ],
 "metadata": {
  "kernelspec": {
   "display_name": "cvae",
   "language": "python",
   "name": "python3"
  },
  "language_info": {
   "codemirror_mode": {
    "name": "ipython",
    "version": 3
   },
   "file_extension": ".py",
   "mimetype": "text/x-python",
   "name": "python",
   "nbconvert_exporter": "python",
   "pygments_lexer": "ipython3",
   "version": "3.10.13"
  }
 },
 "nbformat": 4,
 "nbformat_minor": 2
}
