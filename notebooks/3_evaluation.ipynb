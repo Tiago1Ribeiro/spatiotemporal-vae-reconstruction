{
 "cells": [
  {
   "cell_type": "markdown",
   "metadata": {},
   "source": [
    "## Libraries"
   ]
  },
  {
   "cell_type": "code",
   "execution_count": 15,
   "metadata": {},
   "outputs": [],
   "source": [
    "import os\n",
    "import yaml\n",
    "import cv2\n",
    "import numpy as np\n",
    "import math\n",
    "from glob import glob\n",
    "from PIL import Image\n",
    "import matplotlib.pyplot as plt\n",
    "from shapely import wkt\n",
    "from shapely.geometry import Polygon, MultiPolygon, shape\n",
    "from shapely.affinity import scale\n",
    "from rasterio.features import shapes\n",
    "from rasterio import Affine\n",
    "from shapely.wkt import loads\n",
    "from shapely import hausdorff_distance\n",
    "from shapely.validation import make_valid\n",
    "\n",
    "# from shapely.geometry.base import geom_factory\n",
    "# from shapely.geos import lgeos\n",
    "# os.environ['USE_PYGEOS'] = '0'      # to avoid a bug in geopandas\n",
    "# import geopandas as gpd\n",
    "\n",
    "# Local Module Imports\n",
    "import sys\n",
    "sys.path.insert(0, \"../src\")\n",
    "from utils import wkt2masc, load_images_from_folder, frame_to_label\n",
    "from log_setup import logger\n",
    "from eval import hausdorff_dist_wkt, iou_wkt\n",
    "from visualization import create_boxplot"
   ]
  },
  {
   "cell_type": "markdown",
   "metadata": {},
   "source": [
    "## Data Sources"
   ]
  },
  {
   "cell_type": "code",
   "execution_count": 3,
   "metadata": {},
   "outputs": [],
   "source": [
    "# Base directory\n",
    "current_dir = os.getcwd()\n",
    "BASE_DIR = os.path.dirname(current_dir)\n",
    "\n",
    "# Output directory\n",
    "output_dir = \"../outputs\"\n",
    "\n",
    "# Pyspatiotemporalgeom, Shape Based, CVAE output directories\n",
    "pstg_dir = os.path.join(output_dir, \"pstg\")\n",
    "shpe_dir = os.path.join(output_dir, \"shape\")\n",
    "cvae_dir = os.path.join(output_dir, \"CVAE\")\n",
    "\n",
    "# Load config file\n",
    "config_file = os.path.join(BASE_DIR, \"config.yml\")\n",
    "with open(config_file, \"r\", encoding=\"utf-8\") as f:\n",
    "    config = yaml.safe_load(f)"
   ]
  },
  {
   "cell_type": "code",
   "execution_count": 6,
   "metadata": {},
   "outputs": [],
   "source": [
    "MODE = \"intepol\" # \"intepol\" or \"extrapol\"\n",
    "DATA = \"full\"    # \"full\" or \"sampled\""
   ]
  },
  {
   "cell_type": "markdown",
   "metadata": {},
   "source": [
    "### PNG to WKT conversion"
   ]
  },
  {
   "cell_type": "code",
   "execution_count": null,
   "metadata": {},
   "outputs": [],
   "source": [
    "# List of generated frames paths\n",
    "cvae_dir = os.path.join(cvae_dir, MODE, DATA)"
   ]
  },
  {
   "cell_type": "markdown",
   "metadata": {},
   "source": [
    "## [BurnedAreaUAV](https://zenodo.org/records/7944963) Test Set Evalution"
   ]
  },
  {
   "cell_type": "code",
   "execution_count": null,
   "metadata": {},
   "outputs": [],
   "source": [
    "logger.info(\"Reading WKTs files...\")\n",
    "with open(os.path.join(BASE_DIR, config[\"data\"][\"test_wkt\"]), \"r\") as f:\n",
    "    test_wkt = f.read().splitlines()\n",
    "\n",
    "with open(os.path.join(BASE_DIR, cvae_dir, MODE, DATA, \"WKT\"), \"r\") as f:\n",
    "    cvae_wkt = f.read().splitlines()\n",
    "\n",
    "with open(os.path.join(BASE_DIR, shpe_dir, MODE, DATA, \"WKT\"), \"r\") as f:\n",
    "    shp_wkt = f.read().splitlines()\n",
    "\n",
    "with open(os.path.join(BASE_DIR, pstg_dir, MODE, DATA, \"WKT\"), \"r\") as f:\n",
    "    pstg_wkt = f.read().splitlines()\n",
    "\n",
    "\n",
    "# test set frame indexes\n",
    "idx = np.linspace(20250, 22450, 23).astype(int)\n",
    "\n",
    "logger.info(\"Selecting test set corresponding lines only...\")\n",
    "shp_wkt = [shp_wkt[i] for i in idx]\n",
    "cvae_wkt = [cvae_wkt[i] for i in idx]\n",
    "pstg_wkt = [pstg_wkt[i] for i in idx]\n",
    "\n",
    "logger.info(f\"Shape based {MODE}ation: {len(shp_wkt):>5} frames\")\n",
    "logger.info(f\"Conditional VAE {MODE}ation: {len(cvae_wkt):>5} frames\")\n",
    "logger.info(f\"McKenney {MODE}ation: {len(pstg_wkt):>5} frames\")\n",
    "logger.info(\"~~~~~~~~~~~~~~~~~~~~~~~~~~~~~~~~~~~~~~~~~~~~~~~~~~~\")\n",
    "logger.info(f\"BurnedAreaUAV Test Set: {len(test_wkt):>5} frames\")"
   ]
  },
  {
   "cell_type": "markdown",
   "metadata": {},
   "source": [
    "### Hausdorf Distance"
   ]
  },
  {
   "cell_type": "code",
   "execution_count": null,
   "metadata": {},
   "outputs": [],
   "source": [
    "cvae_mean_hd, cvae_hd_list = hausdorff_dist_wkt(test_wkt, cvae_wkt)\n",
    "shp_mean_hd, shp_hd_list = hausdorff_dist_wkt(test_wkt, shp_wkt)\n",
    "pstg_mean_hd, pstg_hd_list = hausdorff_dist_wkt(test_wkt, pstg_wkt)\n",
    "\n",
    "logger.info(\" Hausdorff Distance - Burned Area UAV Test Set\")\n",
    "logger.info(\n",
    "    f\"CVAE - {MODE}ation:\\n\"\n",
    "    f\"\\t Mean: {cvae_mean_hd:.4f}\\n\"\n",
    "    f\"\\t Std: {np.std(cvae_hd_list):.4f}\\n\"\n",
    "    f\"\\t Min: {np.min(cvae_hd_list):.4f}\\n\"\n",
    "    f\"\\t Max: {np.max(cvae_hd_list):.4f}\"\n",
    ")\n",
    "logger.info(\n",
    "    f\"Shape based - {MODE}ation:\\n\"\n",
    "    f\"\\t Mean: {shp_mean_hd:.4f}\\n\"\n",
    "    f\"\\t Std: {np.std(shp_hd_list):.4f}\\n\"\n",
    "    f\"\\t Min: {np.min(shp_hd_list):.4f}\\n\"\n",
    "    f\"\\t Max: {np.max(shp_hd_list):.4f}\"\n",
    ")\n",
    "logger.info(\n",
    "    f\"McKenney - {MODE}ation:\\n\"\n",
    "    f\"\\t Mean: {pstg_mean_hd:.4f}\\n\"\n",
    "    f\"\\t Std: {np.std(pstg_hd_list):.4f}\\n\"\n",
    "    f\"\\t Min: {np.min(pstg_hd_list):.4f}\\n\"\n",
    "    f\"\\t Max: {np.max(pstg_hd_list):.4f}\"\n",
    ")"
   ]
  },
  {
   "cell_type": "code",
   "execution_count": null,
   "metadata": {},
   "outputs": [],
   "source": [
    "# Store data in a dictionary\n",
    "data = {\n",
    "    \"Shape Based\": {\"full\": hd_list_shp_ts, \"sampled\": hd_list_shp_pr},\n",
    "    \"CVAE\": {\"full\": hd_list_cvae_ts, \"sampled\": hd_list_cvae_pr},\n",
    "    \"McKenney\": {\"full\": hd_list_pstg_ts, \"sampled\": hd_list_pstg_pr},\n",
    "}\n",
    "\n",
    "# Positions for bars\n",
    "positions = {\"full\": [1, 1.5, 2], \"sampled\": [2.75, 3.25, 3.75]}\n",
    "\n",
    "# Colors for boxes\n",
    "colors = [\"lightgreen\", \"lightblue\", \"lightcoral\"]\n",
    "\n",
    "# Create boxplot\n",
    "create_boxplot(data, positions, colors)"
   ]
  },
  {
   "cell_type": "markdown",
   "metadata": {},
   "source": [
    "### IoU "
   ]
  },
  {
   "cell_type": "code",
   "execution_count": null,
   "metadata": {},
   "outputs": [],
   "source": [
    "cvae_mean_iou, cvae_iou_list = iou_wkt(test_wkt, cvae_wkt)\n",
    "shp_mean_iou, shp_iou_list = iou_wkt(test_wkt, shp_wkt)\n",
    "pstg_mean_iou, pstg_iou_list = iou_wkt(test_wkt, pstg_wkt)\n",
    "\n",
    "logger.info(\" IoU Scores - Burned Area UAV Test Set\")\n",
    "logger.info(\n",
    "    f\"CVAE - {MODE}ation:\\n\"\n",
    "    f\"\\t Mean: {cvae_mean_iou:.4f}\\n\"\n",
    "    f\"\\t Std: {np.std(cvae_iou_list):.4f}\\n\"\n",
    "    f\"\\t Min: {np.min(cvae_iou_list):.4f}\\n\"\n",
    "    f\"\\t Max: {np.max(cvae_iou_list):.4f}\"\n",
    ")\n",
    "logger.info(\n",
    "    f\"Shape based - {MODE}ation:\\n\"\n",
    "    f\"\\t Mean: {shp_mean_iou:.4f}\\n\"\n",
    "    f\"\\t Std: {np.std(shp_iou_list):.4f}\\n\"\n",
    "    f\"\\t Min: {np.min(shp_iou_list):.4f}\\n\"\n",
    "    f\"\\t Max: {np.max(shp_iou_list):.4f}\"\n",
    ")\n",
    "logger.info(\n",
    "    f\"McKenney - {MODE}ation:\\n\"\n",
    "    f\"\\t Mean: {pstg_mean_iou:.4f}\\n\"\n",
    "    f\"\\t Std: {np.std(pstg_iou_list):.4f}\\n\"\n",
    "    f\"\\t Min: {np.min(pstg_iou_list):.4f}\\n\"\n",
    "    f\"\\t Max: {np.max(pstg_iou_list):.4f}\"\n",
    ")"
   ]
  },
  {
   "cell_type": "markdown",
   "metadata": {},
   "source": [
    "## U-Net Generated Polygons Comparison"
   ]
  },
  {
   "cell_type": "code",
   "execution_count": 16,
   "metadata": {},
   "outputs": [],
   "source": [
    "# Read data/segs_unet_base.wkt\n",
    "with open(os.path.join(BASE_DIR, \"data/segs_unet_base.wkt\"), \"r\") as f:\n",
    "    unet_wkt = f.read().splitlines()"
   ]
  },
  {
   "cell_type": "code",
   "execution_count": null,
   "metadata": {},
   "outputs": [],
   "source": [
    "cvae_mean_iou, cvae_iou_list = iou_wkt(unet_wkt, cvae_wkt)\n",
    "shp_mean_iou, shp_iou_list = iou_wkt(unet_wkt, shp_wkt)\n",
    "pstg_mean_iou, pstg_iou_list = iou_wkt(unet_wkt, pstg_wkt)\n",
    "\n",
    "logger.info(\" IoU Scores - UNet Test Set\")\n",
    "logger.info(\n",
    "    f\"CVAE - {MODE}ation:\\n\"\n",
    "    f\"\\t Mean: {cvae_mean_iou:.4f}\\n\"\n",
    "    f\"\\t Std: {np.std(cvae_iou_list):.4f}\\n\"\n",
    "    f\"\\t Min: {np.min(cvae_iou_list):.4f}\\n\"\n",
    "    f\"\\t Max: {np.max(cvae_iou_list):.4f}\"\n",
    ")\n",
    "logger.info(\n",
    "    f\"Shape based - {MODE}ation:\\n\"\n",
    "    f\"\\t Mean: {shp_mean_iou:.4f}\\n\"\n",
    "    f\"\\t Std: {np.std(shp_iou_list):.4f}\\n\"\n",
    "    f\"\\t Min: {np.min(shp_iou_list):.4f}\\n\"\n",
    "    f\"\\t Max: {np.max(shp_iou_list):.4f}\"\n",
    ")\n",
    "logger.info(\n",
    "    f\"McKenney - {MODE}ation:\\n\"\n",
    "    f\"\\t Mean: {pstg_mean_iou:.4f}\\n\"\n",
    "    f\"\\t Std: {np.std(pstg_iou_list):.4f}\\n\"\n",
    "    f\"\\t Min: {np.min(pstg_iou_list):.4f}\\n\"\n",
    "    f\"\\t Max: {np.max(pstg_iou_list):.4f}\"\n",
    ")"
   ]
  }
 ],
 "metadata": {
  "kernelspec": {
   "display_name": "cvae",
   "language": "python",
   "name": "python3"
  },
  "language_info": {
   "codemirror_mode": {
    "name": "ipython",
    "version": 3
   },
   "file_extension": ".py",
   "mimetype": "text/x-python",
   "name": "python",
   "nbconvert_exporter": "python",
   "pygments_lexer": "ipython3",
   "version": "3.10.13"
  }
 },
 "nbformat": 4,
 "nbformat_minor": 2
}
