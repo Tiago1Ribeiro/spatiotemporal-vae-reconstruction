{
 "cells": [
  {
   "cell_type": "markdown",
   "metadata": {},
   "source": [
    "## Libraries"
   ]
  },
  {
   "cell_type": "code",
   "execution_count": 2,
   "metadata": {},
   "outputs": [],
   "source": [
    "import os\n",
    "import yaml\n",
    "import numpy as np\n",
    "import math\n",
    "from glob import glob\n",
    "\n",
    "import warnings\n",
    "\n",
    "warnings.filterwarnings(\"ignore\")\n",
    "\n",
    "# Local Module Imports\n",
    "import sys\n",
    "import importlib\n",
    "\n",
    "sys.path.insert(0, \"../src\")\n",
    "\n",
    "# import polygon_handle\n",
    "\n",
    "# importlib.reload(polygon_handle)\n",
    "# from polygon_handle import masks_to_polygons\n",
    "\n",
    "import log_setup\n",
    "\n",
    "importlib.reload(log_setup)\n",
    "from log_setup import logger\n",
    "\n",
    "import eval\n",
    "\n",
    "importlib.reload(eval)\n",
    "from eval import (\n",
    "    hausdorff_dist_wkt,\n",
    "    iou_wkt,\n",
    "    strided_temporal_consistency,\n",
    "    save_results_to_csv,\n",
    ")\n",
    "\n",
    "import visualization\n",
    "\n",
    "importlib.reload(visualization)\n",
    "from visualization import create_boxplot\n",
    "\n",
    "import utils\n",
    "\n",
    "importlib.reload(utils)\n",
    "from utils import get_files_dirs_ext"
   ]
  },
  {
   "cell_type": "markdown",
   "metadata": {},
   "source": [
    "## Data Sources"
   ]
  },
  {
   "cell_type": "code",
   "execution_count": 3,
   "metadata": {},
   "outputs": [],
   "source": [
    "# Base directory\n",
    "current_dir = os.getcwd()\n",
    "BASE_DIR = os.path.dirname(current_dir)\n",
    "\n",
    "# Load 'config' file\n",
    "config_file = os.path.join(BASE_DIR, \"config.yml\")\n",
    "with open(config_file, \"r\", encoding=\"utf-8\") as f:\n",
    "    config = yaml.safe_load(f)\n",
    "\n",
    "# Output directory\n",
    "output_dir = \"../outputs\"\n",
    "\n",
    "# Training set directory\n",
    "train_dir = os.path.join(BASE_DIR, config[\"data\"][\"full\"][\"train_dir\"])\n",
    "\n",
    "# Testing set wkt file path\n",
    "test_wkt_path = os.path.join(BASE_DIR, config[\"data\"][\"wkt\"][\"test_wkt\"])\n",
    "\n",
    "# Pyspatiotemporalgeom, Shape Based, CVAE output directories\n",
    "pstg_dir = os.path.join(output_dir, \"pstg\")\n",
    "shpe_dir = os.path.join(output_dir, \"shape\")\n",
    "cvae_dir = os.path.join(output_dir, \"CVAE\")"
   ]
  },
  {
   "cell_type": "markdown",
   "metadata": {},
   "source": [
    "### PNG to WKT conversion"
   ]
  },
  {
   "cell_type": "code",
   "execution_count": 5,
   "metadata": {},
   "outputs": [],
   "source": [
    "\n",
    "\n",
    "wkt_files = get_files_dirs_ext([pstg_dir, shpe_dir, cvae_dir], \"wkt\", return_paths=True)\n",
    "png_dirs = get_files_dirs_ext([pstg_dir, shpe_dir, cvae_dir], \"png\")\n",
    "# show wkt files and png dirs on a pretty table with several rows"
   ]
  },
  {
   "cell_type": "code",
   "execution_count": 6,
   "metadata": {},
   "outputs": [
    {
     "name": "stdout",
     "output_type": "stream",
     "text": [
      "../outputs/CVAE/extrapol/70/full/WKT/file.wkt\n",
      "../outputs/CVAE/extrapol/70/sampled/WKT/file.wkt\n",
      "../outputs/CVAE/extrapol/70/unet/WKT/extrapol_unet.wkt\n",
      "../outputs/CVAE/extrapol/90/full/WKT/file.wkt\n",
      "../outputs/CVAE/extrapol/90/sampled/WKT/file.wkt\n",
      "../outputs/CVAE/extrapol/90/unet/WKT/extrapol_unet.wkt\n",
      "../outputs/CVAE/interpol/full/WKT/file.wkt\n",
      "../outputs/CVAE/interpol/sampled/WKT/file.wkt\n",
      "../outputs/pstg/interpol/full/WKT/pyspatial_interpol.wkt\n",
      "../outputs/pstg/interpol/sampled/WKT/pyspatial_interpol_sampled.wkt\n",
      "../outputs/shape/interpol/full/WKT/shape_interpol.wkt\n",
      "../outputs/shape/interpol/sampled/WKT/shape_interpol_sampled.wkt\n",
      "Total number of WKTs:  12\n",
      "\n",
      "../outputs/CVAE/extrapol/70/full/PNG\n",
      "../outputs/CVAE/extrapol/70/sampled/PNG\n",
      "../outputs/CVAE/extrapol/70/unet/PNG\n",
      "../outputs/CVAE/extrapol/90/full/PNG\n",
      "../outputs/CVAE/extrapol/90/sampled/PNG\n",
      "../outputs/CVAE/extrapol/90/unet/PNG\n",
      "../outputs/CVAE/interpol/full/PNG\n",
      "../outputs/CVAE/interpol/sampled/PNG\n",
      "Total number of PNG dirs:  8\n"
     ]
    }
   ],
   "source": [
    "for wkt_file in sorted(wkt_files):\n",
    "    # print like a table\n",
    "    print(f\"{wkt_file}\")\n",
    "print(\"Total number of WKTs: \", len(wkt_files))\n",
    "print()\n",
    "\n",
    "for png_dir in sorted(png_dirs):\n",
    "    # print like a table\n",
    "    print(f\"{png_dir}\")\n",
    "print(\"Total number of PNG dirs: \", len(png_dirs))"
   ]
  },
  {
   "cell_type": "markdown",
   "metadata": {},
   "source": [
    "## [BurnedAreaUAV](https://zenodo.org/records/7944963) Test Set Evalution"
   ]
  },
  {
   "cell_type": "code",
   "execution_count": 7,
   "metadata": {},
   "outputs": [
    {
     "name": "stderr",
     "output_type": "stream",
     "text": [
      "INFO - Reading WKTs files...\n"
     ]
    }
   ],
   "source": [
    "logger.info(\"Reading WKTs files...\")\n",
    "with open(os.path.join(BASE_DIR, config[\"data\"][\"wkt\"][\"train_wkt\"]), \"r\") as f:\n",
    "    train_wkt = f.read().splitlines()\n",
    "\n",
    "with open(os.path.join(BASE_DIR, config[\"data\"][\"wkt\"][\"test_wkt\"]), \"r\") as f:\n",
    "    test_wkt = f.read().splitlines()\n",
    "\n",
    "# evaluation set dictionary\n",
    "eval_set_dict = {}\n",
    "for i, wkt in enumerate(train_wkt):\n",
    "    eval_set_dict[i*100] = wkt\n",
    "for i, wkt in enumerate(test_wkt):\n",
    "    eval_set_dict[(i*100)+20250] = wkt\n",
    "eval_set_dict = dict(sorted(eval_set_dict.items()))"
   ]
  },
  {
   "cell_type": "markdown",
   "metadata": {},
   "source": [
    "### Hausdorf Distance"
   ]
  },
  {
   "cell_type": "code",
   "execution_count": 8,
   "metadata": {},
   "outputs": [],
   "source": [
    "# Create the pattern to match the WKT files\n",
    "pattern_interpol = os.path.join(output_dir, \"*\", \"interpol\", \"*\", \"WKT\", \"*.wkt\")\n",
    "interpol_wkt_files = glob(pattern_interpol)\n",
    "\n",
    "# Create the pattern to match the WKT files\n",
    "pattern_extrapol_70 = os.path.join(output_dir, \"*\", \"extrapol\", \"70\", \"*\", \"WKT\", \"*.wkt\")\n",
    "extrapol_wkt_files_70 = glob(pattern_extrapol_70)\n",
    "\n",
    "# Create the pattern to match the WKT files\n",
    "pattern_extrapol_90 = os.path.join(output_dir, \"*\", \"extrapol\", \"90\", \"*\", \"WKT\", \"*.wkt\")\n",
    "extrapol_wkt_files_90 = glob(pattern_extrapol_90)"
   ]
  },
  {
   "cell_type": "code",
   "execution_count": 9,
   "metadata": {},
   "outputs": [
    {
     "data": {
      "text/plain": [
       "['../outputs/shape/interpol/sampled/WKT/shape_interpol_sampled.wkt',\n",
       " '../outputs/shape/interpol/full/WKT/shape_interpol.wkt',\n",
       " '../outputs/CVAE/interpol/sampled/WKT/file.wkt',\n",
       " '../outputs/CVAE/interpol/full/WKT/file.wkt',\n",
       " '../outputs/pstg/interpol/sampled/WKT/pyspatial_interpol_sampled.wkt',\n",
       " '../outputs/pstg/interpol/full/WKT/pyspatial_interpol.wkt']"
      ]
     },
     "execution_count": 9,
     "metadata": {},
     "output_type": "execute_result"
    }
   ],
   "source": [
    "interpol_wkt_files"
   ]
  },
  {
   "cell_type": "code",
   "execution_count": 10,
   "metadata": {},
   "outputs": [
    {
     "name": "stdout",
     "output_type": "stream",
     "text": [
      "70%: 15800, 90%: 20350\n"
     ]
    }
   ],
   "source": [
    "train_files_num = len(glob(os.path.join(train_dir, \"*\", \"*.png\")))\n",
    "frame_70_perc = math.ceil(train_files_num * (70))\n",
    "final_70_frame = min(eval_set_dict.keys(), key=lambda x:abs(x-frame_70_perc))\n",
    "\n",
    "frame_90_perc = math.ceil(train_files_num * (90))\n",
    "final_90_frame = min(eval_set_dict.keys(), key=lambda x:abs(x-frame_90_perc))\n",
    "print(f\"70%: {final_70_frame}, 90%: {final_90_frame}\")"
   ]
  },
  {
   "cell_type": "code",
   "execution_count": 11,
   "metadata": {},
   "outputs": [],
   "source": [
    "# from eval set dict, choose all th keys >= frame_70_perc\n",
    "eval_set_dict_70 = {k: v for k, v in eval_set_dict.items() if k >= final_70_frame}\n",
    "eval_set_70 = list(eval_set_dict_70.keys())\n",
    "# save the sorted dict to a WKT file\n",
    "with open(os.path.join(BASE_DIR, \"eval_70.wkt\"), \"w\") as f:\n",
    "    for key, poly in eval_set_dict_70.items():\n",
    "        f.write(str(poly))\n",
    "        f.write(\"\\n\")\n",
    "\n",
    "# from eval set dict, choose all th keys >= frame_70_perc\n",
    "eval_set_dict_90 = {k: v for k, v in eval_set_dict.items() if k >= final_90_frame}\n",
    "eval_set_90 = list(eval_set_dict_90.keys())\n",
    "# save the sorted dict to a WKT file\n",
    "with open(os.path.join(BASE_DIR, \"eval_90.wkt\"), \"w\") as f:\n",
    "    for key, poly in eval_set_dict_70.items():\n",
    "        f.write(str(poly))\n",
    "        f.write(\"\\n\")"
   ]
  },
  {
   "cell_type": "code",
   "execution_count": 10,
   "metadata": {},
   "outputs": [
    {
     "name": "stderr",
     "output_type": "stream",
     "text": [
      "INFO - Reading WKTs files...\n",
      "INFO - Calculating Hausdorff Distance...\n",
      "INFO - Hausdorff Distance for \u001b[1m../outputs/shape/interpol/sampled/WKT/shape_interpol_sampled.wkt\u001b[0m\n",
      "INFO - Mean:   108.3490, Std Dev.:     8.6310, Min:    91.9837, Max:   125.5388\n",
      "INFO - \n",
      "\n",
      "INFO - Reading WKTs files...\n",
      "INFO - Calculating Hausdorff Distance...\n",
      "INFO - Hausdorff Distance for \u001b[1m../outputs/shape/interpol/full/WKT/shape_interpol.wkt\u001b[0m\n",
      "INFO - Mean:    60.8145, Std Dev.:    33.3117, Min:    19.4440, Max:   117.0000\n",
      "INFO - \n",
      "\n",
      "INFO - Reading WKTs files...\n",
      "INFO - Calculating Hausdorff Distance...\n",
      "INFO - Hausdorff Distance for \u001b[1m../outputs/CVAE/interpol/sampled/WKT/file.wkt\u001b[0m\n",
      "INFO - Mean:    87.7788, Std Dev.:     9.1669, Min:    76.5376, Max:   119.5492\n",
      "INFO - \n",
      "\n",
      "INFO - Reading WKTs files...\n",
      "INFO - Calculating Hausdorff Distance...\n",
      "INFO - Hausdorff Distance for \u001b[1m../outputs/CVAE/interpol/full/WKT/file.wkt\u001b[0m\n",
      "INFO - Mean:    50.3446, Std Dev.:    28.8379, Min:    20.8614, Max:   113.2652\n",
      "INFO - \n",
      "\n",
      "INFO - Reading WKTs files...\n",
      "INFO - Calculating Hausdorff Distance...\n",
      "INFO - Hausdorff Distance for \u001b[1m../outputs/pstg/interpol/sampled/WKT/pyspatial_interpol_sampled.wkt\u001b[0m\n",
      "INFO - Mean:   103.0680, Std Dev.:    30.7445, Min:    23.0136, Max:   146.5206\n",
      "INFO - \n",
      "\n",
      "INFO - Reading WKTs files...\n",
      "INFO - Calculating Hausdorff Distance...\n",
      "INFO - Hausdorff Distance for \u001b[1m../outputs/pstg/interpol/full/WKT/pyspatial_interpol.wkt\u001b[0m\n",
      "INFO - Mean:   113.1611, Std Dev.:    33.8318, Min:    86.2794, Max:   266.3033\n",
      "INFO - \n",
      "\n"
     ]
    }
   ],
   "source": [
    "for wkt_file in interpol_wkt_files:\n",
    " \n",
    "    # test set frame indexes \n",
    "    idx = np.linspace(20250, 22450, 23).astype(int)\n",
    "    mean_hd, hd_list = hausdorff_dist_wkt(gt_wkt=test_wkt_path, model_wkt= wkt_file, eval_idx=idx)\n",
    "\n",
    "    logger.info(f\"Hausdorff Distance for \\033[1m{wkt_file}\\033[0m\")\n",
    "    logger.info(f\"Mean: {mean_hd:10.4f}, Std Dev.: {np.std(hd_list):10.4f}, Min: {np.min(hd_list):10.4f}, Max: {np.max(hd_list):10.4f}\")\n",
    "    logger.info(\"...........................................................................\\n\") "
   ]
  },
  {
   "cell_type": "code",
   "execution_count": 12,
   "metadata": {},
   "outputs": [
    {
     "name": "stderr",
     "output_type": "stream",
     "text": [
      "INFO - Reading WKTs files...\n",
      "WARNING - Number of polygons in ground truth (91) and model (90) do not match.\n",
      "INFO - Calculating Hausdorff Distance...\n",
      "INFO - Hausdorff Distance for \u001b[1m../outputs/CVAE/extrapol/70/sampled/WKT/file.wkt\u001b[0m\n",
      "INFO - Mean:   190.7728, Std Dev.:    28.3400, Min:   131.8560, Max:   221.9031\n",
      "INFO - \n",
      "\n",
      "INFO - Reading WKTs files...\n",
      "WARNING - Number of polygons in ground truth (91) and model (90) do not match.\n",
      "INFO - Calculating Hausdorff Distance...\n",
      "INFO - Hausdorff Distance for \u001b[1m../outputs/CVAE/extrapol/70/full/WKT/file.wkt\u001b[0m\n",
      "INFO - Mean:   105.8319, Std Dev.:    33.9872, Min:    30.0832, Max:   148.7616\n",
      "INFO - \n",
      "\n",
      "INFO - Reading WKTs files...\n",
      "WARNING - Number of polygons in ground truth (91) and model (90) do not match.\n",
      "INFO - Calculating Hausdorff Distance...\n",
      "INFO - Hausdorff Distance for \u001b[1m../outputs/CVAE/extrapol/70/unet/WKT/extrapol_unet.wkt\u001b[0m\n",
      "INFO - Mean:   111.1561, Std Dev.:    35.4082, Min:    40.3113, Max:   153.6880\n",
      "INFO - \n",
      "\n"
     ]
    }
   ],
   "source": [
    "eval70_wkt = os.path.join(BASE_DIR, \"eval_70.wkt\")\n",
    "\n",
    "for wkt_file in extrapol_wkt_files_70:\n",
    "    mean_hd, hd_list = hausdorff_dist_wkt(\n",
    "        gt_wkt=eval70_wkt,\n",
    "        model_wkt=wkt_file,\n",
    "        eval_idx=eval_set_70[:-1],\n",
    "    )\n",
    "\n",
    "    logger.info(f\"Hausdorff Distance for \\033[1m{wkt_file}\\033[0m\")\n",
    "    logger.info(\n",
    "        f\"Mean: {mean_hd:10.4f}, Std Dev.: {np.std(hd_list):10.4f}, Min: {np.min(hd_list):10.4f}, Max: {np.max(hd_list):10.4f}\"\n",
    "    )\n",
    "    logger.info(\"\\n\")"
   ]
  },
  {
   "cell_type": "code",
   "execution_count": 16,
   "metadata": {},
   "outputs": [
    {
     "name": "stderr",
     "output_type": "stream",
     "text": [
      "INFO - Reading WKTs files...\n",
      "WARNING - Number of polygons in ground truth (91) and model (43) do not match.\n",
      "INFO - Calculating Hausdorff Distance...\n",
      "INFO - Hausdorff Distance for \u001b[1m../outputs/CVAE/extrapol/90/sampled/WKT/file.wkt\u001b[0m\n",
      "INFO - Mean:    95.0263, Std Dev.:    18.8012, Min:    72.3395, Max:   130.0000\n",
      "INFO - \n",
      "\n",
      "INFO - Reading WKTs files...\n",
      "WARNING - Number of polygons in ground truth (91) and model (43) do not match.\n",
      "INFO - Calculating Hausdorff Distance...\n",
      "INFO - Hausdorff Distance for \u001b[1m../outputs/CVAE/extrapol/90/full/WKT/file.wkt\u001b[0m\n",
      "INFO - Mean:   102.9551, Std Dev.:    31.4315, Min:    51.0000, Max:   142.8881\n",
      "INFO - \n",
      "\n",
      "INFO - Reading WKTs files...\n",
      "WARNING - Number of polygons in ground truth (91) and model (43) do not match.\n",
      "INFO - Calculating Hausdorff Distance...\n",
      "INFO - Hausdorff Distance for \u001b[1m../outputs/CVAE/extrapol/90/unet/WKT/extrapol_unet.wkt\u001b[0m\n",
      "INFO - Mean:    96.6925, Std Dev.:    30.0752, Min:    46.2709, Max:   139.5421\n",
      "INFO - \n",
      "\n"
     ]
    }
   ],
   "source": [
    "eval90_wkt = os.path.join(BASE_DIR, \"eval_90.wkt\")\n",
    "\n",
    "for wkt_file in extrapol_wkt_files_90:\n",
    "    mean_hd, hd_list = hausdorff_dist_wkt(\n",
    "        gt_wkt=eval90_wkt,\n",
    "        model_wkt=wkt_file,\n",
    "        eval_idx=eval_set_90[:-1],\n",
    "    )\n",
    "\n",
    "    logger.info(f\"Hausdorff Distance for \\033[1m{wkt_file}\\033[0m\")\n",
    "    logger.info(\n",
    "        f\"Mean: {mean_hd:10.4f}, Std Dev.: {np.std(hd_list):10.4f}, Min: {np.min(hd_list):10.4f}, Max: {np.max(hd_list):10.4f}\"\n",
    "    )\n",
    "    logger.info(\"\\n\")"
   ]
  },
  {
   "cell_type": "code",
   "execution_count": 70,
   "metadata": {},
   "outputs": [
    {
     "name": "stderr",
     "output_type": "stream",
     "text": [
      "INFO - Reading WKTs files...\n",
      "INFO - Calculating Hausdorff Distance...\n",
      "INFO - Hausdorff Distance for \u001b[1m../outputs/CVAE/extrapol/90/sampled/WKT/file.wkt\u001b[0m\n",
      "INFO - Mean:   457.0036, Std Dev.:     2.1096, Min:   452.2168, Max:   460.8959\n",
      "INFO - \n",
      "\n",
      "INFO - Reading WKTs files...\n",
      "INFO - Calculating Hausdorff Distance...\n",
      "INFO - Hausdorff Distance for \u001b[1m../outputs/CVAE/extrapol/90/full/WKT/file.wkt\u001b[0m\n",
      "INFO - Mean:   559.4281, Std Dev.:     1.6240, Min:   556.6803, Max:   562.3131\n",
      "INFO - \n",
      "\n",
      "INFO - Reading WKTs files...\n",
      "INFO - Calculating Hausdorff Distance...\n",
      "INFO - Hausdorff Distance for \u001b[1m../outputs/CVAE/extrapol/90/unet/WKT/extrapol_unet.wkt\u001b[0m\n",
      "INFO - Mean:   565.7227, Std Dev.:     1.8018, Min:   561.5140, Max:   568.9895\n",
      "INFO - \n",
      "\n"
     ]
    }
   ],
   "source": [
    "for wkt_file in extrapol_wkt_files_90:\n",
    "    mean_hd, hd_list = hausdorff_dist_wkt(test_wkt_path, wkt_file)\n",
    "\n",
    "    logger.info(f\"Hausdorff Distance for \\033[1m{wkt_file}\\033[0m\")\n",
    "    logger.info(f\"Mean: {mean_hd:10.4f}, Std Dev.: {np.std(hd_list):10.4f}, Min: {np.min(hd_list):10.4f}, Max: {np.max(hd_list):10.4f}\")\n",
    "    logger.info(\"\\n\") "
   ]
  },
  {
   "cell_type": "code",
   "execution_count": null,
   "metadata": {},
   "outputs": [],
   "source": [
    "# Store data in a dictionary\n",
    "data = {\n",
    "    \"Shape Based\": {\"full\": hd_list_shp_ts, \"sampled\": hd_list_shp_pr},\n",
    "    \"CVAE\": {\"full\": hd_list_cvae_ts, \"sampled\": hd_list_cvae_pr},\n",
    "    \"McKenney\": {\"full\": hd_list_pstg_ts, \"sampled\": hd_list_pstg_pr},\n",
    "}\n",
    "\n",
    "# Positions for bars\n",
    "positions = {\"full\": [1, 1.5, 2], \"sampled\": [2.75, 3.25, 3.75]}\n",
    "\n",
    "# Colors for boxes\n",
    "colors = [\"lightgreen\", \"lightblue\", \"lightcoral\"]\n",
    "\n",
    "# Create boxplot\n",
    "create_boxplot(data, positions, colors)"
   ]
  },
  {
   "cell_type": "markdown",
   "metadata": {},
   "source": [
    "### IoU "
   ]
  },
  {
   "cell_type": "code",
   "execution_count": 11,
   "metadata": {},
   "outputs": [
    {
     "name": "stderr",
     "output_type": "stream",
     "text": [
      "INFO - Reading WKTs files...\n",
      "INFO - Calculating IoU...\n",
      "INFO - IoU for \u001b[1m../outputs/shape/interpol/sampled/WKT/shape_interpol_sampled.wkt\u001b[0m\n",
      "INFO - Mean:     0.9296, Std Dev.:     0.0210, Min:     0.8867, Max:     0.9640\n",
      "INFO - ...........................................................................\n",
      "\n",
      "INFO - Reading WKTs files...\n",
      "INFO - Calculating IoU...\n",
      "INFO - IoU for \u001b[1m../outputs/shape/interpol/full/WKT/shape_interpol.wkt\u001b[0m\n",
      "INFO - Mean:     0.9589, Std Dev.:     0.0155, Min:     0.9253, Max:     0.9767\n",
      "INFO - ...........................................................................\n",
      "\n",
      "INFO - Reading WKTs files...\n",
      "INFO - Calculating IoU...\n",
      "INFO - IoU for \u001b[1m../outputs/CVAE/interpol/sampled/WKT/file.wkt\u001b[0m\n",
      "INFO - Mean:     0.9083, Std Dev.:     0.0166, Min:     0.8685, Max:     0.9345\n",
      "INFO - ...........................................................................\n",
      "\n",
      "INFO - Reading WKTs files...\n",
      "INFO - Calculating IoU...\n",
      "INFO - IoU for \u001b[1m../outputs/CVAE/interpol/full/WKT/file.wkt\u001b[0m\n",
      "INFO - Mean:     0.9437, Std Dev.:     0.0186, Min:     0.9055, Max:     0.9700\n",
      "INFO - ...........................................................................\n",
      "\n",
      "INFO - Reading WKTs files...\n",
      "INFO - Calculating IoU...\n",
      "INFO - IoU for \u001b[1m../outputs/pstg/interpol/sampled/WKT/pyspatial_interpol_sampled.wkt\u001b[0m\n",
      "INFO - Mean:     0.8496, Std Dev.:     0.0383, Min:     0.7992, Max:     0.9596\n",
      "INFO - ...........................................................................\n",
      "\n",
      "INFO - Reading WKTs files...\n",
      "INFO - Calculating IoU...\n",
      "INFO - IoU for \u001b[1m../outputs/pstg/interpol/full/WKT/pyspatial_interpol.wkt\u001b[0m\n",
      "INFO - Mean:     0.8220, Std Dev.:     0.0729, Min:     0.4931, Max:     0.8636\n",
      "INFO - ...........................................................................\n",
      "\n"
     ]
    }
   ],
   "source": [
    "for wkt_file in interpol_wkt_files:\n",
    " \n",
    "    # test set frame indexes \n",
    "    idx = np.linspace(20250, 22450, 23).astype(int)\n",
    "    mean_iou, iou_list = iou_wkt(gt_wkt=test_wkt_path, model_wkt= wkt_file, eval_idx=idx)\n",
    "\n",
    "    logger.info(f\"IoU for \\033[1m{wkt_file}\\033[0m\")\n",
    "    logger.info(f\"Mean: {mean_iou:10.4f}, Std Dev.: {np.std(iou_list):10.4f}, Min: {np.min(iou_list):10.4f}, Max: {np.max(iou_list):10.4f}\")\n",
    "    logger.info(\"...........................................................................\\n\")\n",
    "    "
   ]
  },
  {
   "cell_type": "code",
   "execution_count": 14,
   "metadata": {},
   "outputs": [
    {
     "name": "stderr",
     "output_type": "stream",
     "text": [
      "INFO - Reading WKTs files...\n",
      "WARNING - Number of polygons in ground truth (91) and model (90) do not match.\n",
      "INFO - Calculating IoU...\n",
      "INFO - IoU for \u001b[1m../outputs/CVAE/extrapol/70/sampled/WKT/file.wkt\u001b[0m\n",
      "INFO - Mean:     0.6467, Std Dev.:     0.0370, Min:     0.5987, Max:     0.7244\n",
      "INFO - \n",
      "\n",
      "INFO - Reading WKTs files...\n",
      "WARNING - Number of polygons in ground truth (91) and model (90) do not match.\n",
      "INFO - Calculating IoU...\n",
      "INFO - IoU for \u001b[1m../outputs/CVAE/extrapol/70/full/WKT/file.wkt\u001b[0m\n",
      "INFO - Mean:     0.8369, Std Dev.:     0.0488, Min:     0.7754, Max:     0.9487\n",
      "INFO - \n",
      "\n",
      "INFO - Reading WKTs files...\n",
      "WARNING - Number of polygons in ground truth (91) and model (90) do not match.\n",
      "INFO - Calculating IoU...\n",
      "INFO - IoU for \u001b[1m../outputs/CVAE/extrapol/70/unet/WKT/extrapol_unet.wkt\u001b[0m\n",
      "INFO - Mean:     0.8249, Std Dev.:     0.0489, Min:     0.7583, Max:     0.9341\n",
      "INFO - \n",
      "\n"
     ]
    }
   ],
   "source": [
    "for wkt_file in extrapol_wkt_files_70:\n",
    "    mean_iou, iou_list = iou_wkt(\n",
    "        gt_wkt=eval70_wkt,\n",
    "        model_wkt=wkt_file,\n",
    "        eval_idx=eval_set_70[:-1],\n",
    "    )\n",
    "\n",
    "    logger.info(f\"IoU for \\033[1m{wkt_file}\\033[0m\")\n",
    "    logger.info(\n",
    "        f\"Mean: {mean_iou:10.4f}, Std Dev.: {np.std(iou_list):10.4f}, Min: {np.min(iou_list):10.4f}, Max: {np.max(iou_list):10.4f}\"\n",
    "    )\n",
    "    logger.info(\"...........................................................................\\n\")"
   ]
  },
  {
   "cell_type": "code",
   "execution_count": 18,
   "metadata": {},
   "outputs": [
    {
     "name": "stderr",
     "output_type": "stream",
     "text": [
      "INFO - Reading WKTs files...\n",
      "WARNING - Number of polygons in ground truth (91) and model (43) do not match.\n",
      "INFO - Calculating IoU...\n",
      "INFO - IoU for \u001b[1m../outputs/CVAE/extrapol/90/sampled/WKT/file.wkt\u001b[0m\n",
      "INFO - Mean:     0.8697, Std Dev.:     0.0385, Min:     0.8119, Max:     0.9231\n",
      "INFO - ...........................................................................\n",
      "\n",
      "INFO - Reading WKTs files...\n",
      "WARNING - Number of polygons in ground truth (91) and model (43) do not match.\n",
      "INFO - Calculating IoU...\n",
      "INFO - IoU for \u001b[1m../outputs/CVAE/extrapol/90/full/WKT/file.wkt\u001b[0m\n",
      "INFO - Mean:     0.8531, Std Dev.:     0.0425, Min:     0.7918, Max:     0.9328\n",
      "INFO - ...........................................................................\n",
      "\n",
      "INFO - Reading WKTs files...\n",
      "WARNING - Number of polygons in ground truth (91) and model (43) do not match.\n",
      "INFO - Calculating IoU...\n",
      "INFO - IoU for \u001b[1m../outputs/CVAE/extrapol/90/unet/WKT/extrapol_unet.wkt\u001b[0m\n",
      "INFO - Mean:     0.8621, Std Dev.:     0.0341, Min:     0.8027, Max:     0.9194\n",
      "INFO - ...........................................................................\n",
      "\n"
     ]
    }
   ],
   "source": [
    "for wkt_file in extrapol_wkt_files_90:\n",
    "    mean_iou, iou_list = iou_wkt(\n",
    "        gt_wkt=eval90_wkt,\n",
    "        model_wkt=wkt_file,\n",
    "        eval_idx=eval_set_90[:-1],\n",
    "    )\n",
    "\n",
    "    logger.info(f\"IoU for \\033[1m{wkt_file}\\033[0m\")\n",
    "    logger.info(\n",
    "        f\"Mean: {mean_iou:10.4f}, Std Dev.: {np.std(iou_list):10.4f}, Min: {np.min(iou_list):10.4f}, Max: {np.max(iou_list):10.4f}\"\n",
    "    )\n",
    "    logger.info(\"...........................................................................\\n\")"
   ]
  },
  {
   "cell_type": "markdown",
   "metadata": {},
   "source": [
    "## Temporal Consistency"
   ]
  },
  {
   "cell_type": "code",
   "execution_count": 12,
   "metadata": {},
   "outputs": [
    {
     "name": "stderr",
     "output_type": "stream",
     "text": [
      "DEBUG - Reading WKT file...\n",
      "DEBUG - Validating polygons...\n",
      "INFO - Calculating the temporal consistency with stride 1...\n",
      "INFO - Calculating the temporal consistency with stride 10...\n",
      "INFO - Calculating the temporal consistency with stride 100...\n",
      "INFO - Calculating the temporal consistency with stride 1000...\n",
      "INFO - Calculating the temporal consistency with stride 10000...\n",
      "DEBUG - Reading WKT file...\n",
      "DEBUG - Validating polygons...\n",
      "INFO - Calculating the temporal consistency with stride 1...\n",
      "INFO - Calculating the temporal consistency with stride 10...\n",
      "INFO - Calculating the temporal consistency with stride 100...\n",
      "INFO - Calculating the temporal consistency with stride 1000...\n",
      "INFO - Calculating the temporal consistency with stride 10000...\n",
      "DEBUG - Reading WKT file...\n",
      "DEBUG - Validating polygons...\n",
      "INFO - Calculating the temporal consistency with stride 1...\n",
      "INFO - Calculating the temporal consistency with stride 10...\n",
      "INFO - Calculating the temporal consistency with stride 100...\n",
      "INFO - Calculating the temporal consistency with stride 1000...\n",
      "INFO - Calculating the temporal consistency with stride 10000...\n",
      "DEBUG - Reading WKT file...\n",
      "DEBUG - Validating polygons...\n",
      "INFO - Calculating the temporal consistency with stride 1...\n",
      "INFO - Calculating the temporal consistency with stride 10...\n",
      "INFO - Calculating the temporal consistency with stride 100...\n",
      "INFO - Calculating the temporal consistency with stride 1000...\n",
      "INFO - Calculating the temporal consistency with stride 10000...\n",
      "DEBUG - Reading WKT file...\n",
      "DEBUG - Validating polygons...\n",
      "INFO - Calculating the temporal consistency with stride 1...\n",
      "INFO - Calculating the temporal consistency with stride 10...\n",
      "INFO - Calculating the temporal consistency with stride 100...\n",
      "INFO - Calculating the temporal consistency with stride 1000...\n",
      "INFO - Calculating the temporal consistency with stride 10000...\n",
      "DEBUG - Reading WKT file...\n",
      "DEBUG - Validating polygons...\n",
      "INFO - Calculating the temporal consistency with stride 1...\n",
      "INFO - Calculating the temporal consistency with stride 10...\n",
      "INFO - Calculating the temporal consistency with stride 100...\n",
      "INFO - Calculating the temporal consistency with stride 1000...\n",
      "INFO - Calculating the temporal consistency with stride 10000...\n",
      "DEBUG - Reading WKT file...\n",
      "DEBUG - Validating polygons...\n",
      "INFO - Calculating the temporal consistency with stride 1...\n",
      "INFO - Calculating the temporal consistency with stride 10...\n",
      "INFO - Calculating the temporal consistency with stride 100...\n",
      "INFO - Calculating the temporal consistency with stride 1000...\n",
      "INFO - Calculating the temporal consistency with stride 10000...\n",
      "DEBUG - Reading WKT file...\n",
      "DEBUG - Validating polygons...\n",
      "INFO - Calculating the temporal consistency with stride 1...\n",
      "INFO - Calculating the temporal consistency with stride 10...\n",
      "INFO - Calculating the temporal consistency with stride 100...\n",
      "INFO - Calculating the temporal consistency with stride 1000...\n",
      "INFO - Calculating the temporal consistency with stride 10000...\n",
      "DEBUG - Reading WKT file...\n",
      "DEBUG - Validating polygons...\n",
      "INFO - Calculating the temporal consistency with stride 1...\n",
      "INFO - Calculating the temporal consistency with stride 10...\n",
      "INFO - Calculating the temporal consistency with stride 100...\n",
      "INFO - Calculating the temporal consistency with stride 1000...\n",
      "INFO - Calculating the temporal consistency with stride 10000...\n",
      "DEBUG - Reading WKT file...\n",
      "DEBUG - Validating polygons...\n",
      "INFO - Calculating the temporal consistency with stride 1...\n",
      "INFO - Calculating the temporal consistency with stride 10...\n",
      "INFO - Calculating the temporal consistency with stride 100...\n",
      "INFO - Calculating the temporal consistency with stride 1000...\n",
      "INFO - Calculating the temporal consistency with stride 10000...\n",
      "DEBUG - Reading WKT file...\n",
      "DEBUG - Validating polygons...\n",
      "INFO - Calculating the temporal consistency with stride 1...\n",
      "INFO - Calculating the temporal consistency with stride 10...\n",
      "INFO - Calculating the temporal consistency with stride 100...\n",
      "INFO - Calculating the temporal consistency with stride 1000...\n",
      "INFO - Calculating the temporal consistency with stride 10000...\n",
      "DEBUG - Reading WKT file...\n",
      "DEBUG - Validating polygons...\n",
      "INFO - Calculating the temporal consistency with stride 1...\n",
      "INFO - Calculating the temporal consistency with stride 10...\n",
      "INFO - Calculating the temporal consistency with stride 100...\n",
      "INFO - Calculating the temporal consistency with stride 1000...\n",
      "INFO - Calculating the temporal consistency with stride 10000...\n"
     ]
    }
   ],
   "source": [
    "strides = [1, 10, 100, 1000, 10000]\n",
    "# calculate temporal consistency for each model in each mode\n",
    "for wkt_file in wkt_files:\n",
    "    tc = strided_temporal_consistency(\n",
    "        wkt_file=wkt_file,\n",
    "        num_polygons=22500,\n",
    "        strides=strides\n",
    "    )\n",
    "    save_path = os.path.join(os.path.dirname(wkt_file), \"tc\")\n",
    "    save_results_to_csv(results=tc, base_filename=save_path)"
   ]
  }
 ],
 "metadata": {
  "kernelspec": {
   "display_name": "cvae",
   "language": "python",
   "name": "python3"
  },
  "language_info": {
   "codemirror_mode": {
    "name": "ipython",
    "version": 3
   },
   "file_extension": ".py",
   "mimetype": "text/x-python",
   "name": "python",
   "nbconvert_exporter": "python",
   "pygments_lexer": "ipython3",
   "version": "3.10.13"
  }
 },
 "nbformat": 4,
 "nbformat_minor": 2
}
