{
 "cells": [
  {
   "cell_type": "markdown",
   "metadata": {},
   "source": [
    "## Libraries"
   ]
  },
  {
   "cell_type": "code",
   "execution_count": 3,
   "metadata": {},
   "outputs": [],
   "source": [
    "# General Imports\n",
    "import os\n",
    "\n",
    "os.environ[\"TF_CPP_MIN_LOG_LEVEL\"] = \"3\"\n",
    "\n",
    "import yaml\n",
    "import numpy as np\n",
    "import math\n",
    "import csv\n",
    "from glob import glob\n",
    "\n",
    "from typing import Dict, Any, List, Optional\n",
    "\n",
    "# Local Module Imports\n",
    "import sys\n",
    "\n",
    "sys.path.insert(0, \"../src\")\n",
    "\n",
    "from log_setup import logger\n",
    "from eval import (\n",
    "    hausdorff_dist_wkt,\n",
    "    iou_wkt,\n",
    "    strided_temp_consistency,\n",
    "    save_results_to_csv\n",
    ")\n",
    "from utils import get_files_dirs_ext"
   ]
  },
  {
   "cell_type": "markdown",
   "metadata": {},
   "source": [
    "## Data Sources"
   ]
  },
  {
   "cell_type": "code",
   "execution_count": 4,
   "metadata": {},
   "outputs": [],
   "source": [
    "# Base directory\n",
    "BASE_DIR = os.path.dirname(os.getcwd())\n",
    "\n",
    "# Load 'config' file\n",
    "config_file = os.path.join(BASE_DIR, \"config.yml\")\n",
    "with open(config_file, \"r\", encoding=\"utf-8\") as f:\n",
    "    config = yaml.safe_load(f)\n",
    "\n",
    "# Output directory\n",
    "output_dir = \"../outputs\"\n",
    "\n",
    "# Training set directory\n",
    "train_dir = os.path.join(BASE_DIR, config[\"data\"][\"full\"][\"train_dir\"])\n",
    "\n",
    "# Testing set wkt file path\n",
    "test_wkt_path = os.path.join(BASE_DIR, config[\"data\"][\"wkt\"][\"test_wkt\"])\n",
    "\n",
    "# Pyspatiotemporalgeom, Shape Based, CVAE output directories\n",
    "pstg_dir = os.path.join(output_dir, \"pstg\")\n",
    "shpe_dir = os.path.join(output_dir, \"shape\")\n",
    "cvae_dir = os.path.join(output_dir, \"CVAE\")"
   ]
  },
  {
   "cell_type": "markdown",
   "metadata": {},
   "source": [
    "### PNG to WKT conversion"
   ]
  },
  {
   "cell_type": "code",
   "execution_count": 3,
   "metadata": {},
   "outputs": [
    {
     "name": "stderr",
     "output_type": "stream",
     "text": [
      "INFO - WKT Files                                                              | PNG Directories                                                       \n",
      "INFO - ------------------------------------------------------------------------------------------------------------------------\n",
      "INFO - ../outputs/shape/interpol/sampled/WKT/shape_interpol_sampled.wkt       | ../outputs/CVAE/extrapol/90/sampled/PNG                               \n",
      "INFO - ../outputs/CVAE/extrapol/70/full/WKT/file.wkt                          | ../outputs/CVAE/extrapol/30/unet/PNG                                  \n",
      "INFO - ../outputs/CVAE/extrapol/70/sampled/WKT/file.wkt                       | ../outputs/CVAE/extrapol/10/unet/PNG                                  \n",
      "INFO - ../outputs/pstg/interpol/full/WKT/pyspatial_interpol.wkt               | ../outputs/CVAE/interpol/sampled/PNG                                  \n",
      "INFO - ../outputs/CVAE/extrapol/10/unet/WKT/extrapol_unet.wkt                 | ../outputs/CVAE/extrapol/90/full/PNG                                  \n",
      "INFO - ../outputs/shape/interpol/full/WKT/shape_interpol.wkt                  | ../outputs/CVAE/extrapol/70/sampled/PNG                               \n",
      "INFO - ../outputs/CVAE/extrapol/50/sampled/WKT/extrapol_sampled.wkt           | ../outputs/CVAE/extrapol/50/full/PNG                                  \n",
      "INFO - ../outputs/CVAE/extrapol/90/sampled/WKT/file.wkt                       | ../outputs/CVAE/extrapol/50/sampled/PNG                               \n",
      "INFO - ../outputs/CVAE/extrapol/50/full/WKT/extrapol_full.wkt                 | ../outputs/CVAE/interpol/full/PNG                                     \n",
      "INFO - ../outputs/CVAE/extrapol/70/unet/WKT/extrapol_unet.wkt                 | ../outputs/CVAE/extrapol/90/unet/PNG                                  \n",
      "INFO - ../outputs/CVAE/interpol/full/WKT/file.wkt                             | ../outputs/CVAE/extrapol/50/unet/PNG                                  \n",
      "INFO - ../outputs/CVAE/extrapol/90/unet/WKT/extrapol_unet.wkt                 | ../outputs/CVAE/extrapol/70/unet/PNG                                  \n",
      "INFO - ../outputs/CVAE/extrapol/50/unet/WKT/extrapol_unet.wkt                 | ../outputs/CVAE/extrapol/70/full/PNG                                  \n",
      "INFO - ../outputs/CVAE/interpol/sampled/WKT/file.wkt                          |\n",
      "INFO - ../outputs/pstg/interpol/sampled/WKT/pyspatial_interpol_sampled.wkt    |\n",
      "INFO - ../outputs/CVAE/extrapol/30/unet/WKT/extrapol_unet.wkt                 |\n",
      "INFO - ../outputs/CVAE/extrapol/90/full/WKT/file.wkt                          |\n",
      "INFO - ------------------------------------------------------------------------------------------------------------------------\n",
      "INFO - No. of WKT files: 17\n",
      "INFO - No. of PNG dirs: 13\n"
     ]
    }
   ],
   "source": [
    "wkt_files = get_files_dirs_ext([pstg_dir, shpe_dir, cvae_dir], \"wkt\", return_paths=True)\n",
    "png_dirs = get_files_dirs_ext([pstg_dir, shpe_dir, cvae_dir], \"png\")\n",
    "# show wkt files and png dirs on a pretty table with several rows\n",
    "\n",
    "logger.info(f'{\"WKT Files\":<70} | {\"PNG Directories\":<70}')\n",
    "logger.info(f\"--\" * 60)\n",
    "for wkt_file, png_dir in zip(wkt_files, png_dirs):\n",
    "    logger.info(f'{wkt_file:<70} | {png_dir:<70}')\n",
    "if len(wkt_files) > len(png_dirs):\n",
    "    for wkt_file in wkt_files[len(png_dirs):]:\n",
    "        logger.info(f'{wkt_file:<70} |')\n",
    "if len(png_dirs) > len(wkt_files):\n",
    "    for png_dir in png_dirs[len(wkt_files):]:\n",
    "        logger.info(f'{\"\":<70} | {png_dir:<70}')\n",
    "logger.info(f\"--\" * 60)\n",
    "logger.info(f\"No. of WKT files: {len(wkt_files)}\")\n",
    "logger.info(f\"No. of PNG dirs: {len(png_dirs)}\")\n"
   ]
  },
  {
   "cell_type": "markdown",
   "metadata": {},
   "source": [
    "# Interpolation"
   ]
  },
  {
   "cell_type": "code",
   "execution_count": 5,
   "metadata": {},
   "outputs": [
    {
     "data": {
      "text/plain": [
       "['../outputs/CVAE/interpol/full/WKT/file.wkt',\n",
       " '../outputs/CVAE/interpol/sampled/WKT/file.wkt',\n",
       " '../outputs/pstg/interpol/full/WKT/pyspatial_interpol.wkt',\n",
       " '../outputs/pstg/interpol/sampled/WKT/pyspatial_interpol_sampled.wkt',\n",
       " '../outputs/shape/interpol/full/WKT/shape_interpol.wkt',\n",
       " '../outputs/shape/interpol/sampled/WKT/shape_interpol_sampled.wkt']"
      ]
     },
     "execution_count": 5,
     "metadata": {},
     "output_type": "execute_result"
    }
   ],
   "source": [
    "# from wkt files, retrive interpol wkt files\n",
    "interpol_wkt_files = []\n",
    "for wkt_file in wkt_files:\n",
    "    if \"interpol\" in wkt_file:\n",
    "        interpol_wkt_files.append(wkt_file)\n",
    "interpol_wkt_files.sort()\n",
    "interpol_wkt_files"
   ]
  },
  {
   "cell_type": "markdown",
   "metadata": {},
   "source": [
    "## [BurnedAreaUAV](https://zenodo.org/records/7944963) Test Set Evalution"
   ]
  },
  {
   "cell_type": "code",
   "execution_count": 5,
   "metadata": {},
   "outputs": [
    {
     "name": "stderr",
     "output_type": "stream",
     "text": [
      "INFO - Reading WKTs files...\n"
     ]
    }
   ],
   "source": [
    "logger.info(\"Reading WKTs files...\")\n",
    "with open(os.path.join(BASE_DIR, config[\"data\"][\"wkt\"][\"train_wkt\"]), \"r\") as f:\n",
    "    train_wkt = f.read().splitlines()\n",
    "\n",
    "with open(os.path.join(BASE_DIR, config[\"data\"][\"wkt\"][\"test_wkt\"]), \"r\") as f:\n",
    "    test_wkt = f.read().splitlines()\n",
    "\n",
    "# evaluation set dictionary\n",
    "eval_set_dict = {}\n",
    "for i, wkt in enumerate(train_wkt):\n",
    "    eval_set_dict[i*100] = wkt\n",
    "for i, wkt in enumerate(test_wkt):\n",
    "    eval_set_dict[(i*100)+20250] = wkt\n",
    "eval_set_dict = dict(sorted(eval_set_dict.items()))"
   ]
  },
  {
   "cell_type": "markdown",
   "metadata": {},
   "source": [
    "### Hausdorf Distance"
   ]
  },
  {
   "cell_type": "code",
   "execution_count": 5,
   "metadata": {},
   "outputs": [],
   "source": [
    "# Create the pattern to match the WKT files\n",
    "pattern_interpol = os.path.join(output_dir, \"*\", \"interpol\", \"*\", \"WKT\", \"*.wkt\")\n",
    "interpol_wkt_files = glob(pattern_interpol)\n",
    "\n",
    "percentages = [10, 30, 50, 70, 90]\n",
    "extrapol_wkt_files = {}\n",
    "\n",
    "for percentage in percentages:\n",
    "    # Create the pattern to match the WKT files\n",
    "    pattern = os.path.join(output_dir, \"*\", \"extrapol\", str(percentage), \"*\", \"WKT\", \"*.wkt\")\n",
    "    # Store the file list in the dictionary using the percentage as the key\n",
    "    extrapol_wkt_files[percentage] = glob(pattern)"
   ]
  },
  {
   "cell_type": "code",
   "execution_count": 6,
   "metadata": {},
   "outputs": [
    {
     "data": {
      "text/plain": [
       "{10: 2200, 30: 6700, 50: 11200, 70: 15700, 90: 20250}"
      ]
     },
     "execution_count": 6,
     "metadata": {},
     "output_type": "execute_result"
    }
   ],
   "source": [
    "# Create a dictionary to store the number frames to be evaluated\n",
    "percentages = [10, 30, 50, 70, 90]\n",
    "final_frames = {}\n",
    "for percentage in percentages:\n",
    "    frame_perc = math.ceil(22500 * (percentage / 100))\n",
    "    final_frame = min(eval_set_dict.keys(), key=lambda x:abs(x-frame_perc))\n",
    "    final_frames[percentage] = final_frame\n",
    "\n",
    "final_frames"
   ]
  },
  {
   "cell_type": "code",
   "execution_count": 7,
   "metadata": {},
   "outputs": [],
   "source": [
    "for percentage, final_frame in final_frames.items():\n",
    "    # From eval set dict, choose all the keys >= final_frame\n",
    "    eval_set_dict_perc = {k: v for k, v in eval_set_dict.items() if k >= final_frame}\n",
    "    eval_set_perc = list(eval_set_dict_perc.keys())\n",
    "    # Save the sorted dict to a WKT file\n",
    "    with open(os.path.join(BASE_DIR, f\"eval_{percentage}.wkt\"), \"w\") as f:\n",
    "        for key, poly in eval_set_dict_perc.items():\n",
    "            f.write(str(poly))\n",
    "            f.write(\"\\n\")"
   ]
  },
  {
   "cell_type": "code",
   "execution_count": 9,
   "metadata": {},
   "outputs": [
    {
     "name": "stderr",
     "output_type": "stream",
     "text": [
      "INFO - Reading WKTs files...\n",
      "INFO - Calculating Hausdorff Distance...\n",
      "INFO - Hausdorff Distance for \u001b[1m../outputs/shape/interpol/sampled/WKT/shape_interpol_sampled.wkt\u001b[0m\n",
      "INFO - Mean:   108.3490, Std Dev.:     8.6310, Min:    91.9837, Max:   125.5388\n",
      "INFO - ...........................................................................\n",
      "\n",
      "INFO - Reading WKTs files...\n",
      "INFO - Calculating Hausdorff Distance...\n",
      "INFO - Hausdorff Distance for \u001b[1m../outputs/shape/interpol/full/WKT/shape_interpol.wkt\u001b[0m\n",
      "INFO - Mean:    60.8145, Std Dev.:    33.3117, Min:    19.4440, Max:   117.0000\n",
      "INFO - ...........................................................................\n",
      "\n",
      "INFO - Reading WKTs files...\n",
      "INFO - Calculating Hausdorff Distance...\n",
      "INFO - Hausdorff Distance for \u001b[1m../outputs/CVAE/interpol/sampled/WKT/file.wkt\u001b[0m\n",
      "INFO - Mean:    87.7788, Std Dev.:     9.1669, Min:    76.5376, Max:   119.5492\n",
      "INFO - ...........................................................................\n",
      "\n",
      "INFO - Reading WKTs files...\n",
      "INFO - Calculating Hausdorff Distance...\n",
      "INFO - Hausdorff Distance for \u001b[1m../outputs/CVAE/interpol/full/WKT/file.wkt\u001b[0m\n",
      "INFO - Mean:    50.3446, Std Dev.:    28.8379, Min:    20.8614, Max:   113.2652\n",
      "INFO - ...........................................................................\n",
      "\n",
      "INFO - Reading WKTs files...\n",
      "INFO - Calculating Hausdorff Distance...\n",
      "INFO - Hausdorff Distance for \u001b[1m../outputs/pstg/interpol/sampled/WKT/pyspatial_interpol_sampled.wkt\u001b[0m\n",
      "INFO - Mean:   103.0680, Std Dev.:    30.7445, Min:    23.0136, Max:   146.5206\n",
      "INFO - ...........................................................................\n",
      "\n",
      "INFO - Reading WKTs files...\n",
      "INFO - Calculating Hausdorff Distance...\n",
      "INFO - Hausdorff Distance for \u001b[1m../outputs/pstg/interpol/full/WKT/pyspatial_interpol.wkt\u001b[0m\n",
      "INFO - Mean:   113.1611, Std Dev.:    33.8318, Min:    86.2794, Max:   266.3033\n",
      "INFO - ...........................................................................\n",
      "\n"
     ]
    }
   ],
   "source": [
    "# Open the file in append mode\n",
    "with open('interpol_hd.csv', 'a', newline='') as file:\n",
    "    writer = csv.writer(file)\n",
    "\n",
    "    # Write the header only if the file is empty\n",
    "    if file.tell() == 0:\n",
    "        writer.writerow([\"wkt_file\", \"mean_hd\", \"hd_list\"])\n",
    "\n",
    "    for wkt_file in interpol_wkt_files:\n",
    "        # test set frame indexes \n",
    "        idx = np.linspace(20250, 22450, 23).astype(int)\n",
    "        mean_hd, hd_list = hausdorff_dist_wkt(gt_wkt=test_wkt_path, model_wkt=wkt_file, eval_idx=idx)\n",
    "\n",
    "        logger.info(f\"Hausdorff Distance for \\033[1m{wkt_file}\\033[0m\")\n",
    "        logger.info(f\"Mean: {mean_hd:10.4f}, Std Dev.: {np.std(hd_list):10.4f}, Min: {np.min(hd_list):10.4f}, Max: {np.max(hd_list):10.4f}\")\n",
    "        logger.info(\"...........................................................................\\n\") \n",
    "\n",
    "        # Write the data\n",
    "        writer.writerow([wkt_file, mean_hd, hd_list])"
   ]
  },
  {
   "cell_type": "code",
   "execution_count": 8,
   "metadata": {},
   "outputs": [
    {
     "data": {
      "text/plain": [
       "dict_items([(10, 2200), (30, 6700), (50, 11200), (70, 15700), (90, 20250)])"
      ]
     },
     "execution_count": 8,
     "metadata": {},
     "output_type": "execute_result"
    }
   ],
   "source": [
    "final_frames.items()"
   ]
  },
  {
   "cell_type": "code",
   "execution_count": 8,
   "metadata": {},
   "outputs": [],
   "source": [
    "horinzont = [500, 1000, 1500, 2000]\n",
    "periodicity = 100\n",
    "# Create a dictionary to store the number frames to be evaluated\n",
    "horinzont_frames = {}\n",
    "for percentage, final_frame in final_frames.items():\n",
    "    horinzont_frames[percentage] = {\n",
    "        h: [\n",
    "            frame\n",
    "            for frame in range(\n",
    "                final_frame + periodicity, final_frame + h + periodicity, periodicity\n",
    "            )\n",
    "        ]\n",
    "        for h in horinzont\n",
    "    }"
   ]
  },
  {
   "cell_type": "code",
   "execution_count": 9,
   "metadata": {},
   "outputs": [
    {
     "name": "stdout",
     "output_type": "stream",
     "text": [
      "/home/tiagociic/Projectos/spatiotemporal-vae-reconstruction/eval_10.wkt\n",
      "/home/tiagociic/Projectos/spatiotemporal-vae-reconstruction/eval_30.wkt\n",
      "/home/tiagociic/Projectos/spatiotemporal-vae-reconstruction/eval_50.wkt\n",
      "/home/tiagociic/Projectos/spatiotemporal-vae-reconstruction/eval_70.wkt\n",
      "/home/tiagociic/Projectos/spatiotemporal-vae-reconstruction/eval_90.wkt\n"
     ]
    }
   ],
   "source": [
    "for percentage in percentages:\n",
    "    eval_wkt = os.path.join(BASE_DIR, f\"eval_{percentage}.wkt\")\n",
    "    print(eval_wkt)"
   ]
  },
  {
   "cell_type": "markdown",
   "metadata": {},
   "source": [
    "## U-Net eval"
   ]
  },
  {
   "cell_type": "code",
   "execution_count": 9,
   "metadata": {},
   "outputs": [],
   "source": [
    "# retrieve unet wkt files only\n",
    "unet_wkt_files = {}\n",
    "for percentage, wkt_files in extrapol_wkt_files.items():\n",
    "    unet_wkt_files[percentage] = [wkt_file for wkt_file in wkt_files if \"unet.wkt\" in wkt_file]"
   ]
  },
  {
   "cell_type": "code",
   "execution_count": 30,
   "metadata": {},
   "outputs": [
    {
     "name": "stderr",
     "output_type": "stream",
     "text": [
      "INFO - Reading WKTs files...\n"
     ]
    },
    {
     "name": "stdout",
     "output_type": "stream",
     "text": [
      "/home/tiagociic/Projectos/spatiotemporal-vae-reconstruction/eval_10.wkt /home/tiagociic/Projectos/spatiotemporal-vae-reconstruction/outputs/CVAE/extrapol/10/unet/WKT/extrapol_unet.wkt [2700, 3200, 3700, 4200]\n"
     ]
    },
    {
     "name": "stderr",
     "output_type": "stream",
     "text": [
      "WARNING - Number of polygons in ground truth (227) and model (4) do not match.\n",
      "INFO - Calculating Hausdorff Distance...\n",
      "INFO - Hausdorff Distance for \u001b[1m/home/tiagociic/Projectos/spatiotemporal-vae-reconstruction/outputs/CVAE/extrapol/10/unet/WKT/extrapol_unet.wkt\u001b[0m\n",
      "INFO - Horizons: \n",
      "500:    34.0147, \n",
      "1000:    27.0000, \n",
      "1500:    26.6271, \n",
      "2000:    35.9026\n",
      "INFO - ...........................................................................\n",
      "\n",
      "INFO - Reading WKTs files...\n"
     ]
    },
    {
     "name": "stdout",
     "output_type": "stream",
     "text": [
      "/home/tiagociic/Projectos/spatiotemporal-vae-reconstruction/eval_30.wkt /home/tiagociic/Projectos/spatiotemporal-vae-reconstruction/outputs/CVAE/extrapol/30/unet/WKT/extrapol_unet.wkt [7200, 7700, 8200, 8700]\n"
     ]
    },
    {
     "name": "stderr",
     "output_type": "stream",
     "text": [
      "WARNING - Number of polygons in ground truth (182) and model (4) do not match.\n",
      "INFO - Calculating Hausdorff Distance...\n",
      "INFO - Hausdorff Distance for \u001b[1m/home/tiagociic/Projectos/spatiotemporal-vae-reconstruction/outputs/CVAE/extrapol/30/unet/WKT/extrapol_unet.wkt\u001b[0m\n",
      "INFO - Horizons: \n",
      "500:    33.0000, \n",
      "1000:    28.6078, \n",
      "1500:    33.1796, \n",
      "2000:    41.6580\n",
      "INFO - ...........................................................................\n",
      "\n",
      "INFO - Reading WKTs files...\n"
     ]
    },
    {
     "name": "stdout",
     "output_type": "stream",
     "text": [
      "/home/tiagociic/Projectos/spatiotemporal-vae-reconstruction/eval_50.wkt /home/tiagociic/Projectos/spatiotemporal-vae-reconstruction/outputs/CVAE/extrapol/50/unet/WKT/extrapol_unet.wkt [11700, 12200, 12700, 13200]\n"
     ]
    },
    {
     "name": "stderr",
     "output_type": "stream",
     "text": [
      "WARNING - Number of polygons in ground truth (137) and model (4) do not match.\n",
      "INFO - Calculating Hausdorff Distance...\n",
      "INFO - Hausdorff Distance for \u001b[1m/home/tiagociic/Projectos/spatiotemporal-vae-reconstruction/outputs/CVAE/extrapol/50/unet/WKT/extrapol_unet.wkt\u001b[0m\n",
      "INFO - Horizons: \n",
      "500:    71.0000, \n",
      "1000:    71.0000, \n",
      "1500:    89.0000, \n",
      "2000:    88.0227\n",
      "INFO - ...........................................................................\n",
      "\n",
      "INFO - Reading WKTs files...\n"
     ]
    },
    {
     "name": "stdout",
     "output_type": "stream",
     "text": [
      "/home/tiagociic/Projectos/spatiotemporal-vae-reconstruction/eval_70.wkt /home/tiagociic/Projectos/spatiotemporal-vae-reconstruction/outputs/CVAE/extrapol/70/unet/WKT/extrapol_unet.wkt [16200, 16700, 17200, 17700]\n"
     ]
    },
    {
     "name": "stderr",
     "output_type": "stream",
     "text": [
      "WARNING - Number of polygons in ground truth (92) and model (4) do not match.\n",
      "INFO - Calculating Hausdorff Distance...\n",
      "INFO - Hausdorff Distance for \u001b[1m/home/tiagociic/Projectos/spatiotemporal-vae-reconstruction/outputs/CVAE/extrapol/70/unet/WKT/extrapol_unet.wkt\u001b[0m\n",
      "INFO - Horizons: \n",
      "500:    38.6394, \n",
      "1000:    54.0000, \n",
      "1500:    56.1427, \n",
      "2000:    45.3431\n",
      "INFO - ...........................................................................\n",
      "\n",
      "INFO - Reading WKTs files...\n"
     ]
    },
    {
     "name": "stdout",
     "output_type": "stream",
     "text": [
      "/home/tiagociic/Projectos/spatiotemporal-vae-reconstruction/eval_90.wkt /home/tiagociic/Projectos/spatiotemporal-vae-reconstruction/outputs/CVAE/extrapol/90/unet/WKT/extrapol_unet.wkt [20750, 21250, 21750, 22250]\n"
     ]
    },
    {
     "name": "stderr",
     "output_type": "stream",
     "text": [
      "WARNING - Number of polygons in ground truth (46) and model (4) do not match.\n",
      "INFO - Calculating Hausdorff Distance...\n",
      "INFO - Hausdorff Distance for \u001b[1m/home/tiagociic/Projectos/spatiotemporal-vae-reconstruction/outputs/CVAE/extrapol/90/unet/WKT/extrapol_unet.wkt\u001b[0m\n",
      "INFO - Horizons: \n",
      "500:    85.0000, \n",
      "1000:    43.0465, \n",
      "1500:    62.9682, \n",
      "2000:    41.9806\n",
      "INFO - ...........................................................................\n",
      "\n"
     ]
    }
   ],
   "source": [
    "for percentage in percentages:\n",
    "    eval_wkt = os.path.join(BASE_DIR, f\"eval_{percentage}.wkt\")\n",
    "    unet_wkt_file = os.path.abspath(unet_wkt_files[percentage][0])\n",
    "    h_frames = horinzont_frames[percentage]\n",
    "    print(eval_wkt, unet_wkt_file, h_frames)\n",
    "\n",
    "    # Open the file in append mode\n",
    "    with open(\"unet_{percentage}_hd.csv\", \"a\", newline=\"\") as file:\n",
    "        writer = csv.writer(file)\n",
    "\n",
    "        # Write the header only if the file is empty\n",
    "        if file.tell() == 0:\n",
    "            writer.writerow(\n",
    "                [\n",
    "                    \"wkt_file\",\n",
    "                    \"mean_hd\",\n",
    "                    \"horinzon_500\",\n",
    "                    \"horinzon_1000\",\n",
    "                    \"horinzon_1500\",\n",
    "                    \"horinzon_2000\",\n",
    "                ]\n",
    "            )\n",
    "\n",
    "        mean_hd, hd_list = hausdorff_dist_wkt(\n",
    "            gt_wkt=eval_wkt, model_wkt=unet_wkt_file, eval_idx=h_frames\n",
    "        )\n",
    "\n",
    "        logger.info(f\"Hausdorff Distance for \\033[1m{unet_wkt_file}\\033[0m\")\n",
    "        logger.info(\n",
    "            f\"Horizons: \\n500: {hd_list[0]:10.4f}, \\n1000: {hd_list[1]:10.4f}, \\n1500: {hd_list[2]:10.4f}, \\n2000: {hd_list[3]:10.4f}\"\n",
    "        )\n",
    "        logger.info(\n",
    "            \"...........................................................................\\n\"\n",
    "        )\n",
    "        # Write the data\n",
    "        writer.writerow(\n",
    "            [unet_wkt_file, mean_hd, hd_list[0], hd_list[1], hd_list[2], hd_list[3]]\n",
    "        )"
   ]
  },
  {
   "cell_type": "code",
   "execution_count": 47,
   "metadata": {},
   "outputs": [
    {
     "name": "stderr",
     "output_type": "stream",
     "text": [
      "INFO - Reading WKTs files...\n",
      "WARNING - Number of polygons in ground truth (227) and model (5) do not match.\n",
      "INFO - Calculating Hausdorff Distance...\n",
      "INFO - Hausdorff Distance for \u001b[1m/home/tiagociic/Projectos/spatiotemporal-vae-reconstruction/outputs/CVAE/extrapol/10/unet/WKT/extrapol_unet.wkt\u001b[0m\n",
      "INFO - Horizon: 500, Mean:    37.8044, Std. Dev:    11.3940, Max:    60.0083, Min:    29.0000\n",
      "INFO - ...........................................................................\n",
      "\n",
      "INFO - Reading WKTs files...\n",
      "WARNING - Number of polygons in ground truth (227) and model (10) do not match.\n",
      "INFO - Calculating Hausdorff Distance...\n",
      "INFO - Hausdorff Distance for \u001b[1m/home/tiagociic/Projectos/spatiotemporal-vae-reconstruction/outputs/CVAE/extrapol/10/unet/WKT/extrapol_unet.wkt\u001b[0m\n",
      "INFO - Horizon: 1000, Mean:    51.4301, Std. Dev:    23.5806, Max:   108.0185, Min:    29.0000\n",
      "INFO - ...........................................................................\n",
      "\n",
      "INFO - Reading WKTs files...\n",
      "WARNING - Number of polygons in ground truth (227) and model (15) do not match.\n",
      "INFO - Calculating Hausdorff Distance...\n",
      "INFO - Hausdorff Distance for \u001b[1m/home/tiagociic/Projectos/spatiotemporal-vae-reconstruction/outputs/CVAE/extrapol/10/unet/WKT/extrapol_unet.wkt\u001b[0m\n",
      "INFO - Horizon: 1500, Mean:    68.2494, Std. Dev:    30.6337, Max:   108.0185, Min:    29.0000\n",
      "INFO - ...........................................................................\n",
      "\n",
      "INFO - Reading WKTs files...\n",
      "WARNING - Number of polygons in ground truth (227) and model (20) do not match.\n",
      "INFO - Calculating Hausdorff Distance...\n",
      "INFO - Hausdorff Distance for \u001b[1m/home/tiagociic/Projectos/spatiotemporal-vae-reconstruction/outputs/CVAE/extrapol/10/unet/WKT/extrapol_unet.wkt\u001b[0m\n",
      "INFO - Horizon: 2000, Mean:    76.7057, Std. Dev:    30.3461, Max:   108.0185, Min:    29.0000\n",
      "INFO - ...........................................................................\n",
      "\n",
      "INFO - Reading WKTs files...\n",
      "WARNING - Number of polygons in ground truth (182) and model (5) do not match.\n",
      "INFO - Calculating Hausdorff Distance...\n",
      "INFO - Hausdorff Distance for \u001b[1m/home/tiagociic/Projectos/spatiotemporal-vae-reconstruction/outputs/CVAE/extrapol/30/unet/WKT/extrapol_unet.wkt\u001b[0m\n",
      "INFO - Horizon: 500, Mean:    36.2869, Std. Dev:     6.8537, Max:    46.4546, Min:    28.0179\n",
      "INFO - ...........................................................................\n",
      "\n",
      "INFO - Reading WKTs files...\n",
      "WARNING - Number of polygons in ground truth (182) and model (10) do not match.\n",
      "INFO - Calculating Hausdorff Distance...\n",
      "INFO - Hausdorff Distance for \u001b[1m/home/tiagociic/Projectos/spatiotemporal-vae-reconstruction/outputs/CVAE/extrapol/30/unet/WKT/extrapol_unet.wkt\u001b[0m\n",
      "INFO - Horizon: 1000, Mean:    53.0193, Std. Dev:    19.2500, Max:    85.7030, Min:    28.0179\n",
      "INFO - ...........................................................................\n",
      "\n",
      "INFO - Reading WKTs files...\n",
      "WARNING - Number of polygons in ground truth (182) and model (15) do not match.\n",
      "INFO - Calculating Hausdorff Distance...\n",
      "INFO - Hausdorff Distance for \u001b[1m/home/tiagociic/Projectos/spatiotemporal-vae-reconstruction/outputs/CVAE/extrapol/30/unet/WKT/extrapol_unet.wkt\u001b[0m\n",
      "INFO - Horizon: 1500, Mean:    62.6233, Std. Dev:    20.8884, Max:    86.5390, Min:    28.0179\n",
      "INFO - ...........................................................................\n",
      "\n",
      "INFO - Reading WKTs files...\n",
      "WARNING - Number of polygons in ground truth (182) and model (20) do not match.\n",
      "INFO - Calculating Hausdorff Distance...\n",
      "INFO - Hausdorff Distance for \u001b[1m/home/tiagociic/Projectos/spatiotemporal-vae-reconstruction/outputs/CVAE/extrapol/30/unet/WKT/extrapol_unet.wkt\u001b[0m\n",
      "INFO - Horizon: 2000, Mean:    71.6054, Std. Dev:    24.1076, Max:   106.7942, Min:    28.0179\n",
      "INFO - ...........................................................................\n",
      "\n",
      "INFO - Reading WKTs files...\n",
      "WARNING - Number of polygons in ground truth (137) and model (5) do not match.\n",
      "INFO - Calculating Hausdorff Distance...\n",
      "INFO - Hausdorff Distance for \u001b[1m/home/tiagociic/Projectos/spatiotemporal-vae-reconstruction/outputs/CVAE/extrapol/50/unet/WKT/extrapol_unet.wkt\u001b[0m\n",
      "INFO - Horizon: 500, Mean:    75.7167, Std. Dev:    10.6384, Max:    89.0000, Min:    63.5610\n",
      "INFO - ...........................................................................\n",
      "\n",
      "INFO - Reading WKTs files...\n",
      "WARNING - Number of polygons in ground truth (137) and model (10) do not match.\n",
      "INFO - Calculating Hausdorff Distance...\n",
      "INFO - Hausdorff Distance for \u001b[1m/home/tiagociic/Projectos/spatiotemporal-vae-reconstruction/outputs/CVAE/extrapol/50/unet/WKT/extrapol_unet.wkt\u001b[0m\n",
      "INFO - Horizon: 1000, Mean:    65.1501, Std. Dev:    15.6440, Max:    89.0000, Min:    43.0000\n",
      "INFO - ...........................................................................\n",
      "\n",
      "INFO - Reading WKTs files...\n",
      "WARNING - Number of polygons in ground truth (137) and model (15) do not match.\n",
      "INFO - Calculating Hausdorff Distance...\n",
      "INFO - Hausdorff Distance for \u001b[1m/home/tiagociic/Projectos/spatiotemporal-vae-reconstruction/outputs/CVAE/extrapol/50/unet/WKT/extrapol_unet.wkt\u001b[0m\n",
      "INFO - Horizon: 1500, Mean:    61.4830, Std. Dev:    17.4932, Max:    90.0000, Min:    38.0132\n",
      "INFO - ...........................................................................\n",
      "\n",
      "INFO - Reading WKTs files...\n",
      "WARNING - Number of polygons in ground truth (137) and model (20) do not match.\n",
      "INFO - Calculating Hausdorff Distance...\n",
      "INFO - Hausdorff Distance for \u001b[1m/home/tiagociic/Projectos/spatiotemporal-vae-reconstruction/outputs/CVAE/extrapol/50/unet/WKT/extrapol_unet.wkt\u001b[0m\n",
      "INFO - Horizon: 2000, Mean:    64.3019, Std. Dev:    17.3872, Max:    90.0000, Min:    38.0132\n",
      "INFO - ...........................................................................\n",
      "\n",
      "INFO - Reading WKTs files...\n",
      "WARNING - Number of polygons in ground truth (92) and model (5) do not match.\n",
      "INFO - Calculating Hausdorff Distance...\n",
      "INFO - Hausdorff Distance for \u001b[1m/home/tiagociic/Projectos/spatiotemporal-vae-reconstruction/outputs/CVAE/extrapol/70/unet/WKT/extrapol_unet.wkt\u001b[0m\n",
      "INFO - Horizon: 500, Mean:    45.8728, Std. Dev:     5.2234, Max:    52.4690, Min:    38.3275\n",
      "INFO - ...........................................................................\n",
      "\n",
      "INFO - Reading WKTs files...\n",
      "WARNING - Number of polygons in ground truth (92) and model (10) do not match.\n",
      "INFO - Calculating Hausdorff Distance...\n",
      "INFO - Hausdorff Distance for \u001b[1m/home/tiagociic/Projectos/spatiotemporal-vae-reconstruction/outputs/CVAE/extrapol/70/unet/WKT/extrapol_unet.wkt\u001b[0m\n",
      "INFO - Horizon: 1000, Mean:    48.4330, Std. Dev:     6.9967, Max:    63.0000, Min:    38.3275\n",
      "INFO - ...........................................................................\n",
      "\n",
      "INFO - Reading WKTs files...\n",
      "WARNING - Number of polygons in ground truth (92) and model (15) do not match.\n",
      "INFO - Calculating Hausdorff Distance...\n",
      "INFO - Hausdorff Distance for \u001b[1m/home/tiagociic/Projectos/spatiotemporal-vae-reconstruction/outputs/CVAE/extrapol/70/unet/WKT/extrapol_unet.wkt\u001b[0m\n",
      "INFO - Horizon: 1500, Mean:    48.0119, Std. Dev:     6.3350, Max:    63.0000, Min:    38.3275\n",
      "INFO - ...........................................................................\n",
      "\n",
      "INFO - Reading WKTs files...\n",
      "WARNING - Number of polygons in ground truth (92) and model (20) do not match.\n",
      "INFO - Calculating Hausdorff Distance...\n",
      "INFO - Hausdorff Distance for \u001b[1m/home/tiagociic/Projectos/spatiotemporal-vae-reconstruction/outputs/CVAE/extrapol/70/unet/WKT/extrapol_unet.wkt\u001b[0m\n",
      "INFO - Horizon: 2000, Mean:    52.3522, Std. Dev:     9.8044, Max:    77.1038, Min:    38.3275\n",
      "INFO - ...........................................................................\n",
      "\n",
      "INFO - Reading WKTs files...\n",
      "WARNING - Number of polygons in ground truth (46) and model (5) do not match.\n",
      "INFO - Calculating Hausdorff Distance...\n",
      "INFO - Hausdorff Distance for \u001b[1m/home/tiagociic/Projectos/spatiotemporal-vae-reconstruction/outputs/CVAE/extrapol/90/unet/WKT/extrapol_unet.wkt\u001b[0m\n",
      "INFO - Horizon: 500, Mean:    57.7360, Std. Dev:    16.8073, Max:    84.8646, Min:    37.8636\n",
      "INFO - ...........................................................................\n",
      "\n",
      "INFO - Reading WKTs files...\n",
      "WARNING - Number of polygons in ground truth (46) and model (10) do not match.\n",
      "INFO - Calculating Hausdorff Distance...\n",
      "INFO - Hausdorff Distance for \u001b[1m/home/tiagociic/Projectos/spatiotemporal-vae-reconstruction/outputs/CVAE/extrapol/90/unet/WKT/extrapol_unet.wkt\u001b[0m\n",
      "INFO - Horizon: 1000, Mean:    61.5302, Std. Dev:    15.4143, Max:    84.8646, Min:    37.8636\n",
      "INFO - ...........................................................................\n",
      "\n",
      "INFO - Reading WKTs files...\n",
      "WARNING - Number of polygons in ground truth (46) and model (15) do not match.\n",
      "INFO - Calculating Hausdorff Distance...\n",
      "INFO - Hausdorff Distance for \u001b[1m/home/tiagociic/Projectos/spatiotemporal-vae-reconstruction/outputs/CVAE/extrapol/90/unet/WKT/extrapol_unet.wkt\u001b[0m\n",
      "INFO - Horizon: 1500, Mean:    65.1859, Std. Dev:    14.3378, Max:    86.2844, Min:    37.8636\n",
      "INFO - ...........................................................................\n",
      "\n",
      "INFO - Reading WKTs files...\n",
      "WARNING - Number of polygons in ground truth (46) and model (20) do not match.\n",
      "INFO - Calculating Hausdorff Distance...\n",
      "INFO - Hausdorff Distance for \u001b[1m/home/tiagociic/Projectos/spatiotemporal-vae-reconstruction/outputs/CVAE/extrapol/90/unet/WKT/extrapol_unet.wkt\u001b[0m\n",
      "INFO - Horizon: 2000, Mean:    70.5646, Std. Dev:    16.3972, Max:   107.2007, Min:    37.8636\n",
      "INFO - ...........................................................................\n",
      "\n"
     ]
    }
   ],
   "source": [
    "\n",
    "for percentage in percentages:\n",
    "    eval_wkt = os.path.join(BASE_DIR, f\"eval_{percentage}.wkt\")\n",
    "    unet_wkt_file = os.path.abspath(unet_wkt_files[percentage][0])\n",
    "    h_frames = horinzont_frames[percentage]\n",
    "\n",
    "    # Open the file in append mode\n",
    "    with open(f\"unet_{percentage}_hd_list.csv\", \"a\", newline=\"\") as file:\n",
    "        writer = csv.writer(file)\n",
    "\n",
    "        # Write the header only if the file is empty\n",
    "        if file.tell() == 0:\n",
    "            writer.writerow(\n",
    "                [\n",
    "                    \"Percentage\",\n",
    "                    \"Horizon\",\n",
    "                    \"Mean\",\n",
    "                    \"Std. Dev\",\n",
    "                    \"Max\",\n",
    "                    \"Min\",\n",
    "                    \"List\"\n",
    "                ]\n",
    "            )\n",
    "\n",
    "        for horizon, frames in h_frames.items():\n",
    "            mean_hd, hd_list = hausdorff_dist_wkt(\n",
    "                gt_wkt=eval_wkt, model_wkt=unet_wkt_file, eval_idx=frames\n",
    "            )\n",
    "\n",
    "            std_hd = np.std(hd_list)\n",
    "            max_hd = np.max(hd_list)\n",
    "            min_hd = np.min(hd_list)\n",
    "\n",
    "            logger.info(f\"Hausdorff Distance for \\033[1m{unet_wkt_file}\\033[0m\")\n",
    "            logger.info(\n",
    "                f\"Horizon: {horizon}, Mean: {mean_hd:10.4f}, Std. Dev: {std_hd:10.4f}, Max: {max_hd:10.4f}, Min: {min_hd:10.4f}\"\n",
    "            )\n",
    "            logger.info(\n",
    "                \"...........................................................................\\n\"\n",
    "            )\n",
    "            # Write the data\n",
    "            writer.writerow(\n",
    "                [percentage, horizon, mean_hd, std_hd, max_hd, min_hd, hd_list]\n",
    "            )"
   ]
  },
  {
   "cell_type": "code",
   "execution_count": 46,
   "metadata": {},
   "outputs": [
    {
     "name": "stderr",
     "output_type": "stream",
     "text": [
      "INFO - Reading WKTs files...\n",
      "WARNING - Number of polygons in ground truth (227) and model (5) do not match.\n",
      "INFO - Calculating IoU...\n",
      "INFO - IoU for \u001b[1m/home/tiagociic/Projectos/spatiotemporal-vae-reconstruction/outputs/CVAE/extrapol/10/unet/WKT/extrapol_unet.wkt\u001b[0m\n",
      "INFO - Horizon: 500, Mean:     0.9300, Std. Dev:     0.0169, Max:     0.9536, Min:     0.9092\n",
      "INFO - ...........................................................................\n",
      "\n",
      "INFO - Reading WKTs files...\n",
      "WARNING - Number of polygons in ground truth (227) and model (10) do not match.\n",
      "INFO - Calculating IoU...\n",
      "INFO - IoU for \u001b[1m/home/tiagociic/Projectos/spatiotemporal-vae-reconstruction/outputs/CVAE/extrapol/10/unet/WKT/extrapol_unet.wkt\u001b[0m\n",
      "INFO - Horizon: 1000, Mean:     0.9131, Std. Dev:     0.0210, Max:     0.9536, Min:     0.8918\n",
      "INFO - ...........................................................................\n",
      "\n",
      "INFO - Reading WKTs files...\n",
      "WARNING - Number of polygons in ground truth (227) and model (15) do not match.\n",
      "INFO - Calculating IoU...\n",
      "INFO - IoU for \u001b[1m/home/tiagociic/Projectos/spatiotemporal-vae-reconstruction/outputs/CVAE/extrapol/10/unet/WKT/extrapol_unet.wkt\u001b[0m\n",
      "INFO - Horizon: 1500, Mean:     0.9015, Std. Dev:     0.0244, Max:     0.9536, Min:     0.8602\n",
      "INFO - ...........................................................................\n",
      "\n",
      "INFO - Reading WKTs files...\n",
      "WARNING - Number of polygons in ground truth (227) and model (20) do not match.\n",
      "INFO - Calculating IoU...\n",
      "INFO - IoU for \u001b[1m/home/tiagociic/Projectos/spatiotemporal-vae-reconstruction/outputs/CVAE/extrapol/10/unet/WKT/extrapol_unet.wkt\u001b[0m\n",
      "INFO - Horizon: 2000, Mean:     0.8917, Std. Dev:     0.0272, Max:     0.9536, Min:     0.8575\n",
      "INFO - ...........................................................................\n",
      "\n",
      "INFO - Reading WKTs files...\n",
      "WARNING - Number of polygons in ground truth (182) and model (5) do not match.\n",
      "INFO - Calculating IoU...\n",
      "INFO - IoU for \u001b[1m/home/tiagociic/Projectos/spatiotemporal-vae-reconstruction/outputs/CVAE/extrapol/30/unet/WKT/extrapol_unet.wkt\u001b[0m\n",
      "INFO - Horizon: 500, Mean:     0.9123, Std. Dev:     0.0083, Max:     0.9241, Min:     0.9033\n",
      "INFO - ...........................................................................\n",
      "\n",
      "INFO - Reading WKTs files...\n",
      "WARNING - Number of polygons in ground truth (182) and model (10) do not match.\n",
      "INFO - Calculating IoU...\n",
      "INFO - IoU for \u001b[1m/home/tiagociic/Projectos/spatiotemporal-vae-reconstruction/outputs/CVAE/extrapol/30/unet/WKT/extrapol_unet.wkt\u001b[0m\n",
      "INFO - Horizon: 1000, Mean:     0.8867, Std. Dev:     0.0358, Max:     0.9241, Min:     0.8063\n",
      "INFO - ...........................................................................\n",
      "\n",
      "INFO - Reading WKTs files...\n",
      "WARNING - Number of polygons in ground truth (182) and model (15) do not match.\n",
      "INFO - Calculating IoU...\n",
      "INFO - IoU for \u001b[1m/home/tiagociic/Projectos/spatiotemporal-vae-reconstruction/outputs/CVAE/extrapol/30/unet/WKT/extrapol_unet.wkt\u001b[0m\n",
      "INFO - Horizon: 1500, Mean:     0.8622, Std. Dev:     0.0459, Max:     0.9241, Min:     0.7957\n",
      "INFO - ...........................................................................\n",
      "\n",
      "INFO - Reading WKTs files...\n",
      "WARNING - Number of polygons in ground truth (182) and model (20) do not match.\n",
      "INFO - Calculating IoU...\n",
      "INFO - IoU for \u001b[1m/home/tiagociic/Projectos/spatiotemporal-vae-reconstruction/outputs/CVAE/extrapol/30/unet/WKT/extrapol_unet.wkt\u001b[0m\n",
      "INFO - Horizon: 2000, Mean:     0.8301, Std. Dev:     0.0691, Max:     0.9241, Min:     0.7035\n",
      "INFO - ...........................................................................\n",
      "\n",
      "INFO - Reading WKTs files...\n",
      "WARNING - Number of polygons in ground truth (137) and model (5) do not match.\n",
      "INFO - Calculating IoU...\n",
      "INFO - IoU for \u001b[1m/home/tiagociic/Projectos/spatiotemporal-vae-reconstruction/outputs/CVAE/extrapol/50/unet/WKT/extrapol_unet.wkt\u001b[0m\n",
      "INFO - Horizon: 500, Mean:     0.9111, Std. Dev:     0.0043, Max:     0.9155, Min:     0.9054\n",
      "INFO - ...........................................................................\n",
      "\n",
      "INFO - Reading WKTs files...\n",
      "WARNING - Number of polygons in ground truth (137) and model (10) do not match.\n",
      "INFO - Calculating IoU...\n",
      "INFO - IoU for \u001b[1m/home/tiagociic/Projectos/spatiotemporal-vae-reconstruction/outputs/CVAE/extrapol/50/unet/WKT/extrapol_unet.wkt\u001b[0m\n",
      "INFO - Horizon: 1000, Mean:     0.9143, Std. Dev:     0.0073, Max:     0.9326, Min:     0.9054\n",
      "INFO - ...........................................................................\n",
      "\n",
      "INFO - Reading WKTs files...\n",
      "WARNING - Number of polygons in ground truth (137) and model (15) do not match.\n",
      "INFO - Calculating IoU...\n",
      "INFO - IoU for \u001b[1m/home/tiagociic/Projectos/spatiotemporal-vae-reconstruction/outputs/CVAE/extrapol/50/unet/WKT/extrapol_unet.wkt\u001b[0m\n",
      "INFO - Horizon: 1500, Mean:     0.9138, Std. Dev:     0.0083, Max:     0.9326, Min:     0.8987\n",
      "INFO - ...........................................................................\n",
      "\n",
      "INFO - Reading WKTs files...\n",
      "WARNING - Number of polygons in ground truth (137) and model (20) do not match.\n",
      "INFO - Calculating IoU...\n",
      "INFO - IoU for \u001b[1m/home/tiagociic/Projectos/spatiotemporal-vae-reconstruction/outputs/CVAE/extrapol/50/unet/WKT/extrapol_unet.wkt\u001b[0m\n",
      "INFO - Horizon: 2000, Mean:     0.8961, Std. Dev:     0.0345, Max:     0.9326, Min:     0.8256\n",
      "INFO - ...........................................................................\n",
      "\n",
      "INFO - Reading WKTs files...\n",
      "WARNING - Number of polygons in ground truth (92) and model (5) do not match.\n",
      "INFO - Calculating IoU...\n",
      "INFO - IoU for \u001b[1m/home/tiagociic/Projectos/spatiotemporal-vae-reconstruction/outputs/CVAE/extrapol/70/unet/WKT/extrapol_unet.wkt\u001b[0m\n",
      "INFO - Horizon: 500, Mean:     0.9238, Std. Dev:     0.0095, Max:     0.9365, Min:     0.9145\n",
      "INFO - ...........................................................................\n",
      "\n",
      "INFO - Reading WKTs files...\n",
      "WARNING - Number of polygons in ground truth (92) and model (10) do not match.\n",
      "INFO - Calculating IoU...\n",
      "INFO - IoU for \u001b[1m/home/tiagociic/Projectos/spatiotemporal-vae-reconstruction/outputs/CVAE/extrapol/70/unet/WKT/extrapol_unet.wkt\u001b[0m\n",
      "INFO - Horizon: 1000, Mean:     0.9184, Std. Dev:     0.0126, Max:     0.9365, Min:     0.8906\n",
      "INFO - ...........................................................................\n",
      "\n",
      "INFO - Reading WKTs files...\n",
      "WARNING - Number of polygons in ground truth (92) and model (15) do not match.\n",
      "INFO - Calculating IoU...\n",
      "INFO - IoU for \u001b[1m/home/tiagociic/Projectos/spatiotemporal-vae-reconstruction/outputs/CVAE/extrapol/70/unet/WKT/extrapol_unet.wkt\u001b[0m\n",
      "INFO - Horizon: 1500, Mean:     0.9158, Std. Dev:     0.0124, Max:     0.9365, Min:     0.8906\n",
      "INFO - ...........................................................................\n",
      "\n",
      "INFO - Reading WKTs files...\n",
      "WARNING - Number of polygons in ground truth (92) and model (20) do not match.\n",
      "INFO - Calculating IoU...\n",
      "INFO - IoU for \u001b[1m/home/tiagociic/Projectos/spatiotemporal-vae-reconstruction/outputs/CVAE/extrapol/70/unet/WKT/extrapol_unet.wkt\u001b[0m\n",
      "INFO - Horizon: 2000, Mean:     0.9081, Std. Dev:     0.0177, Max:     0.9365, Min:     0.8731\n",
      "INFO - ...........................................................................\n",
      "\n",
      "INFO - Reading WKTs files...\n",
      "WARNING - Number of polygons in ground truth (46) and model (5) do not match.\n",
      "INFO - Calculating IoU...\n",
      "INFO - IoU for \u001b[1m/home/tiagociic/Projectos/spatiotemporal-vae-reconstruction/outputs/CVAE/extrapol/90/unet/WKT/extrapol_unet.wkt\u001b[0m\n",
      "INFO - Horizon: 500, Mean:     0.9156, Std. Dev:     0.0165, Max:     0.9364, Min:     0.8941\n",
      "INFO - ...........................................................................\n",
      "\n",
      "INFO - Reading WKTs files...\n",
      "WARNING - Number of polygons in ground truth (46) and model (10) do not match.\n",
      "INFO - Calculating IoU...\n",
      "INFO - IoU for \u001b[1m/home/tiagociic/Projectos/spatiotemporal-vae-reconstruction/outputs/CVAE/extrapol/90/unet/WKT/extrapol_unet.wkt\u001b[0m\n",
      "INFO - Horizon: 1000, Mean:     0.9125, Std. Dev:     0.0138, Max:     0.9364, Min:     0.8941\n",
      "INFO - ...........................................................................\n",
      "\n",
      "INFO - Reading WKTs files...\n",
      "WARNING - Number of polygons in ground truth (46) and model (15) do not match.\n",
      "INFO - Calculating IoU...\n",
      "INFO - IoU for \u001b[1m/home/tiagociic/Projectos/spatiotemporal-vae-reconstruction/outputs/CVAE/extrapol/90/unet/WKT/extrapol_unet.wkt\u001b[0m\n",
      "INFO - Horizon: 1500, Mean:     0.9112, Std. Dev:     0.0127, Max:     0.9364, Min:     0.8941\n",
      "INFO - ...........................................................................\n",
      "\n",
      "INFO - Reading WKTs files...\n",
      "WARNING - Number of polygons in ground truth (46) and model (20) do not match.\n",
      "INFO - Calculating IoU...\n",
      "INFO - IoU for \u001b[1m/home/tiagociic/Projectos/spatiotemporal-vae-reconstruction/outputs/CVAE/extrapol/90/unet/WKT/extrapol_unet.wkt\u001b[0m\n",
      "INFO - Horizon: 2000, Mean:     0.9078, Std. Dev:     0.0127, Max:     0.9364, Min:     0.8907\n",
      "INFO - ...........................................................................\n",
      "\n"
     ]
    }
   ],
   "source": [
    "for percentage in percentages:\n",
    "    eval_wkt = os.path.join(BASE_DIR, f\"eval_{percentage}.wkt\")\n",
    "    unet_wkt_file = os.path.abspath(unet_wkt_files[percentage][0])\n",
    "    h_frames = horinzont_frames[percentage]\n",
    "\n",
    "    # Open the file in append mode\n",
    "    with open(f\"unet_{percentage}_iou_list.csv\", \"a\", newline=\"\") as file:\n",
    "        writer = csv.writer(file)\n",
    "\n",
    "        # Write the header only if the file is empty\n",
    "        if file.tell() == 0:\n",
    "            writer.writerow(\n",
    "                [\n",
    "                    \"Percentage\",\n",
    "                    \"Horizon\",\n",
    "                    \"Mean\",\n",
    "                    \"Std. Dev\",\n",
    "                    \"Max\",\n",
    "                    \"Min\",\n",
    "                    \"List\"\n",
    "                ]\n",
    "            )\n",
    "\n",
    "        for horizon, frames in h_frames.items():\n",
    "            mean_hd, hd_list = iou_wkt(\n",
    "                gt_wkt=eval_wkt, model_wkt=unet_wkt_file, eval_idx=frames\n",
    "            )\n",
    "\n",
    "            std_hd = np.std(hd_list)\n",
    "            max_hd = np.max(hd_list)\n",
    "            min_hd = np.min(hd_list)\n",
    "\n",
    "            logger.info(f\"IoU for \\033[1m{unet_wkt_file}\\033[0m\")\n",
    "            logger.info(\n",
    "                f\"Horizon: {horizon}, Mean: {mean_hd:10.4f}, Std. Dev: {std_hd:10.4f}, Max: {max_hd:10.4f}, Min: {min_hd:10.4f}\"\n",
    "            )\n",
    "            logger.info(\n",
    "                \"...........................................................................\\n\"\n",
    "            )\n",
    "            # Write the data\n",
    "            writer.writerow(\n",
    "                [percentage, horizon, mean_hd, std_hd, max_hd, min_hd, hd_list]\n",
    "            )"
   ]
  },
  {
   "cell_type": "code",
   "execution_count": 12,
   "metadata": {},
   "outputs": [
    {
     "name": "stderr",
     "output_type": "stream",
     "text": [
      "INFO - Reading WKT file /home/tiagociic/Projectos/spatiotemporal-vae-reconstruction/outputs/CVAE/extrapol/10/unet/WKT/extrapol_unet.wkt...\n",
      "INFO - Validating polygons...\n",
      "INFO - Calculating the temporal consistency with stride 1...\n"
     ]
    },
    {
     "name": "stdout",
     "output_type": "stream",
     "text": [
      "Number of polygons: 500\n",
      "Valid strides: [1, 10, 100]\n",
      "482, len: 500\r"
     ]
    },
    {
     "name": "stderr",
     "output_type": "stream",
     "text": [
      "INFO - Calculating the temporal consistency with stride 10...\n"
     ]
    },
    {
     "name": "stdout",
     "output_type": "stream",
     "text": [
      "490, len: 500\r"
     ]
    },
    {
     "name": "stderr",
     "output_type": "stream",
     "text": [
      "INFO - Calculating the temporal consistency with stride 100...\n"
     ]
    },
    {
     "name": "stdout",
     "output_type": "stream",
     "text": [
      "487, len: 500\r"
     ]
    },
    {
     "name": "stderr",
     "output_type": "stream",
     "text": [
      "INFO - Saved results to /home/tiagociic/Projectos/spatiotemporal-vae-reconstruction/unet_10_tc_h_500.csv.\n",
      "INFO - Reading WKT file /home/tiagociic/Projectos/spatiotemporal-vae-reconstruction/outputs/CVAE/extrapol/10/unet/WKT/extrapol_unet.wkt...\n"
     ]
    },
    {
     "name": "stdout",
     "output_type": "stream",
     "text": [
      "499, len: 500\r"
     ]
    },
    {
     "name": "stderr",
     "output_type": "stream",
     "text": [
      "INFO - Validating polygons...\n",
      "INFO - Calculating the temporal consistency with stride 1...\n"
     ]
    },
    {
     "name": "stdout",
     "output_type": "stream",
     "text": [
      "Number of polygons: 1000\n",
      "Valid strides: [1, 10, 100]\n",
      "999, len: 1000\r"
     ]
    },
    {
     "name": "stderr",
     "output_type": "stream",
     "text": [
      "INFO - Calculating the temporal consistency with stride 10...\n"
     ]
    },
    {
     "name": "stdout",
     "output_type": "stream",
     "text": [
      "994, len: 1000\r"
     ]
    },
    {
     "name": "stderr",
     "output_type": "stream",
     "text": [
      "INFO - Calculating the temporal consistency with stride 100...\n"
     ]
    },
    {
     "name": "stdout",
     "output_type": "stream",
     "text": [
      "987, len: 1000\r"
     ]
    },
    {
     "name": "stderr",
     "output_type": "stream",
     "text": [
      "INFO - Saved results to /home/tiagociic/Projectos/spatiotemporal-vae-reconstruction/unet_10_tc_h_1000.csv.\n",
      "INFO - Reading WKT file /home/tiagociic/Projectos/spatiotemporal-vae-reconstruction/outputs/CVAE/extrapol/10/unet/WKT/extrapol_unet.wkt...\n"
     ]
    },
    {
     "name": "stdout",
     "output_type": "stream",
     "text": [
      "999, len: 1000\r"
     ]
    },
    {
     "name": "stderr",
     "output_type": "stream",
     "text": [
      "INFO - Validating polygons...\n",
      "INFO - Calculating the temporal consistency with stride 1...\n"
     ]
    },
    {
     "name": "stdout",
     "output_type": "stream",
     "text": [
      "Number of polygons: 1500\n",
      "Valid strides: [1, 10, 100]\n",
      "1482, len: 1500\r"
     ]
    },
    {
     "name": "stderr",
     "output_type": "stream",
     "text": [
      "INFO - Calculating the temporal consistency with stride 10...\n"
     ]
    },
    {
     "name": "stdout",
     "output_type": "stream",
     "text": [
      "1488, len: 1500\r"
     ]
    },
    {
     "name": "stderr",
     "output_type": "stream",
     "text": [
      "INFO - Calculating the temporal consistency with stride 100...\n"
     ]
    },
    {
     "name": "stdout",
     "output_type": "stream",
     "text": [
      "1493, len: 1500\r"
     ]
    },
    {
     "name": "stderr",
     "output_type": "stream",
     "text": [
      "INFO - Saved results to /home/tiagociic/Projectos/spatiotemporal-vae-reconstruction/unet_10_tc_h_1500.csv.\n",
      "INFO - Reading WKT file /home/tiagociic/Projectos/spatiotemporal-vae-reconstruction/outputs/CVAE/extrapol/10/unet/WKT/extrapol_unet.wkt...\n"
     ]
    },
    {
     "name": "stdout",
     "output_type": "stream",
     "text": [
      "1499, len: 1500\r"
     ]
    },
    {
     "name": "stderr",
     "output_type": "stream",
     "text": [
      "INFO - Validating polygons...\n",
      "INFO - Calculating the temporal consistency with stride 1...\n"
     ]
    },
    {
     "name": "stdout",
     "output_type": "stream",
     "text": [
      "Number of polygons: 2000\n",
      "Valid strides: [1, 10, 100]\n",
      "1993, len: 2000\r"
     ]
    },
    {
     "name": "stderr",
     "output_type": "stream",
     "text": [
      "INFO - Calculating the temporal consistency with stride 10...\n"
     ]
    },
    {
     "name": "stdout",
     "output_type": "stream",
     "text": [
      "1978, len: 2000\r"
     ]
    },
    {
     "name": "stderr",
     "output_type": "stream",
     "text": [
      "INFO - Calculating the temporal consistency with stride 100...\n"
     ]
    },
    {
     "name": "stdout",
     "output_type": "stream",
     "text": [
      "1989, len: 2000\r"
     ]
    },
    {
     "name": "stderr",
     "output_type": "stream",
     "text": [
      "INFO - Saved results to /home/tiagociic/Projectos/spatiotemporal-vae-reconstruction/unet_10_tc_h_2000.csv.\n",
      "INFO - Reading WKT file /home/tiagociic/Projectos/spatiotemporal-vae-reconstruction/outputs/CVAE/extrapol/30/unet/WKT/extrapol_unet.wkt...\n"
     ]
    },
    {
     "name": "stdout",
     "output_type": "stream",
     "text": [
      "1999, len: 2000\r"
     ]
    },
    {
     "name": "stderr",
     "output_type": "stream",
     "text": [
      "INFO - Validating polygons...\n",
      "INFO - Calculating the temporal consistency with stride 1...\n"
     ]
    },
    {
     "name": "stdout",
     "output_type": "stream",
     "text": [
      "Number of polygons: 500\n",
      "Valid strides: [1, 10, 100]\n",
      "480, len: 500\r"
     ]
    },
    {
     "name": "stderr",
     "output_type": "stream",
     "text": [
      "INFO - Calculating the temporal consistency with stride 10...\n"
     ]
    },
    {
     "name": "stdout",
     "output_type": "stream",
     "text": [
      "487, len: 500\r"
     ]
    },
    {
     "name": "stderr",
     "output_type": "stream",
     "text": [
      "INFO - Calculating the temporal consistency with stride 100...\n"
     ]
    },
    {
     "name": "stdout",
     "output_type": "stream",
     "text": [
      "483, len: 500\r"
     ]
    },
    {
     "name": "stderr",
     "output_type": "stream",
     "text": [
      "INFO - Saved results to /home/tiagociic/Projectos/spatiotemporal-vae-reconstruction/unet_30_tc_h_500.csv.\n",
      "INFO - Reading WKT file /home/tiagociic/Projectos/spatiotemporal-vae-reconstruction/outputs/CVAE/extrapol/30/unet/WKT/extrapol_unet.wkt...\n"
     ]
    },
    {
     "name": "stdout",
     "output_type": "stream",
     "text": [
      "499, len: 500\r"
     ]
    },
    {
     "name": "stderr",
     "output_type": "stream",
     "text": [
      "INFO - Validating polygons...\n",
      "INFO - Calculating the temporal consistency with stride 1...\n"
     ]
    },
    {
     "name": "stdout",
     "output_type": "stream",
     "text": [
      "Number of polygons: 1000\n",
      "Valid strides: [1, 10, 100]\n",
      "995, len: 1000\r"
     ]
    },
    {
     "name": "stderr",
     "output_type": "stream",
     "text": [
      "INFO - Calculating the temporal consistency with stride 10...\n"
     ]
    },
    {
     "name": "stdout",
     "output_type": "stream",
     "text": [
      "996, len: 1000\r"
     ]
    },
    {
     "name": "stderr",
     "output_type": "stream",
     "text": [
      "INFO - Calculating the temporal consistency with stride 100...\n"
     ]
    },
    {
     "name": "stdout",
     "output_type": "stream",
     "text": [
      "987, len: 1000\r"
     ]
    },
    {
     "name": "stderr",
     "output_type": "stream",
     "text": [
      "INFO - Saved results to /home/tiagociic/Projectos/spatiotemporal-vae-reconstruction/unet_30_tc_h_1000.csv.\n",
      "INFO - Reading WKT file /home/tiagociic/Projectos/spatiotemporal-vae-reconstruction/outputs/CVAE/extrapol/30/unet/WKT/extrapol_unet.wkt...\n"
     ]
    },
    {
     "name": "stdout",
     "output_type": "stream",
     "text": [
      "999, len: 1000\r"
     ]
    },
    {
     "name": "stderr",
     "output_type": "stream",
     "text": [
      "INFO - Validating polygons...\n",
      "INFO - Calculating the temporal consistency with stride 1...\n"
     ]
    },
    {
     "name": "stdout",
     "output_type": "stream",
     "text": [
      "Number of polygons: 1500\n",
      "Valid strides: [1, 10, 100]\n",
      "1492, len: 1500\r"
     ]
    },
    {
     "name": "stderr",
     "output_type": "stream",
     "text": [
      "INFO - Calculating the temporal consistency with stride 10...\n"
     ]
    },
    {
     "name": "stdout",
     "output_type": "stream",
     "text": [
      "1483, len: 1500\r"
     ]
    },
    {
     "name": "stderr",
     "output_type": "stream",
     "text": [
      "INFO - Calculating the temporal consistency with stride 100...\n"
     ]
    },
    {
     "name": "stdout",
     "output_type": "stream",
     "text": [
      "1499, len: 1500\r"
     ]
    },
    {
     "name": "stderr",
     "output_type": "stream",
     "text": [
      "INFO - Saved results to /home/tiagociic/Projectos/spatiotemporal-vae-reconstruction/unet_30_tc_h_1500.csv.\n",
      "INFO - Reading WKT file /home/tiagociic/Projectos/spatiotemporal-vae-reconstruction/outputs/CVAE/extrapol/30/unet/WKT/extrapol_unet.wkt...\n",
      "INFO - Validating polygons...\n",
      "INFO - Calculating the temporal consistency with stride 1...\n"
     ]
    },
    {
     "name": "stdout",
     "output_type": "stream",
     "text": [
      "Number of polygons: 2000\n",
      "Valid strides: [1, 10, 100]\n",
      "1989, len: 2000\r"
     ]
    },
    {
     "name": "stderr",
     "output_type": "stream",
     "text": [
      "INFO - Calculating the temporal consistency with stride 10...\n"
     ]
    },
    {
     "name": "stdout",
     "output_type": "stream",
     "text": [
      "1996, len: 2000\r"
     ]
    },
    {
     "name": "stderr",
     "output_type": "stream",
     "text": [
      "INFO - Calculating the temporal consistency with stride 100...\n"
     ]
    },
    {
     "name": "stdout",
     "output_type": "stream",
     "text": [
      "1999, len: 2000\r"
     ]
    },
    {
     "name": "stderr",
     "output_type": "stream",
     "text": [
      "INFO - Saved results to /home/tiagociic/Projectos/spatiotemporal-vae-reconstruction/unet_30_tc_h_2000.csv.\n",
      "INFO - Reading WKT file /home/tiagociic/Projectos/spatiotemporal-vae-reconstruction/outputs/CVAE/extrapol/50/unet/WKT/extrapol_unet.wkt...\n",
      "INFO - Validating polygons...\n",
      "INFO - Calculating the temporal consistency with stride 1...\n"
     ]
    },
    {
     "name": "stdout",
     "output_type": "stream",
     "text": [
      "Number of polygons: 500\n",
      "Valid strides: [1, 10, 100]\n",
      "491, len: 500\r"
     ]
    },
    {
     "name": "stderr",
     "output_type": "stream",
     "text": [
      "INFO - Calculating the temporal consistency with stride 10...\n"
     ]
    },
    {
     "name": "stdout",
     "output_type": "stream",
     "text": [
      "497, len: 500\r"
     ]
    },
    {
     "name": "stderr",
     "output_type": "stream",
     "text": [
      "INFO - Calculating the temporal consistency with stride 100...\n"
     ]
    },
    {
     "name": "stdout",
     "output_type": "stream",
     "text": [
      "496, len: 500\r"
     ]
    },
    {
     "name": "stderr",
     "output_type": "stream",
     "text": [
      "INFO - Saved results to /home/tiagociic/Projectos/spatiotemporal-vae-reconstruction/unet_50_tc_h_500.csv.\n",
      "INFO - Reading WKT file /home/tiagociic/Projectos/spatiotemporal-vae-reconstruction/outputs/CVAE/extrapol/50/unet/WKT/extrapol_unet.wkt...\n"
     ]
    },
    {
     "name": "stdout",
     "output_type": "stream",
     "text": [
      "499, len: 500\r"
     ]
    },
    {
     "name": "stderr",
     "output_type": "stream",
     "text": [
      "INFO - Validating polygons...\n",
      "INFO - Calculating the temporal consistency with stride 1...\n"
     ]
    },
    {
     "name": "stdout",
     "output_type": "stream",
     "text": [
      "Number of polygons: 1000\n",
      "Valid strides: [1, 10, 100]\n",
      "994, len: 1000\r"
     ]
    },
    {
     "name": "stderr",
     "output_type": "stream",
     "text": [
      "INFO - Calculating the temporal consistency with stride 10...\n"
     ]
    },
    {
     "name": "stdout",
     "output_type": "stream",
     "text": [
      "993, len: 1000\r"
     ]
    },
    {
     "name": "stderr",
     "output_type": "stream",
     "text": [
      "INFO - Calculating the temporal consistency with stride 100...\n"
     ]
    },
    {
     "name": "stdout",
     "output_type": "stream",
     "text": [
      "996, len: 1000\r"
     ]
    },
    {
     "name": "stderr",
     "output_type": "stream",
     "text": [
      "INFO - Saved results to /home/tiagociic/Projectos/spatiotemporal-vae-reconstruction/unet_50_tc_h_1000.csv.\n",
      "INFO - Reading WKT file /home/tiagociic/Projectos/spatiotemporal-vae-reconstruction/outputs/CVAE/extrapol/50/unet/WKT/extrapol_unet.wkt...\n"
     ]
    },
    {
     "name": "stdout",
     "output_type": "stream",
     "text": [
      "999, len: 1000\r"
     ]
    },
    {
     "name": "stderr",
     "output_type": "stream",
     "text": [
      "INFO - Validating polygons...\n",
      "INFO - Calculating the temporal consistency with stride 1...\n"
     ]
    },
    {
     "name": "stdout",
     "output_type": "stream",
     "text": [
      "Number of polygons: 1500\n",
      "Valid strides: [1, 10, 100]\n",
      "1498, len: 1500\r"
     ]
    },
    {
     "name": "stderr",
     "output_type": "stream",
     "text": [
      "INFO - Calculating the temporal consistency with stride 10...\n"
     ]
    },
    {
     "name": "stdout",
     "output_type": "stream",
     "text": [
      "1493, len: 1500\r"
     ]
    },
    {
     "name": "stderr",
     "output_type": "stream",
     "text": [
      "INFO - Calculating the temporal consistency with stride 100...\n"
     ]
    },
    {
     "name": "stdout",
     "output_type": "stream",
     "text": [
      "1498, len: 1500\r"
     ]
    },
    {
     "name": "stderr",
     "output_type": "stream",
     "text": [
      "INFO - Saved results to /home/tiagociic/Projectos/spatiotemporal-vae-reconstruction/unet_50_tc_h_1500.csv.\n",
      "INFO - Reading WKT file /home/tiagociic/Projectos/spatiotemporal-vae-reconstruction/outputs/CVAE/extrapol/50/unet/WKT/extrapol_unet.wkt...\n"
     ]
    },
    {
     "name": "stdout",
     "output_type": "stream",
     "text": [
      "1499, len: 1500\r"
     ]
    },
    {
     "name": "stderr",
     "output_type": "stream",
     "text": [
      "INFO - Validating polygons...\n",
      "INFO - Calculating the temporal consistency with stride 1...\n"
     ]
    },
    {
     "name": "stdout",
     "output_type": "stream",
     "text": [
      "Number of polygons: 2000\n",
      "Valid strides: [1, 10, 100]\n",
      "1993, len: 2000\r"
     ]
    },
    {
     "name": "stderr",
     "output_type": "stream",
     "text": [
      "INFO - Calculating the temporal consistency with stride 10...\n"
     ]
    },
    {
     "name": "stdout",
     "output_type": "stream",
     "text": [
      "1999, len: 2000\r"
     ]
    },
    {
     "name": "stderr",
     "output_type": "stream",
     "text": [
      "INFO - Calculating the temporal consistency with stride 100...\n"
     ]
    },
    {
     "name": "stdout",
     "output_type": "stream",
     "text": [
      "1996, len: 2000\r"
     ]
    },
    {
     "name": "stderr",
     "output_type": "stream",
     "text": [
      "INFO - Saved results to /home/tiagociic/Projectos/spatiotemporal-vae-reconstruction/unet_50_tc_h_2000.csv.\n",
      "INFO - Reading WKT file /home/tiagociic/Projectos/spatiotemporal-vae-reconstruction/outputs/CVAE/extrapol/70/unet/WKT/extrapol_unet.wkt...\n"
     ]
    },
    {
     "name": "stdout",
     "output_type": "stream",
     "text": [
      "1999, len: 2000\r"
     ]
    },
    {
     "name": "stderr",
     "output_type": "stream",
     "text": [
      "INFO - Validating polygons...\n",
      "INFO - Calculating the temporal consistency with stride 1...\n"
     ]
    },
    {
     "name": "stdout",
     "output_type": "stream",
     "text": [
      "Number of polygons: 500\n",
      "Valid strides: [1, 10, 100]\n",
      "490, len: 500\r"
     ]
    },
    {
     "name": "stderr",
     "output_type": "stream",
     "text": [
      "INFO - Calculating the temporal consistency with stride 10...\n"
     ]
    },
    {
     "name": "stdout",
     "output_type": "stream",
     "text": [
      "488, len: 500\r"
     ]
    },
    {
     "name": "stderr",
     "output_type": "stream",
     "text": [
      "INFO - Calculating the temporal consistency with stride 100...\n"
     ]
    },
    {
     "name": "stdout",
     "output_type": "stream",
     "text": [
      "496, len: 500\r"
     ]
    },
    {
     "name": "stderr",
     "output_type": "stream",
     "text": [
      "INFO - Saved results to /home/tiagociic/Projectos/spatiotemporal-vae-reconstruction/unet_70_tc_h_500.csv.\n",
      "INFO - Reading WKT file /home/tiagociic/Projectos/spatiotemporal-vae-reconstruction/outputs/CVAE/extrapol/70/unet/WKT/extrapol_unet.wkt...\n"
     ]
    },
    {
     "name": "stdout",
     "output_type": "stream",
     "text": [
      "499, len: 500\r"
     ]
    },
    {
     "name": "stderr",
     "output_type": "stream",
     "text": [
      "INFO - Validating polygons...\n",
      "INFO - Calculating the temporal consistency with stride 1...\n"
     ]
    },
    {
     "name": "stdout",
     "output_type": "stream",
     "text": [
      "Number of polygons: 1000\n",
      "Valid strides: [1, 10, 100]\n",
      "992, len: 1000\r"
     ]
    },
    {
     "name": "stderr",
     "output_type": "stream",
     "text": [
      "INFO - Calculating the temporal consistency with stride 10...\n"
     ]
    },
    {
     "name": "stdout",
     "output_type": "stream",
     "text": [
      "996, len: 1000\r"
     ]
    },
    {
     "name": "stderr",
     "output_type": "stream",
     "text": [
      "INFO - Calculating the temporal consistency with stride 100...\n"
     ]
    },
    {
     "name": "stdout",
     "output_type": "stream",
     "text": [
      "998, len: 1000\r"
     ]
    },
    {
     "name": "stderr",
     "output_type": "stream",
     "text": [
      "INFO - Saved results to /home/tiagociic/Projectos/spatiotemporal-vae-reconstruction/unet_70_tc_h_1000.csv.\n",
      "INFO - Reading WKT file /home/tiagociic/Projectos/spatiotemporal-vae-reconstruction/outputs/CVAE/extrapol/70/unet/WKT/extrapol_unet.wkt...\n"
     ]
    },
    {
     "name": "stdout",
     "output_type": "stream",
     "text": [
      "999, len: 1000\r"
     ]
    },
    {
     "name": "stderr",
     "output_type": "stream",
     "text": [
      "INFO - Validating polygons...\n",
      "INFO - Calculating the temporal consistency with stride 1...\n"
     ]
    },
    {
     "name": "stdout",
     "output_type": "stream",
     "text": [
      "Number of polygons: 1500\n",
      "Valid strides: [1, 10, 100]\n",
      "1497, len: 1500\r"
     ]
    },
    {
     "name": "stderr",
     "output_type": "stream",
     "text": [
      "INFO - Calculating the temporal consistency with stride 10...\n"
     ]
    },
    {
     "name": "stdout",
     "output_type": "stream",
     "text": [
      "1497, len: 1500\r"
     ]
    },
    {
     "name": "stderr",
     "output_type": "stream",
     "text": [
      "INFO - Calculating the temporal consistency with stride 100...\n"
     ]
    },
    {
     "name": "stdout",
     "output_type": "stream",
     "text": [
      "1496, len: 1500\r"
     ]
    },
    {
     "name": "stderr",
     "output_type": "stream",
     "text": [
      "INFO - Saved results to /home/tiagociic/Projectos/spatiotemporal-vae-reconstruction/unet_70_tc_h_1500.csv.\n",
      "INFO - Reading WKT file /home/tiagociic/Projectos/spatiotemporal-vae-reconstruction/outputs/CVAE/extrapol/70/unet/WKT/extrapol_unet.wkt...\n"
     ]
    },
    {
     "name": "stdout",
     "output_type": "stream",
     "text": [
      "1499, len: 1500\r"
     ]
    },
    {
     "name": "stderr",
     "output_type": "stream",
     "text": [
      "INFO - Validating polygons...\n",
      "INFO - Calculating the temporal consistency with stride 1...\n"
     ]
    },
    {
     "name": "stdout",
     "output_type": "stream",
     "text": [
      "Number of polygons: 2000\n",
      "Valid strides: [1, 10, 100]\n",
      "1991, len: 2000\r"
     ]
    },
    {
     "name": "stderr",
     "output_type": "stream",
     "text": [
      "INFO - Calculating the temporal consistency with stride 10...\n"
     ]
    },
    {
     "name": "stdout",
     "output_type": "stream",
     "text": [
      "1996, len: 2000\r"
     ]
    },
    {
     "name": "stderr",
     "output_type": "stream",
     "text": [
      "INFO - Calculating the temporal consistency with stride 100...\n"
     ]
    },
    {
     "name": "stdout",
     "output_type": "stream",
     "text": [
      "1999, len: 2000\r"
     ]
    },
    {
     "name": "stderr",
     "output_type": "stream",
     "text": [
      "INFO - Saved results to /home/tiagociic/Projectos/spatiotemporal-vae-reconstruction/unet_70_tc_h_2000.csv.\n",
      "INFO - Reading WKT file /home/tiagociic/Projectos/spatiotemporal-vae-reconstruction/outputs/CVAE/extrapol/90/unet/WKT/extrapol_unet.wkt...\n",
      "INFO - Validating polygons...\n",
      "INFO - Calculating the temporal consistency with stride 1...\n"
     ]
    },
    {
     "name": "stdout",
     "output_type": "stream",
     "text": [
      "Number of polygons: 500\n",
      "Valid strides: [1, 10, 100]\n",
      "492, len: 500\r"
     ]
    },
    {
     "name": "stderr",
     "output_type": "stream",
     "text": [
      "INFO - Calculating the temporal consistency with stride 10...\n"
     ]
    },
    {
     "name": "stdout",
     "output_type": "stream",
     "text": [
      "497, len: 500\r"
     ]
    },
    {
     "name": "stderr",
     "output_type": "stream",
     "text": [
      "INFO - Calculating the temporal consistency with stride 100...\n"
     ]
    },
    {
     "name": "stdout",
     "output_type": "stream",
     "text": [
      "492, len: 500\r"
     ]
    },
    {
     "name": "stderr",
     "output_type": "stream",
     "text": [
      "INFO - Saved results to /home/tiagociic/Projectos/spatiotemporal-vae-reconstruction/unet_90_tc_h_500.csv.\n",
      "INFO - Reading WKT file /home/tiagociic/Projectos/spatiotemporal-vae-reconstruction/outputs/CVAE/extrapol/90/unet/WKT/extrapol_unet.wkt...\n"
     ]
    },
    {
     "name": "stdout",
     "output_type": "stream",
     "text": [
      "499, len: 500\r"
     ]
    },
    {
     "name": "stderr",
     "output_type": "stream",
     "text": [
      "INFO - Validating polygons...\n",
      "INFO - Calculating the temporal consistency with stride 1...\n"
     ]
    },
    {
     "name": "stdout",
     "output_type": "stream",
     "text": [
      "Number of polygons: 1000\n",
      "Valid strides: [1, 10, 100]\n",
      "995, len: 1000\r"
     ]
    },
    {
     "name": "stderr",
     "output_type": "stream",
     "text": [
      "INFO - Calculating the temporal consistency with stride 10...\n"
     ]
    },
    {
     "name": "stdout",
     "output_type": "stream",
     "text": [
      "991, len: 1000\r"
     ]
    },
    {
     "name": "stderr",
     "output_type": "stream",
     "text": [
      "INFO - Calculating the temporal consistency with stride 100...\n"
     ]
    },
    {
     "name": "stdout",
     "output_type": "stream",
     "text": [
      "995, len: 1000\r"
     ]
    },
    {
     "name": "stderr",
     "output_type": "stream",
     "text": [
      "INFO - Saved results to /home/tiagociic/Projectos/spatiotemporal-vae-reconstruction/unet_90_tc_h_1000.csv.\n",
      "INFO - Reading WKT file /home/tiagociic/Projectos/spatiotemporal-vae-reconstruction/outputs/CVAE/extrapol/90/unet/WKT/extrapol_unet.wkt...\n"
     ]
    },
    {
     "name": "stdout",
     "output_type": "stream",
     "text": [
      "999, len: 1000\r"
     ]
    },
    {
     "name": "stderr",
     "output_type": "stream",
     "text": [
      "INFO - Validating polygons...\n",
      "INFO - Calculating the temporal consistency with stride 1...\n"
     ]
    },
    {
     "name": "stdout",
     "output_type": "stream",
     "text": [
      "Number of polygons: 1500\n",
      "Valid strides: [1, 10, 100]\n",
      "1499, len: 1500\r"
     ]
    },
    {
     "name": "stderr",
     "output_type": "stream",
     "text": [
      "INFO - Calculating the temporal consistency with stride 10...\n"
     ]
    },
    {
     "name": "stdout",
     "output_type": "stream",
     "text": [
      "1493, len: 1500\r"
     ]
    },
    {
     "name": "stderr",
     "output_type": "stream",
     "text": [
      "INFO - Calculating the temporal consistency with stride 100...\n"
     ]
    },
    {
     "name": "stdout",
     "output_type": "stream",
     "text": [
      "1495, len: 1500\r"
     ]
    },
    {
     "name": "stderr",
     "output_type": "stream",
     "text": [
      "INFO - Saved results to /home/tiagociic/Projectos/spatiotemporal-vae-reconstruction/unet_90_tc_h_1500.csv.\n",
      "INFO - Reading WKT file /home/tiagociic/Projectos/spatiotemporal-vae-reconstruction/outputs/CVAE/extrapol/90/unet/WKT/extrapol_unet.wkt...\n"
     ]
    },
    {
     "name": "stdout",
     "output_type": "stream",
     "text": [
      "1499, len: 1500\r"
     ]
    },
    {
     "name": "stderr",
     "output_type": "stream",
     "text": [
      "INFO - Validating polygons...\n",
      "INFO - Calculating the temporal consistency with stride 1...\n"
     ]
    },
    {
     "name": "stdout",
     "output_type": "stream",
     "text": [
      "Number of polygons: 2000\n",
      "Valid strides: [1, 10, 100]\n",
      "1995, len: 2000\r"
     ]
    },
    {
     "name": "stderr",
     "output_type": "stream",
     "text": [
      "INFO - Calculating the temporal consistency with stride 10...\n"
     ]
    },
    {
     "name": "stdout",
     "output_type": "stream",
     "text": [
      "1999, len: 2000\r"
     ]
    },
    {
     "name": "stderr",
     "output_type": "stream",
     "text": [
      "INFO - Calculating the temporal consistency with stride 100...\n"
     ]
    },
    {
     "name": "stdout",
     "output_type": "stream",
     "text": [
      "1996, len: 2000\r"
     ]
    },
    {
     "name": "stderr",
     "output_type": "stream",
     "text": [
      "INFO - Saved results to /home/tiagociic/Projectos/spatiotemporal-vae-reconstruction/unet_90_tc_h_2000.csv.\n"
     ]
    },
    {
     "name": "stdout",
     "output_type": "stream",
     "text": [
      "1999, len: 2000\r"
     ]
    }
   ],
   "source": [
    "# Unet temporal consistency\n",
    "strides = config[\"eval\"][\"strides\"]\n",
    "for percentage in percentages:\n",
    "    eval_wkt = os.path.join(BASE_DIR, f\"eval_{percentage}.wkt\")\n",
    "    unet_wkt_file = os.path.abspath(unet_wkt_files[percentage][0])\n",
    "    h_frames = horinzont_frames[percentage]\n",
    "    \n",
    "\n",
    "    for horizon, frames in h_frames.items():\n",
    "        tc_results = strided_temp_consistency(\n",
    "            wkt_file=unet_wkt_file,\n",
    "            strides=strides,\n",
    "            interval=[final_frames[percentage], final_frames[percentage] + horizon],\n",
    "        )\n",
    "        # Save the results to a CSV file\n",
    "        save_path = os.path.join(BASE_DIR, f\"unet_{percentage}_tc_h_{horizon}\")\n",
    "        save_results_to_csv(results=tc_results, base_filename=save_path)"
   ]
  },
  {
   "cell_type": "markdown",
   "metadata": {},
   "source": [
    "## Process unet tc"
   ]
  },
  {
   "cell_type": "code",
   "execution_count": null,
   "metadata": {},
   "outputs": [],
   "source": [
    "for percentage, final_frame in final_frames.items():\n",
    "    eval_wkt = os.path.join(BASE_DIR, f\"eval_{percentage}.wkt\")\n",
    "    print(eval_wkt)\n",
    "    print(percentage)\n",
    "    extrapol_wkt_files_perc = extrapol_wkt_files[percentage]\n",
    "\n",
    "    # Open the file in append mode\n",
    "    with open(f'extrapol_{percentage}_hd.csv', 'a', newline='') as file:\n",
    "        writer = csv.writer(file)\n",
    "\n",
    "        # Write the header only if the file is empty\n",
    "        if file.tell() == 0:\n",
    "            writer.writerow([\"wkt_file\", \"mean_hd\", \"hd_list\"])\n",
    "\n",
    "        for wkt_file in extrapol_wkt_files_perc:\n",
    "            mean_hd, hd_list = hausdorff_dist_wkt(\n",
    "                gt_wkt=eval_wkt,\n",
    "                model_wkt=wkt_file,\n",
    "                eval_idx=eval_set_perc[:-1],\n",
    "            )\n",
    "\n",
    "            logger.info(f\"--------- Hausdorff Distance --------------------\")\n",
    "            logger.info(f\"WKT File: {wkt_file}\")\n",
    "            logger.info(f\"Mean Hausdorff Distance: {mean_hd:>10.4f}\")\n",
    "            logger.info(f\"Standard Deviation:      {np.std(hd_list):>10.4f}\")\n",
    "            logger.info(f\"Minimum:                 {np.min(hd_list):>10.4f}\")\n",
    "            logger.info(f\"Maximum:                 {np.max(hd_list):>10.4f}\")\n",
    "            logger.info(f\"-------------------------------------------------\\n\")\n",
    "\n",
    "            # Write the data\n",
    "            writer.writerow([wkt_file, mean_hd, hd_list])\n"
   ]
  },
  {
   "cell_type": "code",
   "execution_count": 15,
   "metadata": {},
   "outputs": [
    {
     "data": {
      "text/plain": [
       "{10: ['../outputs/CVAE/extrapol/10/unet/WKT/extrapol_unet.wkt'],\n",
       " 30: ['../outputs/CVAE/extrapol/30/unet/WKT/extrapol_unet.wkt'],\n",
       " 50: ['../outputs/CVAE/extrapol/50/unet/WKT/extrapol_unet.wkt'],\n",
       " 70: ['../outputs/CVAE/extrapol/70/unet/WKT/extrapol_unet.wkt'],\n",
       " 90: ['../outputs/CVAE/extrapol/90/unet/WKT/extrapol_unet.wkt']}"
      ]
     },
     "execution_count": 15,
     "metadata": {},
     "output_type": "execute_result"
    }
   ],
   "source": [
    "# retrieve unet wkt files only\n",
    "unet_wkt_files = {}\n",
    "for percentage, wkt_files in extrapol_wkt_files.items():\n",
    "    unet_wkt_files[percentage] = [wkt_file for wkt_file in wkt_files if \"unet.wkt\" in wkt_file]\n",
    "unet_wkt_files"
   ]
  },
  {
   "cell_type": "code",
   "execution_count": null,
   "metadata": {},
   "outputs": [
    {
     "name": "stdout",
     "output_type": "stream",
     "text": [
      "../outputs/CVAE/extrapol/10/unet/WKT/extrapol_unet.wkt\n",
      "../outputs/CVAE/extrapol/50/full/WKT/extrapol_full.wkt\n",
      "../outputs/CVAE/extrapol/50/sampled/WKT/extrapol_sampled.wkt\n",
      "../outputs/CVAE/extrapol/50/unet/WKT/extrapol_unet.wkt\n",
      "../outputs/CVAE/extrapol/70/full/WKT/file.wkt\n",
      "../outputs/CVAE/extrapol/70/sampled/WKT/file.wkt\n",
      "../outputs/CVAE/extrapol/70/unet/WKT/extrapol_unet.wkt\n",
      "../outputs/CVAE/extrapol/90/full/WKT/file.wkt\n",
      "../outputs/CVAE/extrapol/90/sampled/WKT/file.wkt\n",
      "../outputs/CVAE/extrapol/90/unet/WKT/extrapol_unet.wkt\n",
      "../outputs/CVAE/interpol/full/WKT/file.wkt\n",
      "../outputs/CVAE/interpol/sampled/WKT/file.wkt\n",
      "../outputs/pstg/interpol/full/WKT/pyspatial_interpol.wkt\n",
      "../outputs/pstg/interpol/sampled/WKT/pyspatial_interpol_sampled.wkt\n",
      "../outputs/shape/interpol/full/WKT/shape_interpol.wkt\n",
      "../outputs/shape/interpol/sampled/WKT/shape_interpol_sampled.wkt\n",
      " => No of WKT files:  16\n",
      "\n",
      "../outputs/CVAE/extrapol/10/unet/PNG\n",
      "../outputs/CVAE/extrapol/50/full/PNG\n",
      "../outputs/CVAE/extrapol/50/sampled/PNG\n",
      "../outputs/CVAE/extrapol/50/unet/PNG\n",
      "../outputs/CVAE/extrapol/70/full/PNG\n",
      "../outputs/CVAE/extrapol/70/sampled/PNG\n",
      "../outputs/CVAE/extrapol/70/unet/PNG\n",
      "../outputs/CVAE/extrapol/90/full/PNG\n",
      "../outputs/CVAE/extrapol/90/sampled/PNG\n",
      "../outputs/CVAE/extrapol/90/unet/PNG\n",
      "../outputs/CVAE/interpol/full/PNG\n",
      "../outputs/CVAE/interpol/sampled/PNG\n",
      " => No of PNG dirs:  12\n"
     ]
    }
   ],
   "source": [
    "for wkt_file in sorted(wkt_files):\n",
    "    # print like a table\n",
    "    print(f\"{wkt_file}\")\n",
    "print(\" => No of WKT files: \", len(wkt_files))\n",
    "print()\n",
    "\n",
    "for png_dir in sorted(png_dirs):\n",
    "    # print like a table\n",
    "    print(f\"{png_dir}\")\n",
    "print(\" => No of PNG dirs: \", len(png_dirs))"
   ]
  },
  {
   "cell_type": "code",
   "execution_count": 11,
   "metadata": {},
   "outputs": [
    {
     "name": "stderr",
     "output_type": "stream",
     "text": [
      "INFO - Reading WKTs files...\n",
      "INFO - Reading WKTs files...\n",
      "WARNING - Number of polygons in ground truth (91) and model (43) do not match.\n",
      "WARNING - Number of polygons in ground truth (91) and model (43) do not match.\n",
      "INFO - Calculating Hausdorff Distance...\n",
      "INFO - Calculating Hausdorff Distance...\n",
      "INFO - Hausdorff Distance for \u001b[1m../outputs/CVAE/extrapol/90/sampled/WKT/file.wkt\u001b[0m\n",
      "INFO - Hausdorff Distance for \u001b[1m../outputs/CVAE/extrapol/90/sampled/WKT/file.wkt\u001b[0m\n",
      "INFO - Mean:    95.0263, Std Dev.:    18.8012, Min:    72.3395, Max:   130.0000\n",
      "INFO - Mean:    95.0263, Std Dev.:    18.8012, Min:    72.3395, Max:   130.0000\n",
      "INFO - \n",
      "\n",
      "INFO - \n",
      "\n",
      "INFO - Reading WKTs files...\n",
      "INFO - Reading WKTs files...\n",
      "WARNING - Number of polygons in ground truth (91) and model (43) do not match.\n",
      "WARNING - Number of polygons in ground truth (91) and model (43) do not match.\n",
      "INFO - Calculating Hausdorff Distance...\n",
      "INFO - Calculating Hausdorff Distance...\n",
      "INFO - Hausdorff Distance for \u001b[1m../outputs/CVAE/extrapol/90/full/WKT/file.wkt\u001b[0m\n",
      "INFO - Hausdorff Distance for \u001b[1m../outputs/CVAE/extrapol/90/full/WKT/file.wkt\u001b[0m\n",
      "INFO - Mean:   102.9551, Std Dev.:    31.4315, Min:    51.0000, Max:   142.8881\n",
      "INFO - Mean:   102.9551, Std Dev.:    31.4315, Min:    51.0000, Max:   142.8881\n",
      "INFO - \n",
      "\n",
      "INFO - \n",
      "\n",
      "INFO - Reading WKTs files...\n",
      "INFO - Reading WKTs files...\n",
      "WARNING - Number of polygons in ground truth (91) and model (43) do not match.\n",
      "WARNING - Number of polygons in ground truth (91) and model (43) do not match.\n",
      "INFO - Calculating Hausdorff Distance...\n",
      "INFO - Calculating Hausdorff Distance...\n",
      "INFO - Hausdorff Distance for \u001b[1m../outputs/CVAE/extrapol/90/unet/WKT/extrapol_unet.wkt\u001b[0m\n",
      "INFO - Hausdorff Distance for \u001b[1m../outputs/CVAE/extrapol/90/unet/WKT/extrapol_unet.wkt\u001b[0m\n",
      "INFO - Mean:    96.6925, Std Dev.:    30.0752, Min:    46.2709, Max:   139.5421\n",
      "INFO - Mean:    96.6925, Std Dev.:    30.0752, Min:    46.2709, Max:   139.5421\n",
      "INFO - \n",
      "\n",
      "INFO - \n",
      "\n"
     ]
    }
   ],
   "source": [
    "eval90_wkt = os.path.join(BASE_DIR, \"eval_90.wkt\")\n",
    "\n",
    "# Open the file in append mode\n",
    "with open('extrapol_90_hd.csv', 'a', newline='') as file:\n",
    "    writer = csv.writer(file)\n",
    "\n",
    "    # Write the header only if the file is empty\n",
    "    if file.tell() == 0:\n",
    "        writer.writerow([\"wkt_file\", \"mean_hd\", \"hd_list\"])\n",
    "\n",
    "    for wkt_file in extrapol_wkt_files_90:\n",
    "        mean_hd, hd_list = hausdorff_dist_wkt(\n",
    "            gt_wkt=eval90_wkt,\n",
    "            model_wkt=wkt_file,\n",
    "            eval_idx=eval_set_90[:-1],\n",
    "        )\n",
    "\n",
    "        logger.info(f\"Hausdorff Distance for \\033[1m{wkt_file}\\033[0m\")\n",
    "        logger.info(\n",
    "            f\"Mean: {mean_hd:10.4f}, Std Dev.: {np.std(hd_list):10.4f}, Min: {np.min(hd_list):10.4f}, Max: {np.max(hd_list):10.4f}\"\n",
    "        )\n",
    "        logger.info(\"\\n\")\n",
    "\n",
    "        # Write the data\n",
    "        writer.writerow([wkt_file, mean_hd, hd_list])"
   ]
  },
  {
   "cell_type": "markdown",
   "metadata": {},
   "source": [
    "### IoU "
   ]
  },
  {
   "cell_type": "code",
   "execution_count": 12,
   "metadata": {},
   "outputs": [
    {
     "name": "stderr",
     "output_type": "stream",
     "text": [
      "INFO - Reading WKTs files...\n",
      "INFO - Reading WKTs files...\n",
      "INFO - Calculating IoU...\n",
      "INFO - Calculating IoU...\n",
      "INFO - IoU for \u001b[1m../outputs/shape/interpol/sampled/WKT/shape_interpol_sampled.wkt\u001b[0m\n",
      "INFO - IoU for \u001b[1m../outputs/shape/interpol/sampled/WKT/shape_interpol_sampled.wkt\u001b[0m\n",
      "INFO - Mean:     0.9296, Std Dev.:     0.0210, Min:     0.8867, Max:     0.9640\n",
      "INFO - Mean:     0.9296, Std Dev.:     0.0210, Min:     0.8867, Max:     0.9640\n",
      "INFO - ...........................................................................\n",
      "\n",
      "INFO - ...........................................................................\n",
      "\n",
      "INFO - Reading WKTs files...\n",
      "INFO - Reading WKTs files...\n",
      "INFO - Calculating IoU...\n",
      "INFO - Calculating IoU...\n",
      "INFO - IoU for \u001b[1m../outputs/shape/interpol/full/WKT/shape_interpol.wkt\u001b[0m\n",
      "INFO - IoU for \u001b[1m../outputs/shape/interpol/full/WKT/shape_interpol.wkt\u001b[0m\n",
      "INFO - Mean:     0.9589, Std Dev.:     0.0155, Min:     0.9253, Max:     0.9767\n",
      "INFO - Mean:     0.9589, Std Dev.:     0.0155, Min:     0.9253, Max:     0.9767\n",
      "INFO - ...........................................................................\n",
      "\n",
      "INFO - ...........................................................................\n",
      "\n",
      "INFO - Reading WKTs files...\n",
      "INFO - Reading WKTs files...\n",
      "INFO - Calculating IoU...\n",
      "INFO - Calculating IoU...\n",
      "INFO - IoU for \u001b[1m../outputs/CVAE/interpol/sampled/WKT/file.wkt\u001b[0m\n",
      "INFO - IoU for \u001b[1m../outputs/CVAE/interpol/sampled/WKT/file.wkt\u001b[0m\n",
      "INFO - Mean:     0.9083, Std Dev.:     0.0166, Min:     0.8685, Max:     0.9345\n",
      "INFO - Mean:     0.9083, Std Dev.:     0.0166, Min:     0.8685, Max:     0.9345\n",
      "INFO - ...........................................................................\n",
      "\n",
      "INFO - ...........................................................................\n",
      "\n",
      "INFO - Reading WKTs files...\n",
      "INFO - Reading WKTs files...\n",
      "INFO - Calculating IoU...\n",
      "INFO - Calculating IoU...\n",
      "INFO - IoU for \u001b[1m../outputs/CVAE/interpol/full/WKT/file.wkt\u001b[0m\n",
      "INFO - IoU for \u001b[1m../outputs/CVAE/interpol/full/WKT/file.wkt\u001b[0m\n",
      "INFO - Mean:     0.9437, Std Dev.:     0.0186, Min:     0.9055, Max:     0.9700\n",
      "INFO - Mean:     0.9437, Std Dev.:     0.0186, Min:     0.9055, Max:     0.9700\n",
      "INFO - ...........................................................................\n",
      "\n",
      "INFO - ...........................................................................\n",
      "\n",
      "INFO - Reading WKTs files...\n",
      "INFO - Reading WKTs files...\n",
      "INFO - Calculating IoU...\n",
      "INFO - Calculating IoU...\n",
      "INFO - IoU for \u001b[1m../outputs/pstg/interpol/sampled/WKT/pyspatial_interpol_sampled.wkt\u001b[0m\n",
      "INFO - IoU for \u001b[1m../outputs/pstg/interpol/sampled/WKT/pyspatial_interpol_sampled.wkt\u001b[0m\n",
      "INFO - Mean:     0.8496, Std Dev.:     0.0383, Min:     0.7992, Max:     0.9596\n",
      "INFO - Mean:     0.8496, Std Dev.:     0.0383, Min:     0.7992, Max:     0.9596\n",
      "INFO - ...........................................................................\n",
      "\n",
      "INFO - ...........................................................................\n",
      "\n",
      "INFO - Reading WKTs files...\n",
      "INFO - Reading WKTs files...\n",
      "INFO - Calculating IoU...\n",
      "INFO - Calculating IoU...\n",
      "INFO - IoU for \u001b[1m../outputs/pstg/interpol/full/WKT/pyspatial_interpol.wkt\u001b[0m\n",
      "INFO - IoU for \u001b[1m../outputs/pstg/interpol/full/WKT/pyspatial_interpol.wkt\u001b[0m\n",
      "INFO - Mean:     0.8220, Std Dev.:     0.0729, Min:     0.4931, Max:     0.8636\n",
      "INFO - Mean:     0.8220, Std Dev.:     0.0729, Min:     0.4931, Max:     0.8636\n",
      "INFO - ...........................................................................\n",
      "\n",
      "INFO - ...........................................................................\n",
      "\n"
     ]
    }
   ],
   "source": [
    "# Open the file in append mode\n",
    "with open(\"interpol_iou.csv\", \"a\", newline=\"\") as file:\n",
    "    writer = csv.writer(file)\n",
    "\n",
    "    # Write the header only if the file is empty\n",
    "    if file.tell() == 0:\n",
    "        writer.writerow([\"wkt_file\", \"mean_hd\", \"hd_list\"])\n",
    "\n",
    "    for wkt_file in interpol_wkt_files:\n",
    "        # test set frame indexes\n",
    "        idx = np.linspace(20250, 22450, 23).astype(int)\n",
    "        mean_iou, iou_list = iou_wkt(gt_wkt=test_wkt_path, model_wkt=wkt_file, eval_idx=idx)\n",
    "\n",
    "        logger.info(f\"IoU for \\033[1m{wkt_file}\\033[0m\")\n",
    "        logger.info(\n",
    "            f\"Mean: {mean_iou:10.4f}, Std Dev.: {np.std(iou_list):10.4f}, Min: {np.min(iou_list):10.4f}, Max: {np.max(iou_list):10.4f}\"\n",
    "        )\n",
    "        logger.info(\n",
    "            \"...........................................................................\\n\"\n",
    "        )\n",
    "\n",
    "        # Write the data\n",
    "        writer.writerow([wkt_file, mean_iou, iou_list])"
   ]
  },
  {
   "cell_type": "code",
   "execution_count": 13,
   "metadata": {},
   "outputs": [
    {
     "name": "stderr",
     "output_type": "stream",
     "text": [
      "INFO - Reading WKTs files...\n",
      "INFO - Reading WKTs files...\n",
      "WARNING - Number of polygons in ground truth (91) and model (90) do not match.\n",
      "WARNING - Number of polygons in ground truth (91) and model (90) do not match.\n",
      "INFO - Calculating IoU...\n",
      "INFO - Calculating IoU...\n",
      "INFO - IoU for \u001b[1m../outputs/CVAE/extrapol/70/sampled/WKT/file.wkt\u001b[0m\n",
      "INFO - IoU for \u001b[1m../outputs/CVAE/extrapol/70/sampled/WKT/file.wkt\u001b[0m\n",
      "INFO - Mean:     0.6467, Std Dev.:     0.0370, Min:     0.5987, Max:     0.7244\n",
      "INFO - Mean:     0.6467, Std Dev.:     0.0370, Min:     0.5987, Max:     0.7244\n",
      "INFO - ...........................................................................\n",
      "\n",
      "INFO - ...........................................................................\n",
      "\n",
      "INFO - Reading WKTs files...\n",
      "INFO - Reading WKTs files...\n",
      "WARNING - Number of polygons in ground truth (91) and model (90) do not match.\n",
      "WARNING - Number of polygons in ground truth (91) and model (90) do not match.\n",
      "INFO - Calculating IoU...\n",
      "INFO - Calculating IoU...\n",
      "INFO - IoU for \u001b[1m../outputs/CVAE/extrapol/70/full/WKT/file.wkt\u001b[0m\n",
      "INFO - IoU for \u001b[1m../outputs/CVAE/extrapol/70/full/WKT/file.wkt\u001b[0m\n",
      "INFO - Mean:     0.8369, Std Dev.:     0.0488, Min:     0.7754, Max:     0.9487\n",
      "INFO - Mean:     0.8369, Std Dev.:     0.0488, Min:     0.7754, Max:     0.9487\n",
      "INFO - ...........................................................................\n",
      "\n",
      "INFO - ...........................................................................\n",
      "\n",
      "INFO - Reading WKTs files...\n",
      "INFO - Reading WKTs files...\n",
      "WARNING - Number of polygons in ground truth (91) and model (90) do not match.\n",
      "WARNING - Number of polygons in ground truth (91) and model (90) do not match.\n",
      "INFO - Calculating IoU...\n",
      "INFO - Calculating IoU...\n",
      "INFO - IoU for \u001b[1m../outputs/CVAE/extrapol/70/unet/WKT/extrapol_unet.wkt\u001b[0m\n",
      "INFO - IoU for \u001b[1m../outputs/CVAE/extrapol/70/unet/WKT/extrapol_unet.wkt\u001b[0m\n",
      "INFO - Mean:     0.8249, Std Dev.:     0.0489, Min:     0.7583, Max:     0.9341\n",
      "INFO - Mean:     0.8249, Std Dev.:     0.0489, Min:     0.7583, Max:     0.9341\n",
      "INFO - ...........................................................................\n",
      "\n",
      "INFO - ...........................................................................\n",
      "\n"
     ]
    }
   ],
   "source": [
    "# Open the file in append mode\n",
    "with open(\"extrapol_70_iou.csv\", \"a\", newline=\"\") as file:\n",
    "    writer = csv.writer(file)\n",
    "\n",
    "    # Write the header only if the file is empty\n",
    "    if file.tell() == 0:\n",
    "        writer.writerow([\"wkt_file\", \"mean_hd\", \"hd_list\"])\n",
    "\n",
    "    for wkt_file in extrapol_wkt_files_70:\n",
    "        mean_iou, iou_list = iou_wkt(\n",
    "            gt_wkt=eval70_wkt,\n",
    "            model_wkt=wkt_file,\n",
    "            eval_idx=eval_set_70[:-1],\n",
    "        )\n",
    "\n",
    "        logger.info(f\"IoU for \\033[1m{wkt_file}\\033[0m\")\n",
    "        logger.info(\n",
    "            f\"Mean: {mean_iou:10.4f}, Std Dev.: {np.std(iou_list):10.4f}, Min: {np.min(iou_list):10.4f}, Max: {np.max(iou_list):10.4f}\"\n",
    "        )\n",
    "        logger.info(\"...........................................................................\\n\")\n",
    "\n",
    "        # Write the data\n",
    "        writer.writerow([wkt_file, mean_iou, iou_list])"
   ]
  },
  {
   "cell_type": "code",
   "execution_count": 14,
   "metadata": {},
   "outputs": [
    {
     "name": "stderr",
     "output_type": "stream",
     "text": [
      "INFO - Reading WKTs files...\n",
      "INFO - Reading WKTs files...\n",
      "WARNING - Number of polygons in ground truth (91) and model (43) do not match.\n",
      "WARNING - Number of polygons in ground truth (91) and model (43) do not match.\n",
      "INFO - Calculating IoU...\n",
      "INFO - Calculating IoU...\n",
      "INFO - IoU for \u001b[1m../outputs/CVAE/extrapol/90/sampled/WKT/file.wkt\u001b[0m\n",
      "INFO - IoU for \u001b[1m../outputs/CVAE/extrapol/90/sampled/WKT/file.wkt\u001b[0m\n",
      "INFO - Mean:     0.8697, Std Dev.:     0.0385, Min:     0.8119, Max:     0.9231\n",
      "INFO - Mean:     0.8697, Std Dev.:     0.0385, Min:     0.8119, Max:     0.9231\n",
      "INFO - ...........................................................................\n",
      "\n",
      "INFO - ...........................................................................\n",
      "\n",
      "INFO - Reading WKTs files...\n",
      "INFO - Reading WKTs files...\n",
      "WARNING - Number of polygons in ground truth (91) and model (43) do not match.\n",
      "WARNING - Number of polygons in ground truth (91) and model (43) do not match.\n",
      "INFO - Calculating IoU...\n",
      "INFO - Calculating IoU...\n",
      "INFO - IoU for \u001b[1m../outputs/CVAE/extrapol/90/full/WKT/file.wkt\u001b[0m\n",
      "INFO - IoU for \u001b[1m../outputs/CVAE/extrapol/90/full/WKT/file.wkt\u001b[0m\n",
      "INFO - Mean:     0.8531, Std Dev.:     0.0425, Min:     0.7918, Max:     0.9328\n",
      "INFO - Mean:     0.8531, Std Dev.:     0.0425, Min:     0.7918, Max:     0.9328\n",
      "INFO - ...........................................................................\n",
      "\n",
      "INFO - ...........................................................................\n",
      "\n",
      "INFO - Reading WKTs files...\n",
      "INFO - Reading WKTs files...\n",
      "WARNING - Number of polygons in ground truth (91) and model (43) do not match.\n",
      "WARNING - Number of polygons in ground truth (91) and model (43) do not match.\n",
      "INFO - Calculating IoU...\n",
      "INFO - Calculating IoU...\n",
      "INFO - IoU for \u001b[1m../outputs/CVAE/extrapol/90/unet/WKT/extrapol_unet.wkt\u001b[0m\n",
      "INFO - IoU for \u001b[1m../outputs/CVAE/extrapol/90/unet/WKT/extrapol_unet.wkt\u001b[0m\n",
      "INFO - Mean:     0.8621, Std Dev.:     0.0341, Min:     0.8027, Max:     0.9194\n",
      "INFO - Mean:     0.8621, Std Dev.:     0.0341, Min:     0.8027, Max:     0.9194\n",
      "INFO - ...........................................................................\n",
      "\n",
      "INFO - ...........................................................................\n",
      "\n"
     ]
    }
   ],
   "source": [
    "# Open the file in append mode\n",
    "with open(\"extrapol_90_iou.csv\", \"a\", newline=\"\") as file:\n",
    "    writer = csv.writer(file)\n",
    "\n",
    "    # Write the header only if the file is empty\n",
    "    if file.tell() == 0:\n",
    "        writer.writerow([\"wkt_file\", \"mean_hd\", \"hd_list\"])\n",
    "\n",
    "\n",
    "    for wkt_file in extrapol_wkt_files_90:\n",
    "        mean_iou, iou_list = iou_wkt(\n",
    "            gt_wkt=eval90_wkt,\n",
    "            model_wkt=wkt_file,\n",
    "            eval_idx=eval_set_90[:-1],\n",
    "        )\n",
    "\n",
    "        logger.info(f\"IoU for \\033[1m{wkt_file}\\033[0m\")\n",
    "        logger.info(\n",
    "            f\"Mean: {mean_iou:10.4f}, Std Dev.: {np.std(iou_list):10.4f}, Min: {np.min(iou_list):10.4f}, Max: {np.max(iou_list):10.4f}\"\n",
    "        )\n",
    "        logger.info(\"...........................................................................\\n\")\n",
    "\n",
    "        # Write the data\n",
    "        writer.writerow([wkt_file, mean_iou, iou_list])"
   ]
  },
  {
   "cell_type": "markdown",
   "metadata": {},
   "source": [
    "## Temporal Consistency"
   ]
  },
  {
   "cell_type": "code",
   "execution_count": 12,
   "metadata": {},
   "outputs": [
    {
     "name": "stderr",
     "output_type": "stream",
     "text": [
      "DEBUG - Reading WKT file...\n",
      "DEBUG - Validating polygons...\n",
      "INFO - Calculating the temporal consistency with stride 1...\n",
      "INFO - Calculating the temporal consistency with stride 10...\n",
      "INFO - Calculating the temporal consistency with stride 100...\n",
      "INFO - Calculating the temporal consistency with stride 1000...\n",
      "INFO - Calculating the temporal consistency with stride 10000...\n",
      "DEBUG - Reading WKT file...\n",
      "DEBUG - Validating polygons...\n",
      "INFO - Calculating the temporal consistency with stride 1...\n",
      "INFO - Calculating the temporal consistency with stride 10...\n",
      "INFO - Calculating the temporal consistency with stride 100...\n",
      "INFO - Calculating the temporal consistency with stride 1000...\n",
      "INFO - Calculating the temporal consistency with stride 10000...\n",
      "DEBUG - Reading WKT file...\n",
      "DEBUG - Validating polygons...\n",
      "INFO - Calculating the temporal consistency with stride 1...\n",
      "INFO - Calculating the temporal consistency with stride 10...\n",
      "INFO - Calculating the temporal consistency with stride 100...\n"
     ]
    }
   ],
   "source": [
    "\n",
    "# calculate temporal consistency for each model in each mode\n",
    "for wkt_file in wkt_files:\n",
    "    tc = strided_temp_consistency(\n",
    "        wkt_file=wkt_file,\n",
    "        num_polygons=[0,22500],\n",
    "        strides=strides\n",
    "    )\n",
    "    save_path = os.path.join(os.path.dirname(wkt_file), \"tc\")\n",
    "    save_results_to_csv(results=tc, base_filename=save_path)"
   ]
  }
 ],
 "metadata": {
  "kernelspec": {
   "display_name": "cvae",
   "language": "python",
   "name": "python3"
  },
  "language_info": {
   "codemirror_mode": {
    "name": "ipython",
    "version": 3
   },
   "file_extension": ".py",
   "mimetype": "text/x-python",
   "name": "python",
   "nbconvert_exporter": "python",
   "pygments_lexer": "ipython3",
   "version": "3.10.13"
  }
 },
 "nbformat": 4,
 "nbformat_minor": 2
}
