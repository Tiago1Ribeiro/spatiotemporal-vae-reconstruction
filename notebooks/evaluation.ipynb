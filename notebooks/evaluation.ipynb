{
 "cells": [
  {
   "cell_type": "markdown",
   "metadata": {},
   "source": [
    "## Libraries"
   ]
  },
  {
   "cell_type": "code",
   "execution_count": 13,
   "metadata": {},
   "outputs": [],
   "source": [
    "import os\n",
    "\n",
    "import cv2                                          \n",
    "import numpy as np                                                  \n",
    "import math                                         \n",
    "from glob import glob                              \n",
    "from PIL import Image                              \n",
    "import matplotlib.pyplot as plt\n",
    "# import scienceplots\n",
    "# plt.style.use(['science','no-latex'])\n",
    "# plt.style.use(['nature','no-latex'])\n",
    "from shapely import wkt              \n",
    "from shapely.geometry import Polygon, MultiPolygon, shape\n",
    "from shapely.affinity import scale\n",
    "from rasterio.features import shapes  \n",
    "from rasterio import Affine           \n",
    "from shapely.wkt import loads\n",
    "from shapely import hausdorff_distance\n",
    "from shapely.validation import make_valid\n",
    "# from shapely.geometry.base import geom_factory\n",
    "# from shapely.geos import lgeos\n",
    "# os.environ['USE_PYGEOS'] = '0'      # to avoid a bug in geopandas\n",
    "# import geopandas as gpd\n",
    "\n",
    "# Local Module Imports\n",
    "import sys\n",
    "sys.path.insert(0, '../src')\n",
    "from utils import wkt2masc, load_images_from_folder, frame_to_label\n",
    "\n",
    "import yaml"
   ]
  },
  {
   "cell_type": "markdown",
   "metadata": {},
   "source": [
    "## Data Sources"
   ]
  },
  {
   "cell_type": "code",
   "execution_count": 14,
   "metadata": {},
   "outputs": [],
   "source": [
    "# Base directory\n",
    "current_dir = os.getcwd()\n",
    "BASE_DIR = os.path.dirname(current_dir)\n",
    "# Output directory\n",
    "output_dir = '../outputs'\n",
    "# U-Net, Pyspatiotemporalgeom, Shape Based, CVAE output directories\n",
    "unet_dir = os.path.join(output_dir, 'unet')\n",
    "pstg_dir = os.path.join(output_dir, 'pstg')\n",
    "shpe_dir = os.path.join(output_dir, 'shape')\n",
    "cvae_dir = os.path.join(output_dir, 'CVAE')\n",
    "\n",
    "# Load config file\n",
    "config_file = os.path.join(BASE_DIR, 'config.yml')\n",
    "with open(config_file, \"r\", encoding=\"utf-8\") as f:\n",
    "    config = yaml.safe_load(f)"
   ]
  }
 ],
 "metadata": {
  "kernelspec": {
   "display_name": "cvae",
   "language": "python",
   "name": "python3"
  },
  "language_info": {
   "codemirror_mode": {
    "name": "ipython",
    "version": 3
   },
   "file_extension": ".py",
   "mimetype": "text/x-python",
   "name": "python",
   "nbconvert_exporter": "python",
   "pygments_lexer": "ipython3",
   "version": "3.10.13"
  }
 },
 "nbformat": 4,
 "nbformat_minor": 2
}
