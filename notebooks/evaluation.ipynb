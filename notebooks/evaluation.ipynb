{
 "cells": [
  {
   "cell_type": "markdown",
   "metadata": {},
   "source": [
    "## Libraries"
   ]
  },
  {
   "cell_type": "code",
   "execution_count": null,
   "metadata": {},
   "outputs": [],
   "source": [
    "import os\n",
    "os.environ['USE_PYGEOS'] = '0'      # to avoid a bug in geopandas\n",
    "import cv2                                          \n",
    "import numpy as np                                                  \n",
    "import math                                         \n",
    "from glob import glob                              \n",
    "from PIL import Image                              \n",
    "import matplotlib.pyplot as plt\n",
    "import scienceplots\n",
    "plt.style.use(['science','no-latex'])\n",
    "plt.style.use(['nature','no-latex'])\n",
    "from shapely import wkt              \n",
    "from shapely.geometry import Polygon, MultiPolygon, shape\n",
    "from shapely.affinity import scale\n",
    "from rasterio.features import shapes  \n",
    "from rasterio import Affine           \n",
    "from shapely.wkt import loads\n",
    "from shapely import hausdorff_distance\n",
    "# from shapely.geometry.base import geom_factory\n",
    "# from shapely.geos import lgeos\n",
    "from shapely.validation import make_valid\n",
    "import geopandas as gpd"
   ]
  },
  {
   "cell_type": "markdown",
   "metadata": {},
   "source": [
    "## Data Sources"
   ]
  },
  {
   "cell_type": "code",
   "execution_count": null,
   "metadata": {},
   "outputs": [],
   "source": [
    "# Output Directory\n",
    "output_dir = '../outputs'\n",
    "# U-Net, Pyspatiotemporalgeom, Shape Based, CVAE output directories\n",
    "unet_dir = os.path.join(output_dir, 'unet')\n",
    "pstg_dir = os.path.join(output_dir, 'pstg')\n",
    "shpe_dir = os.path.join(output_dir, 'shape')\n",
    "cvae_dir = os.path.join(output_dir, 'CVAE')"
   ]
  }
 ],
 "metadata": {
  "language_info": {
   "name": "python"
  }
 },
 "nbformat": 4,
 "nbformat_minor": 2
}
